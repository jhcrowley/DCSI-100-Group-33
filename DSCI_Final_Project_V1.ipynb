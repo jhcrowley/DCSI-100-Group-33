{
 "cells": [
  {
   "cell_type": "markdown",
   "id": "35d7fac7-6a61-457d-a6ab-2f37bc6868e5",
   "metadata": {},
   "source": [
    "### DSCI 100 008 Final Project\n",
    "# Title: What it takes to be Ballin': An analysis of NBA player statistics and their effect on salary.\n",
    "\n",
    "### Group 33: Paul Daoud | Ahnaf Kabir | Shawn Gabriel | Jackie Crowley"
   ]
  },
  {
   "cell_type": "markdown",
   "id": "2d1b58fc-7148-42bf-96e7-3dae06ac604a",
   "metadata": {},
   "source": [
    "### Introduction"
   ]
  },
  {
   "cell_type": "markdown",
   "id": "d5eb5d42-6c2b-4c40-8d4a-cb6678c87083",
   "metadata": {},
   "source": [
    "### Method and Results"
   ]
  },
  {
   "cell_type": "markdown",
   "id": "fda3f67c-1a3e-4d38-922c-fd71e9adf73f",
   "metadata": {},
   "source": [
    "### Analysis"
   ]
  },
  {
   "cell_type": "markdown",
   "id": "b891447b-a8e8-4400-9a43-e144a8e6d888",
   "metadata": {},
   "source": [
    "### Discussion"
   ]
  },
  {
   "cell_type": "markdown",
   "id": "37e5dbc5-e66d-426d-b72f-27ecff1e6d6f",
   "metadata": {},
   "source": [
    "### References"
   ]
  },
  {
   "cell_type": "code",
   "execution_count": null,
   "id": "c2fde351-57cf-4e15-a7e1-d9d6c817e174",
   "metadata": {},
   "outputs": [],
   "source": []
  }
 ],
 "metadata": {
  "kernelspec": {
   "display_name": "R",
   "language": "R",
   "name": "ir"
  },
  "language_info": {
   "codemirror_mode": "r",
   "file_extension": ".r",
   "mimetype": "text/x-r-source",
   "name": "R",
   "pygments_lexer": "r",
   "version": "3.6.1"
  }
 },
 "nbformat": 4,
 "nbformat_minor": 5
}
