{
 "cells": [
  {
   "cell_type": "markdown",
   "id": "35d7fac7-6a61-457d-a6ab-2f37bc6868e5",
   "metadata": {
    "editable": true,
    "slideshow": {
     "slide_type": ""
    },
    "tags": []
   },
   "source": [
    "### DSCI 100 008 Final Project\n",
    "# Title: What it takes to be Ballin': An analysis of NBA player statistics and their effect on salary.\n",
    "\n",
    "### Group 33: Paul Daoud | Ahnaf Kabir | Shawn Gabriel | Jackie Crowley"
   ]
  },
  {
   "cell_type": "markdown",
   "id": "2d1b58fc-7148-42bf-96e7-3dae06ac604a",
   "metadata": {},
   "source": [
    "### Introduction"
   ]
  },
  {
   "cell_type": "markdown",
   "id": "d5eb5d42-6c2b-4c40-8d4a-cb6678c87083",
   "metadata": {},
   "source": [
    "### Method and Results"
   ]
  },
  {
   "cell_type": "markdown",
   "id": "1f115a7b-83e8-4fef-8dae-e4d6790c3959",
   "metadata": {},
   "source": [
    "#### Importing Libraries\n",
    "We used functions from the `tidyverse` library to manipulate data frames and use KNN algorithms. "
   ]
  },
  {
   "cell_type": "code",
   "execution_count": 1,
   "id": "0b59f183-2de8-4848-872e-4fa056609499",
   "metadata": {},
   "outputs": [
    {
     "name": "stderr",
     "output_type": "stream",
     "text": [
      "-- \u001b[1mAttaching packages\u001b[22m --------------------------------------- tidyverse 1.2.1 --\n",
      "\n",
      "\u001b[32mv\u001b[39m \u001b[34mggplot2\u001b[39m 3.3.3     \u001b[32mv\u001b[39m \u001b[34mpurrr  \u001b[39m 0.3.4\n",
      "\u001b[32mv\u001b[39m \u001b[34mtibble \u001b[39m 3.1.2     \u001b[32mv\u001b[39m \u001b[34mdplyr  \u001b[39m 1.0.6\n",
      "\u001b[32mv\u001b[39m \u001b[34mtidyr  \u001b[39m 1.1.3     \u001b[32mv\u001b[39m \u001b[34mstringr\u001b[39m 1.4.0\n",
      "\u001b[32mv\u001b[39m \u001b[34mreadr  \u001b[39m 1.4.0     \u001b[32mv\u001b[39m \u001b[34mforcats\u001b[39m 0.5.1\n",
      "\n",
      "-- \u001b[1mConflicts\u001b[22m ------------------------------------------ tidyverse_conflicts() --\n",
      "\u001b[31mx\u001b[39m \u001b[34mdplyr\u001b[39m::\u001b[32mfilter()\u001b[39m masks \u001b[34mstats\u001b[39m::filter()\n",
      "\u001b[31mx\u001b[39m \u001b[34mdplyr\u001b[39m::\u001b[32mlag()\u001b[39m    masks \u001b[34mstats\u001b[39m::lag()\n",
      "\n"
     ]
    },
    {
     "ename": "ERROR",
     "evalue": "Error in library(tidymodels): there is no package called 'tidymodels'\n",
     "output_type": "error",
     "traceback": [
      "Error in library(tidymodels): there is no package called 'tidymodels'\nTraceback:\n",
      "1. library(tidymodels)"
     ]
    }
   ],
   "source": [
    "# importing libraries\n",
    "library(tidyverse)\n",
    "library(dplyr)\n",
    "library(tidymodels)"
   ]
  },
  {
   "cell_type": "code",
   "execution_count": 2,
   "id": "59d02671-7bd7-4851-91ef-51ef3171f525",
   "metadata": {},
   "outputs": [
    {
     "name": "stderr",
     "output_type": "stream",
     "text": [
      "\n",
      "Attaching package: 'reshape2'\n",
      "\n",
      "\n",
      "The following object is masked from 'package:tidyr':\n",
      "\n",
      "    smiths\n",
      "\n",
      "\n"
     ]
    }
   ],
   "source": [
    "library(reshape2)"
   ]
  },
  {
   "cell_type": "code",
   "execution_count": 3,
   "id": "df4edfc0-1397-45eb-85dd-5961a268d528",
   "metadata": {},
   "outputs": [
    {
     "ename": "ERROR",
     "evalue": "Error in library(rsample): there is no package called 'rsample'\n",
     "output_type": "error",
     "traceback": [
      "Error in library(rsample): there is no package called 'rsample'\nTraceback:\n",
      "1. library(rsample)"
     ]
    }
   ],
   "source": [
    "library(rsample)"
   ]
  },
  {
   "cell_type": "code",
   "execution_count": 5,
   "id": "d6b6816a-9de2-4c3b-bbf7-9fdc329f7fcc",
   "metadata": {},
   "outputs": [
    {
     "ename": "ERROR",
     "evalue": "Error in library(parsnip): there is no package called 'parsnip'\n",
     "output_type": "error",
     "traceback": [
      "Error in library(parsnip): there is no package called 'parsnip'\nTraceback:\n",
      "1. library(parsnip)"
     ]
    }
   ],
   "source": [
    "library(parsnip)"
   ]
  },
  {
   "cell_type": "markdown",
   "id": "4a6209a6-b75b-4742-b448-fa7a9a2a51f0",
   "metadata": {},
   "source": [
    "Overall Plan for the project:\n",
    "\n",
    "### 1. Data Cleaning and Preprocessing:\n",
    "- Check for missing values (none)\n",
    "- Index column can be removed\n",
    "- Ensure all data types are appropriate for analysis\n",
    "### 2. Exploratory Data Analysis (EDA):\n",
    "- Examine the distribution of key variables like salary, age, and performance metrics\n",
    "- Look for any outliers or anomalies\n",
    "- Exploratory Data Analysis (EDA): This would involve creating visualizations to understand the distribution of salaries, the relationship between different performance metrics and salary, etc.\n",
    "### 3. Correlation Analysis:\n",
    "- Investigate the correlation between different performance metrics and salaries (correlation matrix)\n",
    "- Identify top prospects for good salary predictors\n",
    "### 4. Feature Selection:\n",
    "- Based on the EDA and correlation analysis, select relevant features for modeling.\n",
    "- Consider excluding columns that may not contribute to the prediction of salary\n",
    "### 5. Modelling:\n",
    "- Regression models, start with linear regression and then see if more complex ones are necessary\n",
    "### 6. Model Evaluation:\n",
    "- Evaluate model's performance with RMSE\n",
    "- Check for underfitting or overfitting"
   ]
  },
  {
   "cell_type": "markdown",
   "id": "f5913390-93d2-4d7b-8d15-05902d784255",
   "metadata": {},
   "source": [
    "### 1. Data Cleaning and Preprocessing:\n",
    "- Check for missing values (none)\n",
    "- Index column can be removed\n",
    "- Ensure all data types are appropriate for analysis"
   ]
  },
  {
   "cell_type": "markdown",
   "id": "7f8dfaee-9019-4a6e-9221-8b8e3e80ba1d",
   "metadata": {},
   "source": [
    "To begin, we want to set the seed for reproducability, and load our dataset into the NBA_salary_data object."
   ]
  },
  {
   "cell_type": "code",
   "execution_count": 5,
   "id": "597919a8-692f-452e-b4d6-ac5ac07f17f6",
   "metadata": {},
   "outputs": [
    {
     "data": {
      "text/html": [
       "<table class=\"dataframe\">\n",
       "<caption>A data.frame: 6 × 52</caption>\n",
       "<thead>\n",
       "\t<tr><th></th><th scope=col>X</th><th scope=col>Player.Name</th><th scope=col>Salary</th><th scope=col>Position</th><th scope=col>Age</th><th scope=col>Team</th><th scope=col>GP</th><th scope=col>GS</th><th scope=col>MP</th><th scope=col>FG</th><th scope=col>...</th><th scope=col>TOV.</th><th scope=col>USG.</th><th scope=col>OWS</th><th scope=col>DWS</th><th scope=col>WS</th><th scope=col>WS.48</th><th scope=col>OBPM</th><th scope=col>DBPM</th><th scope=col>BPM</th><th scope=col>VORP</th></tr>\n",
       "\t<tr><th></th><th scope=col>&lt;int&gt;</th><th scope=col>&lt;fct&gt;</th><th scope=col>&lt;int&gt;</th><th scope=col>&lt;fct&gt;</th><th scope=col>&lt;int&gt;</th><th scope=col>&lt;fct&gt;</th><th scope=col>&lt;int&gt;</th><th scope=col>&lt;int&gt;</th><th scope=col>&lt;dbl&gt;</th><th scope=col>&lt;dbl&gt;</th><th scope=col>...</th><th scope=col>&lt;dbl&gt;</th><th scope=col>&lt;dbl&gt;</th><th scope=col>&lt;dbl&gt;</th><th scope=col>&lt;dbl&gt;</th><th scope=col>&lt;dbl&gt;</th><th scope=col>&lt;dbl&gt;</th><th scope=col>&lt;dbl&gt;</th><th scope=col>&lt;dbl&gt;</th><th scope=col>&lt;dbl&gt;</th><th scope=col>&lt;dbl&gt;</th></tr>\n",
       "</thead>\n",
       "<tbody>\n",
       "\t<tr><th scope=row>1</th><td>0</td><td>Stephen Curry    </td><td>48070014</td><td>PG</td><td>34</td><td>GSW    </td><td>56</td><td>56</td><td>34.7</td><td>10.0</td><td>...</td><td>12.5</td><td>31.0</td><td> 5.8</td><td>2.0</td><td>7.8</td><td>0.192</td><td> 7.5</td><td> 0.1</td><td> 7.5</td><td>4.7</td></tr>\n",
       "\t<tr><th scope=row>2</th><td>1</td><td>John Wall        </td><td>47345760</td><td>PG</td><td>32</td><td>LAC    </td><td>34</td><td> 3</td><td>22.2</td><td> 4.1</td><td>...</td><td>17.1</td><td>27.0</td><td>-0.4</td><td>0.7</td><td>0.3</td><td>0.020</td><td>-0.8</td><td>-0.4</td><td>-1.2</td><td>0.1</td></tr>\n",
       "\t<tr><th scope=row>3</th><td>2</td><td>Russell Westbrook</td><td>47080179</td><td>PG</td><td>34</td><td>LAL/LAC</td><td>73</td><td>24</td><td>29.1</td><td> 5.9</td><td>...</td><td>18.4</td><td>27.7</td><td>-0.6</td><td>2.6</td><td>1.9</td><td>0.044</td><td> 0.3</td><td>-0.1</td><td> 0.2</td><td>1.2</td></tr>\n",
       "\t<tr><th scope=row>4</th><td>3</td><td>LeBron James     </td><td>44474988</td><td>PF</td><td>38</td><td>LAL    </td><td>55</td><td>54</td><td>35.5</td><td>11.1</td><td>...</td><td>11.6</td><td>33.3</td><td> 3.2</td><td>2.4</td><td>5.6</td><td>0.138</td><td> 5.5</td><td> 0.6</td><td> 6.1</td><td>4.0</td></tr>\n",
       "\t<tr><th scope=row>5</th><td>4</td><td>Kevin Durant     </td><td>44119845</td><td>PF</td><td>34</td><td>BRK/PHO</td><td>47</td><td>47</td><td>35.6</td><td>10.3</td><td>...</td><td>13.4</td><td>30.7</td><td> 4.7</td><td>2.1</td><td>6.8</td><td>0.194</td><td> 6.0</td><td> 1.2</td><td> 7.1</td><td>3.9</td></tr>\n",
       "\t<tr><th scope=row>6</th><td>5</td><td>Bradley Beal     </td><td>43279250</td><td>SG</td><td>29</td><td>WAS    </td><td>50</td><td>50</td><td>33.5</td><td> 8.9</td><td>...</td><td>12.9</td><td>29.2</td><td> 2.2</td><td>1.2</td><td>3.4</td><td>0.099</td><td> 2.9</td><td>-1.2</td><td> 1.8</td><td>1.6</td></tr>\n",
       "</tbody>\n",
       "</table>\n"
      ],
      "text/latex": [
       "A data.frame: 6 × 52\n",
       "\\begin{tabular}{r|lllllllllllllllllllll}\n",
       "  & X & Player.Name & Salary & Position & Age & Team & GP & GS & MP & FG & ... & TOV. & USG. & OWS & DWS & WS & WS.48 & OBPM & DBPM & BPM & VORP\\\\\n",
       "  & <int> & <fct> & <int> & <fct> & <int> & <fct> & <int> & <int> & <dbl> & <dbl> & ... & <dbl> & <dbl> & <dbl> & <dbl> & <dbl> & <dbl> & <dbl> & <dbl> & <dbl> & <dbl>\\\\\n",
       "\\hline\n",
       "\t1 & 0 & Stephen Curry     & 48070014 & PG & 34 & GSW     & 56 & 56 & 34.7 & 10.0 & ... & 12.5 & 31.0 &  5.8 & 2.0 & 7.8 & 0.192 &  7.5 &  0.1 &  7.5 & 4.7\\\\\n",
       "\t2 & 1 & John Wall         & 47345760 & PG & 32 & LAC     & 34 &  3 & 22.2 &  4.1 & ... & 17.1 & 27.0 & -0.4 & 0.7 & 0.3 & 0.020 & -0.8 & -0.4 & -1.2 & 0.1\\\\\n",
       "\t3 & 2 & Russell Westbrook & 47080179 & PG & 34 & LAL/LAC & 73 & 24 & 29.1 &  5.9 & ... & 18.4 & 27.7 & -0.6 & 2.6 & 1.9 & 0.044 &  0.3 & -0.1 &  0.2 & 1.2\\\\\n",
       "\t4 & 3 & LeBron James      & 44474988 & PF & 38 & LAL     & 55 & 54 & 35.5 & 11.1 & ... & 11.6 & 33.3 &  3.2 & 2.4 & 5.6 & 0.138 &  5.5 &  0.6 &  6.1 & 4.0\\\\\n",
       "\t5 & 4 & Kevin Durant      & 44119845 & PF & 34 & BRK/PHO & 47 & 47 & 35.6 & 10.3 & ... & 13.4 & 30.7 &  4.7 & 2.1 & 6.8 & 0.194 &  6.0 &  1.2 &  7.1 & 3.9\\\\\n",
       "\t6 & 5 & Bradley Beal      & 43279250 & SG & 29 & WAS     & 50 & 50 & 33.5 &  8.9 & ... & 12.9 & 29.2 &  2.2 & 1.2 & 3.4 & 0.099 &  2.9 & -1.2 &  1.8 & 1.6\\\\\n",
       "\\end{tabular}\n"
      ],
      "text/markdown": [
       "\n",
       "A data.frame: 6 × 52\n",
       "\n",
       "| <!--/--> | X &lt;int&gt; | Player.Name &lt;fct&gt; | Salary &lt;int&gt; | Position &lt;fct&gt; | Age &lt;int&gt; | Team &lt;fct&gt; | GP &lt;int&gt; | GS &lt;int&gt; | MP &lt;dbl&gt; | FG &lt;dbl&gt; | ... ... | TOV. &lt;dbl&gt; | USG. &lt;dbl&gt; | OWS &lt;dbl&gt; | DWS &lt;dbl&gt; | WS &lt;dbl&gt; | WS.48 &lt;dbl&gt; | OBPM &lt;dbl&gt; | DBPM &lt;dbl&gt; | BPM &lt;dbl&gt; | VORP &lt;dbl&gt; |\n",
       "|---|---|---|---|---|---|---|---|---|---|---|---|---|---|---|---|---|---|---|---|---|---|\n",
       "| 1 | 0 | Stephen Curry     | 48070014 | PG | 34 | GSW     | 56 | 56 | 34.7 | 10.0 | ... | 12.5 | 31.0 |  5.8 | 2.0 | 7.8 | 0.192 |  7.5 |  0.1 |  7.5 | 4.7 |\n",
       "| 2 | 1 | John Wall         | 47345760 | PG | 32 | LAC     | 34 |  3 | 22.2 |  4.1 | ... | 17.1 | 27.0 | -0.4 | 0.7 | 0.3 | 0.020 | -0.8 | -0.4 | -1.2 | 0.1 |\n",
       "| 3 | 2 | Russell Westbrook | 47080179 | PG | 34 | LAL/LAC | 73 | 24 | 29.1 |  5.9 | ... | 18.4 | 27.7 | -0.6 | 2.6 | 1.9 | 0.044 |  0.3 | -0.1 |  0.2 | 1.2 |\n",
       "| 4 | 3 | LeBron James      | 44474988 | PF | 38 | LAL     | 55 | 54 | 35.5 | 11.1 | ... | 11.6 | 33.3 |  3.2 | 2.4 | 5.6 | 0.138 |  5.5 |  0.6 |  6.1 | 4.0 |\n",
       "| 5 | 4 | Kevin Durant      | 44119845 | PF | 34 | BRK/PHO | 47 | 47 | 35.6 | 10.3 | ... | 13.4 | 30.7 |  4.7 | 2.1 | 6.8 | 0.194 |  6.0 |  1.2 |  7.1 | 3.9 |\n",
       "| 6 | 5 | Bradley Beal      | 43279250 | SG | 29 | WAS     | 50 | 50 | 33.5 |  8.9 | ... | 12.9 | 29.2 |  2.2 | 1.2 | 3.4 | 0.099 |  2.9 | -1.2 |  1.8 | 1.6 |\n",
       "\n"
      ],
      "text/plain": [
       "  X Player.Name       Salary   Position Age Team    GP GS MP   FG   ... TOV.\n",
       "1 0 Stephen Curry     48070014 PG       34  GSW     56 56 34.7 10.0 ... 12.5\n",
       "2 1 John Wall         47345760 PG       32  LAC     34  3 22.2  4.1 ... 17.1\n",
       "3 2 Russell Westbrook 47080179 PG       34  LAL/LAC 73 24 29.1  5.9 ... 18.4\n",
       "4 3 LeBron James      44474988 PF       38  LAL     55 54 35.5 11.1 ... 11.6\n",
       "5 4 Kevin Durant      44119845 PF       34  BRK/PHO 47 47 35.6 10.3 ... 13.4\n",
       "6 5 Bradley Beal      43279250 SG       29  WAS     50 50 33.5  8.9 ... 12.9\n",
       "  USG. OWS  DWS WS  WS.48 OBPM DBPM BPM  VORP\n",
       "1 31.0  5.8 2.0 7.8 0.192  7.5  0.1  7.5 4.7 \n",
       "2 27.0 -0.4 0.7 0.3 0.020 -0.8 -0.4 -1.2 0.1 \n",
       "3 27.7 -0.6 2.6 1.9 0.044  0.3 -0.1  0.2 1.2 \n",
       "4 33.3  3.2 2.4 5.6 0.138  5.5  0.6  6.1 4.0 \n",
       "5 30.7  4.7 2.1 6.8 0.194  6.0  1.2  7.1 3.9 \n",
       "6 29.2  2.2 1.2 3.4 0.099  2.9 -1.2  1.8 1.6 "
      ]
     },
     "metadata": {},
     "output_type": "display_data"
    },
    {
     "name": "stdout",
     "output_type": "stream",
     "text": [
      "'data.frame':\t467 obs. of  52 variables:\n",
      " $ X            : int  0 1 2 3 4 5 6 7 8 9 ...\n",
      " $ Player.Name  : Factor w/ 467 levels \"Aaron Gordon\",..: 415 231 395 299 277 36 263 371 149 83 ...\n",
      " $ Salary       : int  48070014 47345760 47080179 44474988 44119845 43279250 42492492 42492492 42492492 42492492 ...\n",
      " $ Position     : Factor w/ 9 levels \"C\",\"PF\",\"PG\",..: 3 3 3 2 2 8 5 5 2 3 ...\n",
      " $ Age          : int  34 32 34 38 34 29 31 32 28 32 ...\n",
      " $ Team         : Factor w/ 75 levels \"ATL\",\"BOS\",\"BOS/OKC\",..: 27 34 39 37 10 74 34 34 47 66 ...\n",
      " $ GP           : int  56 34 73 55 47 50 52 56 63 58 ...\n",
      " $ GS           : int  56 3 24 54 47 50 50 56 63 58 ...\n",
      " $ MP           : num  34.7 22.2 29.1 35.5 35.6 33.5 33.6 34.6 32.1 36.3 ...\n",
      " $ FG           : num  10 4.1 5.9 11.1 10.3 8.9 8.6 8.2 11.2 9.6 ...\n",
      " $ FGA          : num  20.2 9.9 13.6 22.2 18.3 17.6 16.8 17.9 20.3 20.7 ...\n",
      " $ FG.          : num  0.493 0.408 0.436 0.5 0.56 0.506 0.512 0.457 0.553 0.463 ...\n",
      " $ X3P          : num  4.9 1 1.2 2.2 2 1.6 2 2.8 0.7 4.2 ...\n",
      " $ X3PA         : num  11.4 3.2 3.9 6.9 4.9 4.4 4.8 7.6 2.7 11.3 ...\n",
      " $ X3P.         : num  0.427 0.303 0.311 0.321 0.404 0.365 0.416 0.371 0.275 0.371 ...\n",
      " $ X2P          : num  5.1 3.1 4.7 8.9 8.3 7.3 6.6 5.4 10.5 5.4 ...\n",
      " $ X2PA         : num  8.8 6.7 9.7 15.3 13.4 13.2 11.9 10.3 17.6 9.4 ...\n",
      " $ X2P.         : num  0.579 0.459 0.487 0.58 0.617 0.552 0.551 0.521 0.596 0.574 ...\n",
      " $ eFG.         : num  0.614 0.457 0.481 0.549 0.614 0.551 0.572 0.536 0.572 0.564 ...\n",
      " $ FT           : num  4.6 2.3 2.8 4.6 6.5 3.8 4.7 4.6 7.9 8.8 ...\n",
      " $ FTA          : num  5 3.3 4.3 5.9 7.1 4.6 5.4 5.3 12.3 9.6 ...\n",
      " $ FT.          : num  0.915 0.681 0.656 0.768 0.919 0.842 0.871 0.871 0.645 0.914 ...\n",
      " $ ORB          : num  0.7 0.4 1.2 1.2 0.4 0.8 1.1 0.8 2.2 0.8 ...\n",
      " $ DRB          : num  5.4 2.3 4.6 7.1 6.3 3.1 5.4 5.3 9.6 4 ...\n",
      " $ TRB          : num  6.1 2.7 5.8 8.3 6.7 3.9 6.5 6.1 11.8 4.8 ...\n",
      " $ AST          : num  6.3 5.2 7.5 6.8 5 5.4 3.9 5.1 5.7 7.3 ...\n",
      " $ STL          : num  0.9 0.8 1 0.9 0.7 0.9 1.4 1.5 0.8 0.9 ...\n",
      " $ BLK          : num  0.4 0.4 0.5 0.6 1.4 0.7 0.5 0.4 0.8 0.3 ...\n",
      " $ TOV          : num  3.2 2.4 3.5 3.2 3.3 2.9 1.7 3.1 3.9 3.3 ...\n",
      " $ PF           : num  2.1 1.7 2.2 1.6 2.1 2.1 1.6 2.8 3.1 1.9 ...\n",
      " $ PTS          : num  29.4 11.4 15.9 28.9 29.1 23.2 23.8 23.8 31.1 32.2 ...\n",
      " $ Total.Minutes: int  1941 755 2126 1954 1672 1673 1748 1939 2024 2107 ...\n",
      " $ PER          : num  24.1 13.6 16.1 23.9 25.9 19.7 23.9 19.6 29 26.7 ...\n",
      " $ TS.          : num  0.656 0.498 0.513 0.583 0.677 0.593 0.623 0.588 0.605 0.645 ...\n",
      " $ X3PAr        : num  0.564 0.322 0.289 0.309 0.267 0.249 0.287 0.424 0.134 0.547 ...\n",
      " $ FTr          : num  0.248 0.334 0.317 0.268 0.387 0.26 0.32 0.293 0.604 0.464 ...\n",
      " $ ORB.         : num  2.3 2.1 4.7 3.7 1.2 2.8 3.7 2.6 7.3 2.4 ...\n",
      " $ DRB.         : num  16.8 11.4 16.5 20.8 19.5 9.9 17.8 17 30 12.8 ...\n",
      " $ TRB.         : num  9.7 6.8 10.8 12.5 10.5 6.5 10.8 9.9 19.1 7.6 ...\n",
      " $ AST.         : num  30 35.3 38.6 33.5 24.5 26.6 19.6 24.2 33.2 35 ...\n",
      " $ STL.         : num  1.3 1.8 1.7 1.2 1 1.3 2 2.1 1.2 1.2 ...\n",
      " $ BLK.         : num  0.9 1.4 1.3 1.4 3.4 1.7 1.4 0.9 2.1 0.8 ...\n",
      " $ TOV.         : num  12.5 17.1 18.4 11.6 13.4 12.9 8.1 13.4 13.2 11.7 ...\n",
      " $ USG.         : num  31 27 27.7 33.3 30.7 29.2 27 29.5 38.8 33.8 ...\n",
      " $ OWS          : num  5.8 -0.4 -0.6 3.2 4.7 2.2 4.9 2.3 4.9 8.2 ...\n",
      " $ DWS          : num  2 0.7 2.6 2.4 2.1 1.2 2.2 2.3 3.7 0.8 ...\n",
      " $ WS           : num  7.8 0.3 1.9 5.6 6.8 3.4 7.1 4.6 8.6 9 ...\n",
      " $ WS.48        : num  0.192 0.02 0.044 0.138 0.194 0.099 0.194 0.114 0.204 0.205 ...\n",
      " $ OBPM         : num  7.5 -0.8 0.3 5.5 6 2.9 5.1 2.4 5.8 8.3 ...\n",
      " $ DBPM         : num  0.1 -0.4 -0.1 0.6 1.2 -1.2 0.9 0.3 2.7 -1.2 ...\n",
      " $ BPM          : num  7.5 -1.2 0.2 6.1 7.1 1.8 6.1 2.8 8.5 7.1 ...\n",
      " $ VORP         : num  4.7 0.1 1.2 4 3.9 1.6 3.5 2.3 5.4 4.9 ...\n"
     ]
    },
    {
     "data": {
      "text/plain": [
       "       X                    Player.Name      Salary            Position  \n",
       " Min.   :  0.0   Aaron Gordon     :  1   Min.   :    5849   SG     :115  \n",
       " 1st Qu.:116.5   Aaron Holiday    :  1   1st Qu.: 1782621   C      : 91  \n",
       " Median :233.0   Aaron Nesmith    :  1   Median : 3722040   SF     : 91  \n",
       " Mean   :233.0   Aaron Wiggins    :  1   Mean   : 8416599   PF     : 86  \n",
       " 3rd Qu.:349.5   Admiral Schofield:  1   3rd Qu.:10633544   PG     : 77  \n",
       " Max.   :466.0   AJ Griffin       :  1   Max.   :48070014   PG-SG  :  2  \n",
       "                 (Other)          :461                      (Other):  5  \n",
       "      Age             Team           GP              GS              MP       \n",
       " Min.   :19.00   SAC    : 19   Min.   : 1.00   Min.   : 0.00   Min.   : 1.80  \n",
       " 1st Qu.:23.00   SAS    : 17   1st Qu.:31.00   1st Qu.: 1.00   1st Qu.:12.50  \n",
       " Median :25.00   WAS    : 17   Median :55.00   Median : 8.00   Median :19.20  \n",
       " Mean   :25.82   BOS    : 16   Mean   :48.23   Mean   :22.65   Mean   :19.87  \n",
       " 3rd Qu.:29.00   CLE    : 16   3rd Qu.:68.50   3rd Qu.:45.50   3rd Qu.:28.30  \n",
       " Max.   :42.00   MIL    : 16   Max.   :83.00   Max.   :83.00   Max.   :41.00  \n",
       "                 (Other):366                                                  \n",
       "       FG              FGA              FG.              X3P        \n",
       " Min.   : 0.000   Min.   : 0.000   Min.   :0.0000   Min.   :0.0000  \n",
       " 1st Qu.: 1.600   1st Qu.: 3.300   1st Qu.:0.4170   1st Qu.:0.3000  \n",
       " Median : 2.700   Median : 5.800   Median :0.4550   Median :0.8000  \n",
       " Mean   : 3.351   Mean   : 7.118   Mean   :0.4650   Mean   :0.9966  \n",
       " 3rd Qu.: 4.300   3rd Qu.: 9.400   3rd Qu.:0.5075   3rd Qu.:1.5000  \n",
       " Max.   :11.200   Max.   :22.200   Max.   :1.0000   Max.   :4.9000  \n",
       "                                   NA's   :1                        \n",
       "      X3PA             X3P.             X2P              X2PA       \n",
       " Min.   : 0.000   Min.   :0.0000   Min.   : 0.000   Min.   : 0.000  \n",
       " 1st Qu.: 1.000   1st Qu.:0.2880   1st Qu.: 0.900   1st Qu.: 1.800  \n",
       " Median : 2.400   Median :0.3445   Median : 1.700   Median : 3.200  \n",
       " Mean   : 2.793   Mean   :0.3251   Mean   : 2.357   Mean   : 4.325  \n",
       " 3rd Qu.: 4.150   3rd Qu.:0.3870   3rd Qu.: 3.300   3rd Qu.: 5.850  \n",
       " Max.   :11.400   Max.   :1.0000   Max.   :10.500   Max.   :17.800  \n",
       "                  NA's   :13                                        \n",
       "      X2P.             eFG.              FT              FTA        \n",
       " Min.   :0.0000   Min.   :0.0000   Min.   : 0.000   Min.   : 0.000  \n",
       " 1st Qu.:0.4870   1st Qu.:0.4938   1st Qu.: 0.500   1st Qu.: 0.600  \n",
       " Median :0.5370   Median :0.5375   Median : 0.900   Median : 1.200  \n",
       " Mean   :0.5335   Mean   :0.5343   Mean   : 1.436   Mean   : 1.848  \n",
       " 3rd Qu.:0.5945   3rd Qu.:0.5780   3rd Qu.: 1.850   3rd Qu.: 2.350  \n",
       " Max.   :1.0000   Max.   :1.0000   Max.   :10.000   Max.   :12.300  \n",
       " NA's   :4        NA's   :1                                         \n",
       "      FT.              ORB              DRB             TRB        \n",
       " Min.   :0.0000   Min.   :0.0000   Min.   :0.000   Min.   : 0.000  \n",
       " 1st Qu.:0.6910   1st Qu.:0.4000   1st Qu.:1.400   1st Qu.: 1.900  \n",
       " Median :0.7690   Median :0.7000   Median :2.300   Median : 3.000  \n",
       " Mean   :0.7535   Mean   :0.8668   Mean   :2.662   Mean   : 3.528  \n",
       " 3rd Qu.:0.8440   3rd Qu.:1.1000   3rd Qu.:3.500   3rd Qu.: 4.500  \n",
       " Max.   :1.0000   Max.   :5.1000   Max.   :9.600   Max.   :12.500  \n",
       " NA's   :23                                                        \n",
       "      AST              STL              BLK             TOV       \n",
       " Min.   : 0.000   Min.   :0.0000   Min.   :0.000   Min.   :0.000  \n",
       " 1st Qu.: 0.800   1st Qu.:0.3000   1st Qu.:0.100   1st Qu.:0.500  \n",
       " Median : 1.400   Median :0.6000   Median :0.300   Median :0.900  \n",
       " Mean   : 2.108   Mean   :0.6105   Mean   :0.379   Mean   :1.114  \n",
       " 3rd Qu.: 2.900   3rd Qu.:0.8000   3rd Qu.:0.500   3rd Qu.:1.500  \n",
       " Max.   :10.700   Max.   :3.0000   Max.   :2.500   Max.   :4.100  \n",
       "                                                                  \n",
       "       PF             PTS        Total.Minutes       PER        \n",
       " Min.   :0.000   Min.   : 0.00   Min.   :   2   Min.   :-20.90  \n",
       " 1st Qu.:1.200   1st Qu.: 4.10   1st Qu.: 341   1st Qu.: 10.10  \n",
       " Median :1.700   Median : 7.10   Median : 990   Median : 13.00  \n",
       " Mean   :1.703   Mean   : 9.13   Mean   :1110   Mean   : 13.28  \n",
       " 3rd Qu.:2.200   3rd Qu.:11.70   3rd Qu.:1842   3rd Qu.: 16.35  \n",
       " Max.   :5.000   Max.   :33.10   Max.   :2963   Max.   : 65.60  \n",
       "                                                                \n",
       "      TS.            X3PAr             FTr              ORB.       \n",
       " Min.   :0.000   Min.   :0.0000   Min.   :0.0000   Min.   : 0.000  \n",
       " 1st Qu.:0.524   1st Qu.:0.2682   1st Qu.:0.1432   1st Qu.: 2.100  \n",
       " Median :0.567   Median :0.4090   Median :0.2260   Median : 3.800  \n",
       " Mean   :0.563   Mean   :0.4037   Mean   :0.2497   Mean   : 5.243  \n",
       " 3rd Qu.:0.610   3rd Qu.:0.5457   3rd Qu.:0.3237   3rd Qu.: 7.100  \n",
       " Max.   :1.064   Max.   :1.0000   Max.   :2.0000   Max.   :28.800  \n",
       " NA's   :1       NA's   :1        NA's   :1                        \n",
       "      DRB.            TRB.            AST.            STL.       \n",
       " Min.   : 0.00   Min.   : 0.00   Min.   : 0.00   Min.   : 0.000  \n",
       " 1st Qu.:10.70   1st Qu.: 6.75   1st Qu.: 7.45   1st Qu.: 1.000  \n",
       " Median :13.50   Median : 9.00   Median :11.20   Median : 1.400  \n",
       " Mean   :14.88   Mean   :10.06   Mean   :13.56   Mean   : 1.524  \n",
       " 3rd Qu.:18.35   3rd Qu.:12.50   3rd Qu.:18.00   3rd Qu.: 1.700  \n",
       " Max.   :55.40   Max.   :29.60   Max.   :47.60   Max.   :24.200  \n",
       "                                                                 \n",
       "      BLK.             TOV.             USG.            OWS        \n",
       " Min.   : 0.000   Min.   :  0.00   Min.   : 5.10   Min.   :-1.900  \n",
       " 1st Qu.: 0.700   1st Qu.:  9.50   1st Qu.:14.30   1st Qu.: 0.000  \n",
       " Median : 1.200   Median : 11.90   Median :17.60   Median : 0.600  \n",
       " Mean   : 1.832   Mean   : 12.74   Mean   :18.43   Mean   : 1.208  \n",
       " 3rd Qu.: 2.350   3rd Qu.: 15.00   3rd Qu.:21.15   3rd Qu.: 1.800  \n",
       " Max.   :44.100   Max.   :100.00   Max.   :52.50   Max.   : 9.600  \n",
       "                                                                   \n",
       "      DWS              WS             WS.48               OBPM        \n",
       " Min.   :0.000   Min.   :-1.600   Min.   :-0.51700   Min.   :-22.500  \n",
       " 1st Qu.:0.300   1st Qu.: 0.300   1st Qu.: 0.04700   1st Qu.: -2.900  \n",
       " Median :0.900   Median : 1.500   Median : 0.08700   Median : -1.300  \n",
       " Mean   :1.121   Mean   : 2.329   Mean   : 0.08177   Mean   : -1.345  \n",
       " 3rd Qu.:1.800   3rd Qu.: 3.550   3rd Qu.: 0.12950   3rd Qu.:  0.450  \n",
       " Max.   :4.800   Max.   :12.600   Max.   : 0.62600   Max.   : 17.000  \n",
       "                                                                      \n",
       "      DBPM                BPM               VORP        \n",
       " Min.   :-10.40000   Min.   :-26.500   Min.   :-1.3000  \n",
       " 1st Qu.: -0.90000   1st Qu.: -3.300   1st Qu.:-0.1000  \n",
       " Median : -0.10000   Median : -1.300   Median : 0.1000  \n",
       " Mean   : -0.08715   Mean   : -1.433   Mean   : 0.5398  \n",
       " 3rd Qu.:  0.80000   3rd Qu.:  0.600   3rd Qu.: 0.8000  \n",
       " Max.   : 32.70000   Max.   : 48.600   Max.   : 6.4000  \n",
       "                                                        "
      ]
     },
     "metadata": {},
     "output_type": "display_data"
    }
   ],
   "source": [
    "set.seed(1234)\n",
    "\n",
    "NBA_salary_data <- read.csv(\"nba_players_stats_with_salary.csv\")\n",
    "\n",
    "head(NBA_salary_data)\n",
    "str(NBA_salary_data)\n",
    "summary(NBA_salary_data)"
   ]
  },
  {
   "cell_type": "markdown",
   "id": "ffbb4c0f-e732-426f-bb35-d141d26baf47",
   "metadata": {},
   "source": [
    "Right away, we notice a couple strange housekeeping issues. For example, in our original data file, all the column names were written our nicely. Yet when we loaded it into a data set, some column names have been changed. Because we are dealing with up to 52 columns, it is crucial that we are all on the same page with what these columns are named. Furthermore, some column names in the original file are not very R-friendly (such as \"3P%\"), let's change these to be descriptive and syntactically friendly. Let's see what they have been changed to and fix them accordingly"
   ]
  },
  {
   "cell_type": "code",
   "execution_count": 6,
   "id": "9e07ae64-2b97-4d30-94bf-e4af815613a8",
   "metadata": {},
   "outputs": [
    {
     "name": "stdout",
     "output_type": "stream",
     "text": [
      " [1] \"X\"             \"Player.Name\"   \"Salary\"        \"Position\"     \n",
      " [5] \"Age\"           \"Team\"          \"GP\"            \"GS\"           \n",
      " [9] \"MP\"            \"FG\"            \"FGA\"           \"FG.\"          \n",
      "[13] \"X3P\"           \"X3PA\"          \"X3P.\"          \"X2P\"          \n",
      "[17] \"X2PA\"          \"X2P.\"          \"eFG.\"          \"FT\"           \n",
      "[21] \"FTA\"           \"FT.\"           \"ORB\"           \"DRB\"          \n",
      "[25] \"TRB\"           \"AST\"           \"STL\"           \"BLK\"          \n",
      "[29] \"TOV\"           \"PF\"            \"PTS\"           \"Total.Minutes\"\n",
      "[33] \"PER\"           \"TS.\"           \"X3PAr\"         \"FTr\"          \n",
      "[37] \"ORB.\"          \"DRB.\"          \"TRB.\"          \"AST.\"         \n",
      "[41] \"STL.\"          \"BLK.\"          \"TOV.\"          \"USG.\"         \n",
      "[45] \"OWS\"           \"DWS\"           \"WS\"            \"WS.48\"        \n",
      "[49] \"OBPM\"          \"DBPM\"          \"BPM\"           \"VORP\"         \n"
     ]
    }
   ],
   "source": [
    "print(colnames(NBA_salary_data))"
   ]
  },
  {
   "cell_type": "code",
   "execution_count": 7,
   "id": "04bfb65a-2d98-4e05-949e-6da967905044",
   "metadata": {},
   "outputs": [],
   "source": [
    "names(NBA_salary_data)[names(NBA_salary_data) == \"Player.Name\"] <- \"Player_Name\"\n",
    "\n",
    "names(NBA_salary_data)[names(NBA_salary_data) == \"X\"] <- \"Index\"\n",
    "\n",
    "names(NBA_salary_data)[names(NBA_salary_data) == \"X3P\"] <- \"Three_Pts_Made\"\n",
    "\n",
    "names(NBA_salary_data)[names(NBA_salary_data) == \"X3PA\"] <- \"Three_Pt_Atmps\"\n",
    "\n",
    "names(NBA_salary_data)[names(NBA_salary_data) == \"X3P.\"] <- \"Three_Pt_Pct\"\n",
    "\n",
    "names(NBA_salary_data)[names(NBA_salary_data) == \"X2PA\"] <- \"Two_Pt_Atmps\"\n",
    "\n",
    "names(NBA_salary_data)[names(NBA_salary_data) == \"X2P\"] <- \"Two_Pt_Made\"\n",
    "\n",
    "names(NBA_salary_data)[names(NBA_salary_data) == \"X2P.\"] <- \"Two_Pt_Pct\"\n",
    "\n",
    "names(NBA_salary_data)[names(NBA_salary_data) == \"eFG.\"] <- \"eFG_Pct\"\n",
    "\n",
    "names(NBA_salary_data)[names(NBA_salary_data) == \"FT.\"] <- \"FT_Pct\"\n",
    "\n",
    "names(NBA_salary_data)[names(NBA_salary_data) == \"FG.\"] <- \"FG_Pct\"\n",
    "\n",
    "names(NBA_salary_data)[names(NBA_salary_data) == \"Total.Minutes\"] <- \"Total_Minutes\"\n",
    "\n",
    "names(NBA_salary_data)[names(NBA_salary_data) == \"TS.\"] <- \"TS_Pct\"\n",
    "\n",
    "names(NBA_salary_data)[names(NBA_salary_data) == \"X3PAr\"] <- \"Three_Pt_AR\"\n",
    "\n",
    "names(NBA_salary_data)[names(NBA_salary_data) == \"ORB.\"] <- \"ORB_Pct\"\n",
    "\n",
    "names(NBA_salary_data)[names(NBA_salary_data) == \"DRB.\"] <- \"DRB_Pct\"\n",
    "\n",
    "names(NBA_salary_data)[names(NBA_salary_data) == \"TRB.\"] <- \"TRB_Pct\"\n",
    "\n",
    "names(NBA_salary_data)[names(NBA_salary_data) == \"AST.\"] <- \"AST_Pct\"\n",
    "\n",
    "names(NBA_salary_data)[names(NBA_salary_data) == \"STL.\"] <- \"STL_Pct\"\n",
    "\n",
    "names(NBA_salary_data)[names(NBA_salary_data) == \"BLK.\"] <- \"BLK_Pct\"\n",
    "\n",
    "names(NBA_salary_data)[names(NBA_salary_data) == \"TOV.\"] <- \"TOV_Pct\"\n",
    "\n",
    "names(NBA_salary_data)[names(NBA_salary_data) == \"USG.\"] <- \"USG_Pct\"\n",
    "\n",
    "names(NBA_salary_data)[names(NBA_salary_data) == \"WS_48\"] <- \"WS_48M\""
   ]
  },
  {
   "cell_type": "code",
   "execution_count": 9,
   "id": "c401fb3a-5c99-48bc-8cc8-7675ef0c337c",
   "metadata": {},
   "outputs": [
    {
     "name": "stdout",
     "output_type": "stream",
     "text": [
      " [1] \"Index\"          \"Player_Name\"    \"Salary\"         \"Position\"      \n",
      " [5] \"Age\"            \"Team\"           \"GP\"             \"GS\"            \n",
      " [9] \"MP\"             \"FG\"             \"FGA\"            \"FG_Pct\"        \n",
      "[13] \"Three_Pts_Made\" \"Three_Pt_Atmps\" \"Three_Pt_Pct\"   \"Two_Pt_Made\"   \n",
      "[17] \"Two_Pt_Atmps\"   \"Two_Pt_Pct\"     \"eFG_Pct\"        \"FT\"            \n",
      "[21] \"FTA\"            \"FT_Pct\"         \"ORB\"            \"DRB\"           \n",
      "[25] \"TRB\"            \"AST\"            \"STL\"            \"BLK\"           \n",
      "[29] \"TOV\"            \"PF\"             \"PTS\"            \"Total_Minutes\" \n",
      "[33] \"PER\"            \"TS_Pct\"         \"Three_Pt_AR\"    \"FTr\"           \n",
      "[37] \"ORB_Pct\"        \"DRB_Pct\"        \"TRB_Pct\"        \"AST_Pct\"       \n",
      "[41] \"STL_Pct\"        \"BLK_Pct\"        \"TOV_Pct\"        \"USG_Pct\"       \n",
      "[45] \"OWS\"            \"DWS\"            \"WS\"             \"WS.48\"         \n",
      "[49] \"OBPM\"           \"DBPM\"           \"BPM\"            \"VORP\"          \n"
     ]
    }
   ],
   "source": [
    "print(colnames(NBA_salary_data))"
   ]
  },
  {
   "cell_type": "markdown",
   "id": "84e2d81a-b866-4587-9df4-f13112eab557",
   "metadata": {},
   "source": [
    "MUCH better. It was a bit tedious, but it will make our work later on a lot easier and less prone to errors. Let's continue."
   ]
  },
  {
   "cell_type": "markdown",
   "id": "503054ba-c331-49d7-a0aa-518f4fdd3971",
   "metadata": {},
   "source": [
    "Now, let's check if there are any duplicate entries or columns. "
   ]
  },
  {
   "cell_type": "code",
   "execution_count": 10,
   "id": "3d700954-06df-4e8b-a833-21e3884df394",
   "metadata": {},
   "outputs": [
    {
     "name": "stderr",
     "output_type": "stream",
     "text": [
      "Warning message in cbind(parts$left, chars$ellip_h, parts$right, deparse.level = 0L):\n",
      "\"number of rows of result is not a multiple of vector length (arg 2)\"\n",
      "Warning message in cbind(parts$left, chars$ellip_h, parts$right, deparse.level = 0L):\n",
      "\"number of rows of result is not a multiple of vector length (arg 2)\"\n",
      "Warning message in cbind(parts$left, chars$ellip_h, parts$right, deparse.level = 0L):\n",
      "\"number of rows of result is not a multiple of vector length (arg 2)\"\n",
      "Warning message in cbind(parts$left, chars$ellip_h, parts$right, deparse.level = 0L):\n",
      "\"number of rows of result is not a multiple of vector length (arg 2)\"\n"
     ]
    },
    {
     "data": {
      "text/html": [
       "<table class=\"dataframe\">\n",
       "<caption>A data.frame: 0 × 52</caption>\n",
       "<thead>\n",
       "\t<tr><th scope=col>Index</th><th scope=col>Player_Name</th><th scope=col>Salary</th><th scope=col>Position</th><th scope=col>Age</th><th scope=col>Team</th><th scope=col>GP</th><th scope=col>GS</th><th scope=col>MP</th><th scope=col>FG</th><th scope=col>...</th><th scope=col>TOV_Pct</th><th scope=col>USG_Pct</th><th scope=col>OWS</th><th scope=col>DWS</th><th scope=col>WS</th><th scope=col>WS.48</th><th scope=col>OBPM</th><th scope=col>DBPM</th><th scope=col>BPM</th><th scope=col>VORP</th></tr>\n",
       "\t<tr><th scope=col>&lt;int&gt;</th><th scope=col>&lt;fct&gt;</th><th scope=col>&lt;int&gt;</th><th scope=col>&lt;fct&gt;</th><th scope=col>&lt;int&gt;</th><th scope=col>&lt;fct&gt;</th><th scope=col>&lt;int&gt;</th><th scope=col>&lt;int&gt;</th><th scope=col>&lt;dbl&gt;</th><th scope=col>&lt;dbl&gt;</th><th scope=col>...</th><th scope=col>&lt;dbl&gt;</th><th scope=col>&lt;dbl&gt;</th><th scope=col>&lt;dbl&gt;</th><th scope=col>&lt;dbl&gt;</th><th scope=col>&lt;dbl&gt;</th><th scope=col>&lt;dbl&gt;</th><th scope=col>&lt;dbl&gt;</th><th scope=col>&lt;dbl&gt;</th><th scope=col>&lt;dbl&gt;</th><th scope=col>&lt;dbl&gt;</th></tr>\n",
       "</thead>\n",
       "<tbody>\n",
       "</tbody>\n",
       "</table>\n"
      ],
      "text/latex": [
       "A data.frame: 0 × 52\n",
       "\\begin{tabular}{lllllllllllllllllllll}\n",
       " Index & Player\\_Name & Salary & Position & Age & Team & GP & GS & MP & FG & ... & TOV\\_Pct & USG\\_Pct & OWS & DWS & WS & WS.48 & OBPM & DBPM & BPM & VORP\\\\\n",
       " <int> & <fct> & <int> & <fct> & <int> & <fct> & <int> & <int> & <dbl> & <dbl> & ... & <dbl> & <dbl> & <dbl> & <dbl> & <dbl> & <dbl> & <dbl> & <dbl> & <dbl> & <dbl>\\\\\n",
       "\\hline\n",
       "\\end{tabular}\n"
      ],
      "text/markdown": [
       "\n",
       "A data.frame: 0 × 52\n",
       "\n",
       "| Index &lt;int&gt; | Player_Name &lt;fct&gt; | Salary &lt;int&gt; | Position &lt;fct&gt; | Age &lt;int&gt; | Team &lt;fct&gt; | GP &lt;int&gt; | GS &lt;int&gt; | MP &lt;dbl&gt; | FG &lt;dbl&gt; | ... ... | TOV_Pct &lt;dbl&gt; | USG_Pct &lt;dbl&gt; | OWS &lt;dbl&gt; | DWS &lt;dbl&gt; | WS &lt;dbl&gt; | WS.48 &lt;dbl&gt; | OBPM &lt;dbl&gt; | DBPM &lt;dbl&gt; | BPM &lt;dbl&gt; | VORP &lt;dbl&gt; |\n",
       "|---|---|---|---|---|---|---|---|---|---|---|---|---|---|---|---|---|---|---|---|---|\n",
       "\n"
      ],
      "text/plain": [
       "     Index Player_Name Salary Position Age Team GP GS MP FG ... TOV_Pct USG_Pct\n",
       "     OWS DWS WS WS.48 OBPM DBPM BPM VORP"
      ]
     },
     "metadata": {},
     "output_type": "display_data"
    },
    {
     "name": "stdout",
     "output_type": "stream",
     "text": [
      "[1] \"Number of duplicate rows: 0\"\n"
     ]
    }
   ],
   "source": [
    "# Check for duplicate rows\n",
    "duplicate_rows <- NBA_salary_data[duplicated(NBA_salary_data), ]\n",
    "\n",
    "# View the duplicate rows\n",
    "head(duplicate_rows)\n",
    "\n",
    "# Count the number of duplicate rows\n",
    "num_duplicate_rows <- nrow(duplicate_rows)\n",
    "print(paste(\"Number of duplicate rows:\", num_duplicate_rows))"
   ]
  },
  {
   "cell_type": "markdown",
   "id": "cb6b639d-9bed-4825-992f-2128724aa965",
   "metadata": {},
   "source": [
    "Great! We do not have any duplicate rows!\n",
    "\n",
    "Now, let's check to see if there are any missing cells (cells labeled 'NA\")."
   ]
  },
  {
   "cell_type": "code",
   "execution_count": 11,
   "id": "2fe63d94-8c71-44b7-905d-f3b14447cc28",
   "metadata": {},
   "outputs": [
    {
     "data": {
      "text/html": [
       "45"
      ],
      "text/latex": [
       "45"
      ],
      "text/markdown": [
       "45"
      ],
      "text/plain": [
       "[1] 45"
      ]
     },
     "metadata": {},
     "output_type": "display_data"
    }
   ],
   "source": [
    "sum(is.na(NBA_salary_data))"
   ]
  },
  {
   "cell_type": "markdown",
   "id": "44ebcd09-3a34-4cda-8b36-7bb1ebb35eb3",
   "metadata": {},
   "source": [
    "45 is a lot of missing cells. We must deal with this. I have a guess as to why though. It's due to the nature of some of our columns, specifically the ones that are percentages (such as Free-Throw %). Certain players in the NBA could go the entire season without getting much playing time, and therefore not even attempting a certain type of shot. For example, perhaps a Center who is the 4th option on the team will likely get very minimal playing time, and it is even more unlikely that during their very limited playing time, they are in a position to shoot a 3-Pointer. This would result in their 3-Pt percentage being \"NA\" since there were no attempts. \n",
    "\n",
    "Let's isolate these specific cells to get a better look. "
   ]
  },
  {
   "cell_type": "code",
   "execution_count": 12,
   "id": "0ef8965b-f408-4078-8594-14df8e7df9c4",
   "metadata": {},
   "outputs": [
    {
     "data": {
      "text/html": [
       "<table class=\"dataframe\">\n",
       "<caption>A data.frame: 34 × 9</caption>\n",
       "<thead>\n",
       "\t<tr><th scope=col>Player_Name</th><th scope=col>FG_Pct</th><th scope=col>Three_Pt_Pct</th><th scope=col>Two_Pt_Pct</th><th scope=col>eFG_Pct</th><th scope=col>FT_Pct</th><th scope=col>TS_Pct</th><th scope=col>Three_Pt_AR</th><th scope=col>FTr</th></tr>\n",
       "\t<tr><th scope=col>&lt;fct&gt;</th><th scope=col>&lt;dbl&gt;</th><th scope=col>&lt;dbl&gt;</th><th scope=col>&lt;dbl&gt;</th><th scope=col>&lt;dbl&gt;</th><th scope=col>&lt;dbl&gt;</th><th scope=col>&lt;dbl&gt;</th><th scope=col>&lt;dbl&gt;</th><th scope=col>&lt;dbl&gt;</th></tr>\n",
       "</thead>\n",
       "<tbody>\n",
       "\t<tr><td>Mitchell Robinson</td><td>0.671</td><td>   NA</td><td>0.671</td><td>0.671</td><td>0.484</td><td>0.652</td><td>0.000</td><td>0.436</td></tr>\n",
       "\t<tr><td>Mason Plumlee    </td><td>0.680</td><td>   NA</td><td>0.680</td><td>0.680</td><td>0.636</td><td>0.689</td><td>0.000</td><td>0.647</td></tr>\n",
       "\t<tr><td>Dylan Windler    </td><td>0.667</td><td>0.500</td><td>1.000</td><td>0.833</td><td>   NA</td><td>0.833</td><td>0.667</td><td>0.000</td></tr>\n",
       "\t<tr><td>Mark Williams    </td><td>0.637</td><td>   NA</td><td>0.637</td><td>0.637</td><td>0.691</td><td>0.659</td><td>0.000</td><td>0.386</td></tr>\n",
       "\t<tr><td>Sterling Brown   </td><td>0.000</td><td>0.000</td><td>0.000</td><td>0.000</td><td>   NA</td><td>0.000</td><td>0.500</td><td>0.000</td></tr>\n",
       "\t<tr><td>Joe Wieskamp     </td><td>0.214</td><td>0.250</td><td>0.000</td><td>0.321</td><td>   NA</td><td>0.321</td><td>0.857</td><td>0.000</td></tr>\n",
       "\t<tr><td>Bismack Biyombo  </td><td>0.578</td><td>   NA</td><td>0.578</td><td>0.578</td><td>0.357</td><td>0.555</td><td>0.000</td><td>0.340</td></tr>\n",
       "\t<tr><td>Udoka Azubuike   </td><td>0.819</td><td>   NA</td><td>0.819</td><td>0.819</td><td>0.350</td><td>0.774</td><td>0.000</td><td>0.278</td></tr>\n",
       "\t<tr><td>Daniel Gafford   </td><td>0.732</td><td>   NA</td><td>0.732</td><td>0.732</td><td>0.679</td><td>0.739</td><td>0.000</td><td>0.473</td></tr>\n",
       "\t<tr><td>Ryan Arcidiacono </td><td>0.243</td><td>0.348</td><td>0.071</td><td>0.351</td><td>   NA</td><td>0.351</td><td>0.622</td><td>0.000</td></tr>\n",
       "\t<tr><td>Leandro Bolmaro  </td><td>0.150</td><td>0.000</td><td>0.188</td><td>0.150</td><td>   NA</td><td>0.150</td><td>0.200</td><td>0.000</td></tr>\n",
       "\t<tr><td>Jared Butler     </td><td>0.469</td><td>0.500</td><td>0.444</td><td>0.578</td><td>   NA</td><td>0.578</td><td>0.438</td><td>0.000</td></tr>\n",
       "\t<tr><td>Justin Champagnie</td><td>0.333</td><td>0.200</td><td>0.400</td><td>0.367</td><td>   NA</td><td>0.367</td><td>0.333</td><td>0.000</td></tr>\n",
       "\t<tr><td>Moses Brown      </td><td>0.635</td><td>   NA</td><td>0.635</td><td>0.635</td><td>0.458</td><td>0.607</td><td>0.000</td><td>0.750</td></tr>\n",
       "\t<tr><td>PJ Dozier        </td><td>0.303</td><td>0.125</td><td>0.471</td><td>0.333</td><td>   NA</td><td>0.333</td><td>0.485</td><td>0.000</td></tr>\n",
       "\t<tr><td>Trevor Keels     </td><td>0.250</td><td>0.250</td><td>   NA</td><td>0.375</td><td>   NA</td><td>0.375</td><td>1.000</td><td>0.000</td></tr>\n",
       "\t<tr><td>Dereon Seabron   </td><td>0.400</td><td>   NA</td><td>0.400</td><td>0.400</td><td>   NA</td><td>0.400</td><td>0.000</td><td>0.000</td></tr>\n",
       "\t<tr><td>Malcolm Hill     </td><td>0.500</td><td>0.333</td><td>1.000</td><td>0.625</td><td>   NA</td><td>0.625</td><td>0.750</td><td>0.000</td></tr>\n",
       "\t<tr><td>Cole Swider      </td><td>0.333</td><td>0.375</td><td>0.000</td><td>0.500</td><td>   NA</td><td>0.500</td><td>0.889</td><td>0.000</td></tr>\n",
       "\t<tr><td>Neemias Queta    </td><td>0.667</td><td>   NA</td><td>0.667</td><td>0.667</td><td>0.000</td><td>0.607</td><td>0.000</td><td>0.222</td></tr>\n",
       "\t<tr><td>Micah Potter     </td><td>0.667</td><td>0.571</td><td>0.750</td><td>0.800</td><td>   NA</td><td>0.800</td><td>0.467</td><td>0.000</td></tr>\n",
       "\t<tr><td>Chima Moneke     </td><td>0.500</td><td>   NA</td><td>0.500</td><td>0.500</td><td>0.000</td><td>0.347</td><td>0.000</td><td>1.000</td></tr>\n",
       "\t<tr><td>Alondes Williams </td><td>   NA</td><td>   NA</td><td>   NA</td><td>   NA</td><td>   NA</td><td>   NA</td><td>   NA</td><td>   NA</td></tr>\n",
       "\t<tr><td>Donovan Williams </td><td>0.400</td><td>0.000</td><td>0.667</td><td>0.400</td><td>   NA</td><td>0.400</td><td>0.400</td><td>0.000</td></tr>\n",
       "\t<tr><td>Chris Silva      </td><td>1.000</td><td>   NA</td><td>1.000</td><td>1.000</td><td>   NA</td><td>1.000</td><td>0.000</td><td>0.000</td></tr>\n",
       "\t<tr><td>Tyler Dorsey     </td><td>0.800</td><td>0.500</td><td>1.000</td><td>0.900</td><td>   NA</td><td>0.900</td><td>0.400</td><td>0.000</td></tr>\n",
       "\t<tr><td>Braxton Key      </td><td>1.000</td><td>   NA</td><td>1.000</td><td>1.000</td><td>1.000</td><td>1.064</td><td>0.000</td><td>2.000</td></tr>\n",
       "\t<tr><td>Devon Dotson     </td><td>0.100</td><td>0.250</td><td>0.000</td><td>0.150</td><td>   NA</td><td>0.150</td><td>0.400</td><td>0.000</td></tr>\n",
       "\t<tr><td>Xavier Moon      </td><td>0.333</td><td>0.333</td><td>0.333</td><td>0.389</td><td>   NA</td><td>0.389</td><td>0.333</td><td>0.000</td></tr>\n",
       "\t<tr><td>Frank Jackson    </td><td>0.000</td><td>0.000</td><td>0.000</td><td>0.000</td><td>   NA</td><td>0.000</td><td>0.333</td><td>0.000</td></tr>\n",
       "\t<tr><td>Deonte Burton    </td><td>0.000</td><td>0.000</td><td>0.000</td><td>0.000</td><td>   NA</td><td>0.000</td><td>0.500</td><td>0.000</td></tr>\n",
       "\t<tr><td>Jordan Schakel   </td><td>0.500</td><td>1.000</td><td>0.000</td><td>0.750</td><td>   NA</td><td>0.750</td><td>0.500</td><td>0.000</td></tr>\n",
       "\t<tr><td>Stanley Umude    </td><td>0.000</td><td>0.000</td><td>   NA</td><td>0.000</td><td>1.000</td><td>0.532</td><td>1.000</td><td>2.000</td></tr>\n",
       "\t<tr><td>Jacob Gilyard    </td><td>0.333</td><td>0.333</td><td>   NA</td><td>0.500</td><td>   NA</td><td>0.500</td><td>1.000</td><td>0.000</td></tr>\n",
       "</tbody>\n",
       "</table>\n"
      ],
      "text/latex": [
       "A data.frame: 34 × 9\n",
       "\\begin{tabular}{lllllllll}\n",
       " Player\\_Name & FG\\_Pct & Three\\_Pt\\_Pct & Two\\_Pt\\_Pct & eFG\\_Pct & FT\\_Pct & TS\\_Pct & Three\\_Pt\\_AR & FTr\\\\\n",
       " <fct> & <dbl> & <dbl> & <dbl> & <dbl> & <dbl> & <dbl> & <dbl> & <dbl>\\\\\n",
       "\\hline\n",
       "\t Mitchell Robinson & 0.671 &    NA & 0.671 & 0.671 & 0.484 & 0.652 & 0.000 & 0.436\\\\\n",
       "\t Mason Plumlee     & 0.680 &    NA & 0.680 & 0.680 & 0.636 & 0.689 & 0.000 & 0.647\\\\\n",
       "\t Dylan Windler     & 0.667 & 0.500 & 1.000 & 0.833 &    NA & 0.833 & 0.667 & 0.000\\\\\n",
       "\t Mark Williams     & 0.637 &    NA & 0.637 & 0.637 & 0.691 & 0.659 & 0.000 & 0.386\\\\\n",
       "\t Sterling Brown    & 0.000 & 0.000 & 0.000 & 0.000 &    NA & 0.000 & 0.500 & 0.000\\\\\n",
       "\t Joe Wieskamp      & 0.214 & 0.250 & 0.000 & 0.321 &    NA & 0.321 & 0.857 & 0.000\\\\\n",
       "\t Bismack Biyombo   & 0.578 &    NA & 0.578 & 0.578 & 0.357 & 0.555 & 0.000 & 0.340\\\\\n",
       "\t Udoka Azubuike    & 0.819 &    NA & 0.819 & 0.819 & 0.350 & 0.774 & 0.000 & 0.278\\\\\n",
       "\t Daniel Gafford    & 0.732 &    NA & 0.732 & 0.732 & 0.679 & 0.739 & 0.000 & 0.473\\\\\n",
       "\t Ryan Arcidiacono  & 0.243 & 0.348 & 0.071 & 0.351 &    NA & 0.351 & 0.622 & 0.000\\\\\n",
       "\t Leandro Bolmaro   & 0.150 & 0.000 & 0.188 & 0.150 &    NA & 0.150 & 0.200 & 0.000\\\\\n",
       "\t Jared Butler      & 0.469 & 0.500 & 0.444 & 0.578 &    NA & 0.578 & 0.438 & 0.000\\\\\n",
       "\t Justin Champagnie & 0.333 & 0.200 & 0.400 & 0.367 &    NA & 0.367 & 0.333 & 0.000\\\\\n",
       "\t Moses Brown       & 0.635 &    NA & 0.635 & 0.635 & 0.458 & 0.607 & 0.000 & 0.750\\\\\n",
       "\t PJ Dozier         & 0.303 & 0.125 & 0.471 & 0.333 &    NA & 0.333 & 0.485 & 0.000\\\\\n",
       "\t Trevor Keels      & 0.250 & 0.250 &    NA & 0.375 &    NA & 0.375 & 1.000 & 0.000\\\\\n",
       "\t Dereon Seabron    & 0.400 &    NA & 0.400 & 0.400 &    NA & 0.400 & 0.000 & 0.000\\\\\n",
       "\t Malcolm Hill      & 0.500 & 0.333 & 1.000 & 0.625 &    NA & 0.625 & 0.750 & 0.000\\\\\n",
       "\t Cole Swider       & 0.333 & 0.375 & 0.000 & 0.500 &    NA & 0.500 & 0.889 & 0.000\\\\\n",
       "\t Neemias Queta     & 0.667 &    NA & 0.667 & 0.667 & 0.000 & 0.607 & 0.000 & 0.222\\\\\n",
       "\t Micah Potter      & 0.667 & 0.571 & 0.750 & 0.800 &    NA & 0.800 & 0.467 & 0.000\\\\\n",
       "\t Chima Moneke      & 0.500 &    NA & 0.500 & 0.500 & 0.000 & 0.347 & 0.000 & 1.000\\\\\n",
       "\t Alondes Williams  &    NA &    NA &    NA &    NA &    NA &    NA &    NA &    NA\\\\\n",
       "\t Donovan Williams  & 0.400 & 0.000 & 0.667 & 0.400 &    NA & 0.400 & 0.400 & 0.000\\\\\n",
       "\t Chris Silva       & 1.000 &    NA & 1.000 & 1.000 &    NA & 1.000 & 0.000 & 0.000\\\\\n",
       "\t Tyler Dorsey      & 0.800 & 0.500 & 1.000 & 0.900 &    NA & 0.900 & 0.400 & 0.000\\\\\n",
       "\t Braxton Key       & 1.000 &    NA & 1.000 & 1.000 & 1.000 & 1.064 & 0.000 & 2.000\\\\\n",
       "\t Devon Dotson      & 0.100 & 0.250 & 0.000 & 0.150 &    NA & 0.150 & 0.400 & 0.000\\\\\n",
       "\t Xavier Moon       & 0.333 & 0.333 & 0.333 & 0.389 &    NA & 0.389 & 0.333 & 0.000\\\\\n",
       "\t Frank Jackson     & 0.000 & 0.000 & 0.000 & 0.000 &    NA & 0.000 & 0.333 & 0.000\\\\\n",
       "\t Deonte Burton     & 0.000 & 0.000 & 0.000 & 0.000 &    NA & 0.000 & 0.500 & 0.000\\\\\n",
       "\t Jordan Schakel    & 0.500 & 1.000 & 0.000 & 0.750 &    NA & 0.750 & 0.500 & 0.000\\\\\n",
       "\t Stanley Umude     & 0.000 & 0.000 &    NA & 0.000 & 1.000 & 0.532 & 1.000 & 2.000\\\\\n",
       "\t Jacob Gilyard     & 0.333 & 0.333 &    NA & 0.500 &    NA & 0.500 & 1.000 & 0.000\\\\\n",
       "\\end{tabular}\n"
      ],
      "text/markdown": [
       "\n",
       "A data.frame: 34 × 9\n",
       "\n",
       "| Player_Name &lt;fct&gt; | FG_Pct &lt;dbl&gt; | Three_Pt_Pct &lt;dbl&gt; | Two_Pt_Pct &lt;dbl&gt; | eFG_Pct &lt;dbl&gt; | FT_Pct &lt;dbl&gt; | TS_Pct &lt;dbl&gt; | Three_Pt_AR &lt;dbl&gt; | FTr &lt;dbl&gt; |\n",
       "|---|---|---|---|---|---|---|---|---|\n",
       "| Mitchell Robinson | 0.671 |    NA | 0.671 | 0.671 | 0.484 | 0.652 | 0.000 | 0.436 |\n",
       "| Mason Plumlee     | 0.680 |    NA | 0.680 | 0.680 | 0.636 | 0.689 | 0.000 | 0.647 |\n",
       "| Dylan Windler     | 0.667 | 0.500 | 1.000 | 0.833 |    NA | 0.833 | 0.667 | 0.000 |\n",
       "| Mark Williams     | 0.637 |    NA | 0.637 | 0.637 | 0.691 | 0.659 | 0.000 | 0.386 |\n",
       "| Sterling Brown    | 0.000 | 0.000 | 0.000 | 0.000 |    NA | 0.000 | 0.500 | 0.000 |\n",
       "| Joe Wieskamp      | 0.214 | 0.250 | 0.000 | 0.321 |    NA | 0.321 | 0.857 | 0.000 |\n",
       "| Bismack Biyombo   | 0.578 |    NA | 0.578 | 0.578 | 0.357 | 0.555 | 0.000 | 0.340 |\n",
       "| Udoka Azubuike    | 0.819 |    NA | 0.819 | 0.819 | 0.350 | 0.774 | 0.000 | 0.278 |\n",
       "| Daniel Gafford    | 0.732 |    NA | 0.732 | 0.732 | 0.679 | 0.739 | 0.000 | 0.473 |\n",
       "| Ryan Arcidiacono  | 0.243 | 0.348 | 0.071 | 0.351 |    NA | 0.351 | 0.622 | 0.000 |\n",
       "| Leandro Bolmaro   | 0.150 | 0.000 | 0.188 | 0.150 |    NA | 0.150 | 0.200 | 0.000 |\n",
       "| Jared Butler      | 0.469 | 0.500 | 0.444 | 0.578 |    NA | 0.578 | 0.438 | 0.000 |\n",
       "| Justin Champagnie | 0.333 | 0.200 | 0.400 | 0.367 |    NA | 0.367 | 0.333 | 0.000 |\n",
       "| Moses Brown       | 0.635 |    NA | 0.635 | 0.635 | 0.458 | 0.607 | 0.000 | 0.750 |\n",
       "| PJ Dozier         | 0.303 | 0.125 | 0.471 | 0.333 |    NA | 0.333 | 0.485 | 0.000 |\n",
       "| Trevor Keels      | 0.250 | 0.250 |    NA | 0.375 |    NA | 0.375 | 1.000 | 0.000 |\n",
       "| Dereon Seabron    | 0.400 |    NA | 0.400 | 0.400 |    NA | 0.400 | 0.000 | 0.000 |\n",
       "| Malcolm Hill      | 0.500 | 0.333 | 1.000 | 0.625 |    NA | 0.625 | 0.750 | 0.000 |\n",
       "| Cole Swider       | 0.333 | 0.375 | 0.000 | 0.500 |    NA | 0.500 | 0.889 | 0.000 |\n",
       "| Neemias Queta     | 0.667 |    NA | 0.667 | 0.667 | 0.000 | 0.607 | 0.000 | 0.222 |\n",
       "| Micah Potter      | 0.667 | 0.571 | 0.750 | 0.800 |    NA | 0.800 | 0.467 | 0.000 |\n",
       "| Chima Moneke      | 0.500 |    NA | 0.500 | 0.500 | 0.000 | 0.347 | 0.000 | 1.000 |\n",
       "| Alondes Williams  |    NA |    NA |    NA |    NA |    NA |    NA |    NA |    NA |\n",
       "| Donovan Williams  | 0.400 | 0.000 | 0.667 | 0.400 |    NA | 0.400 | 0.400 | 0.000 |\n",
       "| Chris Silva       | 1.000 |    NA | 1.000 | 1.000 |    NA | 1.000 | 0.000 | 0.000 |\n",
       "| Tyler Dorsey      | 0.800 | 0.500 | 1.000 | 0.900 |    NA | 0.900 | 0.400 | 0.000 |\n",
       "| Braxton Key       | 1.000 |    NA | 1.000 | 1.000 | 1.000 | 1.064 | 0.000 | 2.000 |\n",
       "| Devon Dotson      | 0.100 | 0.250 | 0.000 | 0.150 |    NA | 0.150 | 0.400 | 0.000 |\n",
       "| Xavier Moon       | 0.333 | 0.333 | 0.333 | 0.389 |    NA | 0.389 | 0.333 | 0.000 |\n",
       "| Frank Jackson     | 0.000 | 0.000 | 0.000 | 0.000 |    NA | 0.000 | 0.333 | 0.000 |\n",
       "| Deonte Burton     | 0.000 | 0.000 | 0.000 | 0.000 |    NA | 0.000 | 0.500 | 0.000 |\n",
       "| Jordan Schakel    | 0.500 | 1.000 | 0.000 | 0.750 |    NA | 0.750 | 0.500 | 0.000 |\n",
       "| Stanley Umude     | 0.000 | 0.000 |    NA | 0.000 | 1.000 | 0.532 | 1.000 | 2.000 |\n",
       "| Jacob Gilyard     | 0.333 | 0.333 |    NA | 0.500 |    NA | 0.500 | 1.000 | 0.000 |\n",
       "\n"
      ],
      "text/plain": [
       "   Player_Name       FG_Pct Three_Pt_Pct Two_Pt_Pct eFG_Pct FT_Pct TS_Pct\n",
       "1  Mitchell Robinson 0.671     NA        0.671      0.671   0.484  0.652 \n",
       "2  Mason Plumlee     0.680     NA        0.680      0.680   0.636  0.689 \n",
       "3  Dylan Windler     0.667  0.500        1.000      0.833      NA  0.833 \n",
       "4  Mark Williams     0.637     NA        0.637      0.637   0.691  0.659 \n",
       "5  Sterling Brown    0.000  0.000        0.000      0.000      NA  0.000 \n",
       "6  Joe Wieskamp      0.214  0.250        0.000      0.321      NA  0.321 \n",
       "7  Bismack Biyombo   0.578     NA        0.578      0.578   0.357  0.555 \n",
       "8  Udoka Azubuike    0.819     NA        0.819      0.819   0.350  0.774 \n",
       "9  Daniel Gafford    0.732     NA        0.732      0.732   0.679  0.739 \n",
       "10 Ryan Arcidiacono  0.243  0.348        0.071      0.351      NA  0.351 \n",
       "11 Leandro Bolmaro   0.150  0.000        0.188      0.150      NA  0.150 \n",
       "12 Jared Butler      0.469  0.500        0.444      0.578      NA  0.578 \n",
       "13 Justin Champagnie 0.333  0.200        0.400      0.367      NA  0.367 \n",
       "14 Moses Brown       0.635     NA        0.635      0.635   0.458  0.607 \n",
       "15 PJ Dozier         0.303  0.125        0.471      0.333      NA  0.333 \n",
       "16 Trevor Keels      0.250  0.250           NA      0.375      NA  0.375 \n",
       "17 Dereon Seabron    0.400     NA        0.400      0.400      NA  0.400 \n",
       "18 Malcolm Hill      0.500  0.333        1.000      0.625      NA  0.625 \n",
       "19 Cole Swider       0.333  0.375        0.000      0.500      NA  0.500 \n",
       "20 Neemias Queta     0.667     NA        0.667      0.667   0.000  0.607 \n",
       "21 Micah Potter      0.667  0.571        0.750      0.800      NA  0.800 \n",
       "22 Chima Moneke      0.500     NA        0.500      0.500   0.000  0.347 \n",
       "23 Alondes Williams     NA     NA           NA         NA      NA     NA \n",
       "24 Donovan Williams  0.400  0.000        0.667      0.400      NA  0.400 \n",
       "25 Chris Silva       1.000     NA        1.000      1.000      NA  1.000 \n",
       "26 Tyler Dorsey      0.800  0.500        1.000      0.900      NA  0.900 \n",
       "27 Braxton Key       1.000     NA        1.000      1.000   1.000  1.064 \n",
       "28 Devon Dotson      0.100  0.250        0.000      0.150      NA  0.150 \n",
       "29 Xavier Moon       0.333  0.333        0.333      0.389      NA  0.389 \n",
       "30 Frank Jackson     0.000  0.000        0.000      0.000      NA  0.000 \n",
       "31 Deonte Burton     0.000  0.000        0.000      0.000      NA  0.000 \n",
       "32 Jordan Schakel    0.500  1.000        0.000      0.750      NA  0.750 \n",
       "33 Stanley Umude     0.000  0.000           NA      0.000   1.000  0.532 \n",
       "34 Jacob Gilyard     0.333  0.333           NA      0.500      NA  0.500 \n",
       "   Three_Pt_AR FTr  \n",
       "1  0.000       0.436\n",
       "2  0.000       0.647\n",
       "3  0.667       0.000\n",
       "4  0.000       0.386\n",
       "5  0.500       0.000\n",
       "6  0.857       0.000\n",
       "7  0.000       0.340\n",
       "8  0.000       0.278\n",
       "9  0.000       0.473\n",
       "10 0.622       0.000\n",
       "11 0.200       0.000\n",
       "12 0.438       0.000\n",
       "13 0.333       0.000\n",
       "14 0.000       0.750\n",
       "15 0.485       0.000\n",
       "16 1.000       0.000\n",
       "17 0.000       0.000\n",
       "18 0.750       0.000\n",
       "19 0.889       0.000\n",
       "20 0.000       0.222\n",
       "21 0.467       0.000\n",
       "22 0.000       1.000\n",
       "23    NA          NA\n",
       "24 0.400       0.000\n",
       "25 0.000       0.000\n",
       "26 0.400       0.000\n",
       "27 0.000       2.000\n",
       "28 0.400       0.000\n",
       "29 0.333       0.000\n",
       "30 0.333       0.000\n",
       "31 0.500       0.000\n",
       "32 0.500       0.000\n",
       "33 1.000       2.000\n",
       "34 1.000       0.000"
      ]
     },
     "metadata": {},
     "output_type": "display_data"
    }
   ],
   "source": [
    "# Find the columns with the NA values\n",
    "cols_with_na_vals <- colnames(NBA_salary_data)[colSums(is.na(NBA_salary_data)) > 0]\n",
    "\n",
    "# Find the rows with the NA values\n",
    "rows_with_na_vals <- rowSums(is.na(NBA_salary_data)) > 0\n",
    "\n",
    "na_subset <- NBA_salary_data %>%\n",
    "filter(rows_with_na_vals) %>%\n",
    "select(Player_Name, all_of(cols_with_na_vals))\n",
    "\n",
    "na_subset\n"
   ]
  },
  {
   "cell_type": "markdown",
   "id": "6ba5882d-2d30-41bc-add4-ef10260d8a87",
   "metadata": {},
   "source": [
    "Now, looking through this subset, we see ALL of the NA cells, and we also can determine the reason that they are \"NA\". The columns that possess NA values are Field-Goal percentage, Three-Point percentage, Two-Point percentage, effective Field-Goal percentage, Free-Throw percentage, True Shooting percentage, Three-Point rate, or Free-Throw rate. All of these cells with NA values are due to that specific player not attempting a certain type of shot or a field-goal over the course of the ENTIRE season. \n",
    "\n",
    "In some cases, it is a naturally occurrence. For example, Mason Plumlee is a centre who does not usually play more 20 minutes per game. He is rarely in a position to attempt a three-point shot, therefore resulting in his Three-Point Percentage being NA. \n",
    "\n",
    "As this is the case, then filling in the missing cells with \"NA\" is the most appropriate way to go about this. It would be wrong to assume a value of 0, since there were no attempts, and it would not make much sense to give them a mean value. "
   ]
  },
  {
   "cell_type": "markdown",
   "id": "c8868b35-343b-484c-b25c-703495d6600a",
   "metadata": {},
   "source": [
    "### 2. Exploratory Data Analysis (EDA):\n",
    "- Examine the distribution of key variables like salary, age, and performance metrics\n",
    "- Look for any outliers or anomalies\n",
    "- Exploratory Data Analysis (EDA): This would involve creating visualizations to understand the distribution of salaries, the relationship between different performance metrics and salary, etc."
   ]
  },
  {
   "cell_type": "markdown",
   "id": "dd9f1ca6-f66a-46eb-ad30-86cf72d0098b",
   "metadata": {},
   "source": [
    "Now moving onto Step 2, we can use some tools in the \"ggplot2\" to create some plots and explore our dataset. This will allow us to visualize how certain variables such as salary are distributed, and can give us initial ideas as to which performance stats will be most highly correlated with salary.\n",
    "\n",
    "Let's start with plotting the distribution of NBA salaries."
   ]
  },
  {
   "cell_type": "code",
   "execution_count": 13,
   "id": "abdc0cd3-01b4-4563-bcb0-e7ab3110c31d",
   "metadata": {},
   "outputs": [
    {
     "data": {
      "image/png": "[encoded data removed]",
      "text/plain": [
       "plot without title"
      ]
     },
     "metadata": {
      "image/png": {
       "height": 420,
       "width": 420
      }
     },
     "output_type": "display_data"
    }
   ],
   "source": [
    "ggplot(NBA_salary_data, aes(x = Salary)) +\n",
    "geom_histogram(binwidth = 1000000, fill = \"purple\", color = \"yellow\") +\n",
    "theme_minimal() +\n",
    "labs(title = \"Distribution of NBA Salaries\", x = \"Salary\", y = \"Frequency\") +\n",
    "theme(text = element_text(size = 20))"
   ]
  },
  {
   "cell_type": "markdown",
   "id": "5d369c62-aedd-4c0c-8ce2-156608408906",
   "metadata": {},
   "source": [
    "This salary distributions shows us that the majority of NBA Players make around 500,000 - 1M USD per year, while there are a significantly small portion of players making around 30M to 50M. It is safe to say that most NBA Players are quite well off. This right-skewed distribution would normally be problematic for our regression model, but let's test it first and then see if it affects it. *EDIT"
   ]
  },
  {
   "cell_type": "markdown",
   "id": "36a6b624-de2f-4172-afc7-a11ad7503e05",
   "metadata": {},
   "source": [
    "### 3. Correlation Analysis:\n",
    "- Investigate the correlation between different performance metrics and salaries (correlation matrix)\n",
    "- Identify top prospects for good salary predictors"
   ]
  },
  {
   "cell_type": "markdown",
   "id": "133c93da-dcf4-4026-a1e3-db16df84f0a1",
   "metadata": {},
   "source": [
    "Now that we have successfully loaded our dataset and tidied it up, we can now work on figuring out which statistics will most likely be good predictors for salary, and explore those further.\n",
    "\n",
    "For example, we can generally assume that stats such as minutes played or steals per game will not be as influential on salary as points per game or win shares, but how would we be certain about which statistics are best predictors?\n",
    "\n",
    "A common way of figuring out which two variables have a strong relationship between each other, especially in a setting such as ours where we are not quite sure what the nature of the relationship might be, is to use a correlation matrix (REF= https://towardsdatascience.com/correlation-matrix-demystified-3ae3405c86c1). This will tell us which variables have a strong correlation with each other, which is a good basis for further exploration. If we find some performance metrics have very low correlation with salary, we can effectively rule those out. "
   ]
  },
  {
   "cell_type": "code",
   "execution_count": 15,
   "id": "48266f23-8597-4cdc-9eff-da856d363e8b",
   "metadata": {},
   "outputs": [],
   "source": [
    "target_performance_stats <- subset(NBA_salary_data, select = -c(Index, Position, Player_Name, Position, Team))\n",
    "\n",
    "cor_matrix <- cor(target_performance_stats, use = \"complete.obs\")"
   ]
  },
  {
   "cell_type": "markdown",
   "id": "8b232af3-9275-42bf-a0ca-c959e8544bd2",
   "metadata": {},
   "source": [
    "Now, we have created the correlation matrix, let's try visualizing it with a heatmap. "
   ]
  },
  {
   "cell_type": "code",
   "execution_count": 16,
   "id": "9a9e1b54-4ade-4f77-a3bb-a59e32da96f2",
   "metadata": {},
   "outputs": [
    {
     "data": {
      "image/png": "[encoded data removed]",
      "text/plain": [
       "plot without title"
      ]
     },
     "metadata": {
      "image/png": {
       "height": 420,
       "width": 420
      }
     },
     "output_type": "display_data"
    }
   ],
   "source": [
    "cor_long <- cor_matrix %>%\n",
    "melt(cols = everything(), names_to = \"Var2\", values_to = \"Correlation\")\n",
    "\n",
    "ggplot(cor_long, aes(x=Var1, y=Var2, fill=value)) +\n",
    "geom_tile() +\n",
    "scale_fill_gradient2(low = \"blue\", high = \"red\", mid = \"white\", midpoint = 0, limit = c(-1,1)) +\n",
    "theme_minimal() +\n",
    "theme(axis.text.x = element_text(angle = 45, hjust = 1)) +\n",
    "geom_vline(xintercept = which(names(cor_matrix) == \"Salary\"), color = \"green\", size = 1.5) +\n",
    "  geom_hline(yintercept = which(names(cor_matrix) == \"Salary\"), color = \"green\", size = 1.5) +\n",
    "  labs(fill = \"Correlation\", title = \"Heatmap of Correlations with Highlight on Salary\")"
   ]
  },
  {
   "cell_type": "markdown",
   "id": "8fc49e49-185d-4df7-ad49-e54fa0399e0e",
   "metadata": {},
   "source": [
    "This is a great start. It looks very cool and colourful, but it is a bit hard to read. Since we are only interested in the correlations between performance stats and salary, we can isolate for these correlations, and rank them in descending order. "
   ]
  },
  {
   "cell_type": "code",
   "execution_count": 18,
   "id": "35bdb18b-4642-4bdb-9556-bd775641748f",
   "metadata": {},
   "outputs": [
    {
     "name": "stdout",
     "output_type": "stream",
     "text": [
      "                     Variable   Correlation\n",
      "Salary                 Salary  1.0000000000\n",
      "PTS                       PTS  0.7191173336\n",
      "FG                         FG  0.7118509280\n",
      "FGA                       FGA  0.6966823647\n",
      "VORP                     VORP  0.6768492637\n",
      "Two_Pt_Atmps     Two_Pt_Atmps  0.6715820234\n",
      "Two_Pt_Made       Two_Pt_Made  0.6675550693\n",
      "FT                         FT  0.6645510390\n",
      "FTA                       FTA  0.6595895988\n",
      "TOV                       TOV  0.6431081241\n",
      "MP                         MP  0.6417385312\n",
      "WS                         WS  0.6162372741\n",
      "OBPM                     OBPM  0.6000296867\n",
      "AST                       AST  0.5891035926\n",
      "GS                         GS  0.5889257613\n",
      "OWS                       OWS  0.5765526833\n",
      "DRB                       DRB  0.5677576398\n",
      "BPM                       BPM  0.5577456362\n",
      "USG_Pct               USG_Pct  0.5565113689\n",
      "DWS                       DWS  0.5498690356\n",
      "Total_Minutes   Total_Minutes  0.5463765746\n",
      "PER                       PER  0.5373134923\n",
      "TRB                       TRB  0.4925254786\n",
      "Three_Pt_Atmps Three_Pt_Atmps  0.4739628546\n",
      "Three_Pts_Made Three_Pts_Made  0.4621655033\n",
      "STL                       STL  0.4616304850\n",
      "AST_Pct               AST_Pct  0.4547321061\n",
      "Age                       Age  0.4137984119\n",
      "PF                         PF  0.3861162032\n",
      "WS.48                   WS.48  0.3448925913\n",
      "GP                         GP  0.3009336031\n",
      "BLK                       BLK  0.2908862283\n",
      "ORB                       ORB  0.2002398018\n",
      "TS_Pct                 TS_Pct  0.1920965177\n",
      "FTr                       FTr  0.1750457743\n",
      "FT_Pct                 FT_Pct  0.1565122461\n",
      "FG_Pct                 FG_Pct  0.1294987211\n",
      "eFG_Pct               eFG_Pct  0.1204278512\n",
      "DRB_Pct               DRB_Pct  0.1147237989\n",
      "DBPM                     DBPM  0.1121376540\n",
      "Three_Pt_Pct     Three_Pt_Pct  0.0667153966\n",
      "Two_Pt_Pct         Two_Pt_Pct  0.0439189198\n",
      "TRB_Pct               TRB_Pct  0.0207517590\n",
      "STL_Pct               STL_Pct -0.0003385747\n",
      "BLK_Pct               BLK_Pct -0.0465065932\n",
      "TOV_Pct               TOV_Pct -0.0551807178\n",
      "Three_Pt_AR       Three_Pt_AR -0.1173386874\n",
      "ORB_Pct               ORB_Pct -0.1368441671\n"
     ]
    }
   ],
   "source": [
    "salary_correlations <- cor_matrix[\"Salary\", ]\n",
    "\n",
    "sorted_salary_correlations <- sort(salary_correlations, decreasing = TRUE)\n",
    "\n",
    "#sorted_salary_correlations\n",
    "\n",
    "\n",
    "# Convert the sorted correlations to a data frame\n",
    "sorted_salary_correlations_df <- data.frame(\n",
    "  Variable = names(sorted_salary_correlations),\n",
    "  Correlation = sorted_salary_correlations\n",
    ")\n",
    "\n",
    "# Print the data frame\n",
    "print(sorted_salary_correlations_df)\n",
    "\n",
    "\n"
   ]
  },
  {
   "cell_type": "markdown",
   "id": "d27d1679-5d04-4166-b547-05b23aaddfee",
   "metadata": {},
   "source": [
    "Beautiful. Now we can see the top performance metrics that have the strongest correlation to salary. The number one statistic being PTS (Average points scored per game). \n",
    "\n",
    "Now, we have a few good stats to use when building our predictive model. \n",
    "\n",
    "To do a quick initial exploration of what the relationship would look like, let's plot the relationship between avergae points per game and salary."
   ]
  },
  {
   "cell_type": "code",
   "execution_count": 19,
   "id": "ce65c670-ccb8-4e5e-b3b4-ab09b7c483c1",
   "metadata": {},
   "outputs": [
    {
     "data": {
      "image/png": "[encoded data removed]",
      "text/plain": [
       "plot without title"
      ]
     },
     "metadata": {
      "image/png": {
       "height": 420,
       "width": 420
      }
     },
     "output_type": "display_data"
    }
   ],
   "source": [
    "ppg_salary_relat <- ggplot(NBA_salary_data, aes(x = PTS, y = Salary)) +\n",
    "geom_point(alpha = 0.4) +\n",
    "xlab(\"Points per game\") +\n",
    "ylab(\"Yearly Salary (USD)\") +\n",
    "theme(text = element_text(size = 20))\n",
    "\n",
    "ppg_salary_relat"
   ]
  },
  {
   "cell_type": "markdown",
   "id": "efcaf3af-4267-4d71-9fee-aa7fbdd67122",
   "metadata": {},
   "source": [
    "This is very hopeful! We have a fairly strong correlation between PTS and Salary, and the plot of their relationship shows a decent linear relationship. We definitely have enough reason to attempt to build a predictive model based on the affect of PTS and Salary. "
   ]
  },
  {
   "cell_type": "markdown",
   "id": "12410aa1-4b83-429a-b16a-30fea2a024cc",
   "metadata": {},
   "source": [
    "### 4. Feature Selection:\n",
    "- Based on the EDA and correlation analysis, select relevant features for modeling.\n",
    "- Consider excluding columns that may not contribute to the prediction of salary"
   ]
  },
  {
   "cell_type": "markdown",
   "id": "3f49636f-cf11-4782-8759-f975f73a5c37",
   "metadata": {},
   "source": [
    "Let's begin by exploring an obvious relationship, the correlation between Points Per Game and Salary."
   ]
  },
  {
   "cell_type": "code",
   "execution_count": 21,
   "id": "10bfd583-65c2-47c5-8dfc-d08c404e84a4",
   "metadata": {},
   "outputs": [
    {
     "data": {
      "image/png": "[encoded data removed]",
      "text/plain": [
       "plot without title"
      ]
     },
     "metadata": {
      "image/png": {
       "height": 420,
       "width": 420
      }
     },
     "output_type": "display_data"
    }
   ],
   "source": [
    "ppg_correlation <- ggplot(NBA_salary_data, aes(x = PTS, y = Salary)) +\n",
    "geom_point(alpha = 0.4) +\n",
    "xlab(\"Points per game\") +\n",
    "ylab(\"Yearly Salary (USD)\") +\n",
    "theme(text = element_text(size = 20))\n",
    "\n",
    "ppg_correlation"
   ]
  },
  {
   "cell_type": "markdown",
   "id": "76000355-7dc3-46b0-abea-8d8926bb6d93",
   "metadata": {},
   "source": [
    "Let's begin building our linear regression model!\n",
    "\n",
    "First, we will split the data into training and testing sets. "
   ]
  },
  {
   "cell_type": "code",
   "execution_count": 22,
   "id": "42faff36-ff9a-4c87-b084-51a7c2ece77c",
   "metadata": {},
   "outputs": [],
   "source": [
    "NBA_salary_split <- initial_split(NBA_salary_data, prop = 0.6, strata = Salary)\n",
    "NBA_salary_train <- training(NBA_salary_split)\n",
    "NBA_salary_test <- testing(NBA_salary_split)"
   ]
  },
  {
   "cell_type": "markdown",
   "id": "7e1546f4-6b86-4188-975c-730018500a46",
   "metadata": {},
   "source": [
    "We now have our training data, let's create the model specification and recipe, and fit our regression model accordingly. "
   ]
  },
  {
   "cell_type": "code",
   "execution_count": 31,
   "id": "83a73687-c3fe-4de7-a326-c1bb524d373b",
   "metadata": {},
   "outputs": [
    {
     "name": "stderr",
     "output_type": "stream",
     "text": [
      "Warning message:\n",
      "\"package 'tidymodels' was built under R version 3.6.3\"\n"
     ]
    },
    {
     "ename": "ERROR",
     "evalue": "Error: package or namespace load failed for 'tidymodels' in loadNamespace(j <- i[[1L]], c(lib.loc, .libPaths()), versionCheck = vI[[j]]):\n namespace 'globals' 0.14.0 is already loaded, but >= 0.16.1 is required\n",
     "output_type": "error",
     "traceback": [
      "Error: package or namespace load failed for 'tidymodels' in loadNamespace(j <- i[[1L]], c(lib.loc, .libPaths()), versionCheck = vI[[j]]):\n namespace 'globals' 0.14.0 is already loaded, but >= 0.16.1 is required\nTraceback:\n",
      "1. library(tidymodels)",
      "2. tryCatch({\n .     attr(package, \"LibPath\") <- which.lib.loc\n .     ns <- loadNamespace(package, lib.loc)\n .     env <- attachNamespace(ns, pos = pos, deps, exclude, include.only)\n . }, error = function(e) {\n .     P <- if (!is.null(cc <- conditionCall(e))) \n .         paste(\" in\", deparse(cc)[1L])\n .     else \"\"\n .     msg <- gettextf(\"package or namespace load failed for %s%s:\\n %s\", \n .         sQuote(package), P, conditionMessage(e))\n .     if (logical.return) \n .         message(paste(\"Error:\", msg), domain = NA)\n .     else stop(msg, call. = FALSE, domain = NA)\n . })",
      "3. tryCatchList(expr, classes, parentenv, handlers)",
      "4. tryCatchOne(expr, names, parentenv, handlers[[1L]])",
      "5. value[[3L]](cond)",
      "6. stop(msg, call. = FALSE, domain = NA)"
     ]
    }
   ],
   "source": [
    "\n",
    "lm_spec <- linear_reg() %>%\n",
    "set_engine(\"lm\") %>%\n",
    "set_mode(\"regression\")\n",
    "\n",
    "lm_recipe <- recipe(Salary ~ PTS, data = NBA_salary_train)\n",
    "\n",
    "lm_fit <- workflow() %>%\n",
    "add_recipe(lm_recipe)\n",
    "add_model(lm_spec)\n",
    "fit(data = NBA_salary_train)\n",
    "\n",
    "lm_fit"
   ]
  },
  {
   "cell_type": "markdown",
   "id": "fda3f67c-1a3e-4d38-922c-fd71e9adf73f",
   "metadata": {},
   "source": [
    "### Analysis and"
   ]
  },
  {
   "cell_type": "code",
   "execution_count": 32,
   "id": "26858486-fa43-421b-9cb4-4df9d162b0c2",
   "metadata": {},
   "outputs": [
    {
     "data": {
      "text/html": [
       "'R version 3.6.1 (2019-07-05)'"
      ],
      "text/latex": [
       "'R version 3.6.1 (2019-07-05)'"
      ],
      "text/markdown": [
       "'R version 3.6.1 (2019-07-05)'"
      ],
      "text/plain": [
       "[1] \"R version 3.6.1 (2019-07-05)\""
      ]
     },
     "metadata": {},
     "output_type": "display_data"
    }
   ],
   "source": [
    "R.version.string"
   ]
  },
  {
   "cell_type": "code",
   "execution_count": null,
   "id": "3ee78408-887b-4e9b-b7a9-1e1944037562",
   "metadata": {},
   "outputs": [],
   "source": [
    "##Test commit"
   ]
  },
  {
   "cell_type": "markdown",
   "id": "b891447b-a8e8-4400-9a43-e144a8e6d888",
   "metadata": {},
   "source": [
    "### Discussion"
   ]
  },
  {
   "cell_type": "markdown",
   "id": "37e5dbc5-e66d-426d-b72f-27ecff1e6d6f",
   "metadata": {},
   "source": [
    "### References"
   ]
  },
  {
   "cell_type": "code",
   "execution_count": null,
   "id": "c2fde351-57cf-4e15-a7e1-d9d6c817e174",
   "metadata": {},
   "outputs": [],
   "source": []
  }
 ],
 "metadata": {
  "kernelspec": {
   "display_name": "R",
   "language": "R",
   "name": "ir"
  },
  "language_info": {
   "codemirror_mode": "r",
   "file_extension": ".r",
   "mimetype": "text/x-r-source",
   "name": "R",
   "pygments_lexer": "r",
   "version": "4.2.2"
  }
 },
 "nbformat": 4,
 "nbformat_minor": 5
}
