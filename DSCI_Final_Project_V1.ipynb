{
 "cells": [
  {
   "cell_type": "markdown",
   "id": "35d7fac7-6a61-457d-a6ab-2f37bc6868e5",
   "metadata": {
    "editable": true,
    "slideshow": {
     "slide_type": ""
    },
    "tags": []
   },
   "source": [
    "### DSCI 100 008 Final Project\n",
    "# Title: What it takes to be Ballin': An analysis of NBA player statistics and their effect on salary.\n",
    "\n",
    "### Group 33: Paul Daoud | Ahnaf Kabir | Shawn Gabriel | Jackie Crowley"
   ]
  },
  {
   "cell_type": "markdown",
   "id": "2d1b58fc-7148-42bf-96e7-3dae06ac604a",
   "metadata": {},
   "source": [
    "### Introduction"
   ]
  },
  {
   "cell_type": "markdown",
   "id": "d5eb5d42-6c2b-4c40-8d4a-cb6678c87083",
   "metadata": {},
   "source": [
    "### Method and Results"
   ]
  },
  {
   "cell_type": "markdown",
   "id": "1f115a7b-83e8-4fef-8dae-e4d6790c3959",
   "metadata": {},
   "source": [
    "#### Importing Libraries\n",
    "We used functions from the `tidyverse` library to manipulate data frames and use KNN algorithms. "
   ]
  },
  {
   "cell_type": "code",
   "execution_count": 60,
   "id": "0b59f183-2de8-4848-872e-4fa056609499",
   "metadata": {},
   "outputs": [
    {
     "name": "stderr",
     "output_type": "stream",
     "text": [
      "Warning message:\n",
      "\"package 'reshape2' was built under R version 3.6.3\"\n",
      "Attaching package: 'reshape2'\n",
      "\n",
      "The following object is masked from 'package:tidyr':\n",
      "\n",
      "    smiths\n",
      "\n"
     ]
    }
   ],
   "source": [
    "# importing libraries\n",
    "library(tidyverse)\n",
    "library(dplyr)\n",
    "library(tidyr)\n",
    "library(reshape2)"
   ]
  },
  {
   "cell_type": "code",
   "execution_count": 59,
   "id": "cc483595-569e-49f2-b814-5d0528da7454",
   "metadata": {},
   "outputs": [
    {
     "name": "stderr",
     "output_type": "stream",
     "text": [
      "also installing the dependencies 'cli', 'glue', 'lifecycle', 'rlang', 'vctrs', 'stringr'\n",
      "\n"
     ]
    },
    {
     "name": "stdout",
     "output_type": "stream",
     "text": [
      "\n",
      "  There are binary versions available but the source versions are later:\n",
      "          binary source needs_compilation\n",
      "cli        2.5.0  3.6.1              TRUE\n",
      "glue       1.4.2  1.6.2              TRUE\n",
      "lifecycle  1.0.0  1.0.4             FALSE\n",
      "rlang     0.4.11  1.1.2              TRUE\n",
      "vctrs      0.3.8  0.6.5              TRUE\n",
      "stringr    1.4.0  1.5.1             FALSE\n",
      "\n",
      "  Binaries will be installed\n",
      "package 'cli' successfully unpacked and MD5 sums checked\n",
      "package 'glue' successfully unpacked and MD5 sums checked\n",
      "package 'rlang' successfully unpacked and MD5 sums checked\n",
      "package 'vctrs' successfully unpacked and MD5 sums checked\n",
      "package 'reshape2' successfully unpacked and MD5 sums checked\n",
      "\n",
      "The downloaded binary packages are in\n",
      "\tC:\\Users\\jc13\\AppData\\Local\\Temp\\RtmpU1D8pl\\downloaded_packages\n"
     ]
    },
    {
     "name": "stderr",
     "output_type": "stream",
     "text": [
      "installing the source packages 'lifecycle', 'stringr'\n",
      "\n",
      "Warning message in install.packages(\"reshape2\"):\n",
      "\"installation of package 'lifecycle' had non-zero exit status\"Warning message in install.packages(\"reshape2\"):\n",
      "\"installation of package 'stringr' had non-zero exit status\""
     ]
    }
   ],
   "source": [
    "install.packages(\"reshape2\")"
   ]
  },
  {
   "cell_type": "markdown",
   "id": "4a6209a6-b75b-4742-b448-fa7a9a2a51f0",
   "metadata": {},
   "source": [
    "Overall Plan for the project:\n",
    "\n",
    "### 1. Data Cleaning and Preprocessing:\n",
    "- Check for missing values (none)\n",
    "- Index column can be removed\n",
    "- Ensure all data types are appropriate for analysis\n",
    "### 2. Exploratory Data Analysis (EDA):\n",
    "- Examine the distribution of key variables like salary, age, and performance metrics\n",
    "- Look for any outliers or anomalies\n",
    "### 3. Correlation Analysis:\n",
    "- Investigate the correlation between different performance metrics and salaries (correlation matrix)\n",
    "- Identify top prospects for good salary predictors\n",
    "### 4. Feature Selection:\n",
    "- Based on the EDA and correlation analysis, select relevant features for modeling.\n",
    "- Consider excluding columns that may not contribute to the prediction of salary\n",
    "### 5. Modelling:\n",
    "- Regression models, start with linear regression and then see if more complex ones are necessary\n",
    "### 6. Model Evaluation:\n",
    "- Evaluate model's performance with RMSE\n",
    "- Check for underfitting or overfitting"
   ]
  },
  {
   "cell_type": "markdown",
   "id": "f5913390-93d2-4d7b-8d15-05902d784255",
   "metadata": {},
   "source": [
    "### 1. Data Cleaning and Preprocessing:\n",
    "- Check for missing values (none)\n",
    "- Index column can be removed\n",
    "- Ensure all data types are appropriate for analysis"
   ]
  },
  {
   "cell_type": "markdown",
   "id": "7f8dfaee-9019-4a6e-9221-8b8e3e80ba1d",
   "metadata": {},
   "source": [
    "To begin, we want to set the seed for reproducability, and load our dataset into the NBA_salary_data object."
   ]
  },
  {
   "cell_type": "code",
   "execution_count": 13,
   "id": "597919a8-692f-452e-b4d6-ac5ac07f17f6",
   "metadata": {},
   "outputs": [
    {
     "data": {
      "text/html": [
       "<table>\n",
       "<thead><tr><th scope=col>X</th><th scope=col>Player.Name</th><th scope=col>Salary</th><th scope=col>Position</th><th scope=col>Age</th><th scope=col>Team</th><th scope=col>GP</th><th scope=col>GS</th><th scope=col>MP</th><th scope=col>FG</th><th scope=col>...</th><th scope=col>TOV.</th><th scope=col>USG.</th><th scope=col>OWS</th><th scope=col>DWS</th><th scope=col>WS</th><th scope=col>WS.48</th><th scope=col>OBPM</th><th scope=col>DBPM</th><th scope=col>BPM</th><th scope=col>VORP</th></tr></thead>\n",
       "<tbody>\n",
       "\t<tr><td> 0                   </td><td>Stephen Curry        </td><td>48070014             </td><td>PG                   </td><td>34                   </td><td>GSW                  </td><td>56                   </td><td>56                   </td><td>34.7                 </td><td>10.0                 </td><td>...                  </td><td>12.5                 </td><td>31.0                 </td><td> 5.8                 </td><td>2.0                  </td><td> 7.8                 </td><td>0.192                </td><td> 7.5                 </td><td> 0.1                 </td><td> 7.5                 </td><td>4.7                  </td></tr>\n",
       "\t<tr><td> 1                   </td><td>John Wall            </td><td>47345760             </td><td>PG                   </td><td>32                   </td><td>LAC                  </td><td>34                   </td><td> 3                   </td><td>22.2                 </td><td> 4.1                 </td><td>...                  </td><td>17.1                 </td><td>27.0                 </td><td>-0.4                 </td><td>0.7                  </td><td> 0.3                 </td><td>0.020                </td><td>-0.8                 </td><td>-0.4                 </td><td>-1.2                 </td><td>0.1                  </td></tr>\n",
       "\t<tr><td> 2                   </td><td>Russell Westbrook    </td><td>47080179             </td><td>PG                   </td><td>34                   </td><td>LAL/LAC              </td><td>73                   </td><td>24                   </td><td>29.1                 </td><td> 5.9                 </td><td>...                  </td><td>18.4                 </td><td>27.7                 </td><td>-0.6                 </td><td>2.6                  </td><td> 1.9                 </td><td>0.044                </td><td> 0.3                 </td><td>-0.1                 </td><td> 0.2                 </td><td>1.2                  </td></tr>\n",
       "\t<tr><td> 3                   </td><td>LeBron James         </td><td>44474988             </td><td>PF                   </td><td>38                   </td><td>LAL                  </td><td>55                   </td><td>54                   </td><td>35.5                 </td><td>11.1                 </td><td>...                  </td><td>11.6                 </td><td>33.3                 </td><td> 3.2                 </td><td>2.4                  </td><td> 5.6                 </td><td>0.138                </td><td> 5.5                 </td><td> 0.6                 </td><td> 6.1                 </td><td>4.0                  </td></tr>\n",
       "\t<tr><td> 4                   </td><td>Kevin Durant         </td><td>44119845             </td><td>PF                   </td><td>34                   </td><td>BRK/PHO              </td><td>47                   </td><td>47                   </td><td>35.6                 </td><td>10.3                 </td><td>...                  </td><td>13.4                 </td><td>30.7                 </td><td> 4.7                 </td><td>2.1                  </td><td> 6.8                 </td><td>0.194                </td><td> 6.0                 </td><td> 1.2                 </td><td> 7.1                 </td><td>3.9                  </td></tr>\n",
       "\t<tr><td> 5                   </td><td>Bradley Beal         </td><td>43279250             </td><td>SG                   </td><td>29                   </td><td>WAS                  </td><td>50                   </td><td>50                   </td><td>33.5                 </td><td> 8.9                 </td><td>...                  </td><td>12.9                 </td><td>29.2                 </td><td> 2.2                 </td><td>1.2                  </td><td> 3.4                 </td><td>0.099                </td><td> 2.9                 </td><td>-1.2                 </td><td> 1.8                 </td><td>1.6                  </td></tr>\n",
       "\t<tr><td> 6                   </td><td>Kawhi Leonard        </td><td>42492492             </td><td>SF                   </td><td>31                   </td><td>LAC                  </td><td>52                   </td><td>50                   </td><td>33.6                 </td><td> 8.6                 </td><td>...                  </td><td> 8.1                 </td><td>27.0                 </td><td> 4.9                 </td><td>2.2                  </td><td> 7.1                 </td><td>0.194                </td><td> 5.1                 </td><td> 0.9                 </td><td> 6.1                 </td><td>3.5                  </td></tr>\n",
       "\t<tr><td> 7                   </td><td>Paul George          </td><td>42492492             </td><td>SF                   </td><td>32                   </td><td>LAC                  </td><td>56                   </td><td>56                   </td><td>34.6                 </td><td> 8.2                 </td><td>...                  </td><td>13.4                 </td><td>29.5                 </td><td> 2.3                 </td><td>2.3                  </td><td> 4.6                 </td><td>0.114                </td><td> 2.4                 </td><td> 0.3                 </td><td> 2.8                 </td><td>2.3                  </td></tr>\n",
       "\t<tr><td> 8                   </td><td>Giannis Antetokounmpo</td><td>42492492             </td><td>PF                   </td><td>28                   </td><td>MIL                  </td><td>63                   </td><td>63                   </td><td>32.1                 </td><td>11.2                 </td><td>...                  </td><td>13.2                 </td><td>38.8                 </td><td> 4.9                 </td><td>3.7                  </td><td> 8.6                 </td><td>0.204                </td><td> 5.8                 </td><td> 2.7                 </td><td> 8.5                 </td><td>5.4                  </td></tr>\n",
       "\t<tr><td> 9                   </td><td>Damian Lillard       </td><td>42492492             </td><td>PG                   </td><td>32                   </td><td>POR                  </td><td>58                   </td><td>58                   </td><td>36.3                 </td><td> 9.6                 </td><td>...                  </td><td>11.7                 </td><td>33.8                 </td><td> 8.2                 </td><td>0.8                  </td><td> 9.0                 </td><td>0.205                </td><td> 8.3                 </td><td>-1.2                 </td><td> 7.1                 </td><td>4.9                  </td></tr>\n",
       "\t<tr><td>10                   </td><td>Klay Thompson        </td><td>40600080             </td><td>SF                   </td><td>32                   </td><td>GSW                  </td><td>69                   </td><td>69                   </td><td>33.0                 </td><td> 7.9                 </td><td>...                  </td><td> 8.6                 </td><td>26.4                 </td><td> 1.2                 </td><td>1.9                  </td><td> 3.1                 </td><td>0.066                </td><td> 1.5                 </td><td>-1.7                 </td><td>-0.3                 </td><td>1.0                  </td></tr>\n",
       "\t<tr><td>11                   </td><td>Kyrie Irving         </td><td>38917057             </td><td>PG-SG                </td><td>30                   </td><td>BRK/DAL              </td><td>60                   </td><td>60                   </td><td>37.4                 </td><td> 9.9                 </td><td>...                  </td><td> 8.8                 </td><td>28.9                 </td><td> 5.4                 </td><td>2.0                  </td><td> 7.4                 </td><td>0.159                </td><td> 4.8                 </td><td>-0.7                 </td><td> 4.1                 </td><td>3.5                  </td></tr>\n",
       "\t<tr><td>12                   </td><td>Rudy Gobert          </td><td>38172414             </td><td>C                    </td><td>30                   </td><td>MIN                  </td><td>70                   </td><td>70                   </td><td>30.7                 </td><td> 5.1                 </td><td>...                  </td><td>14.9                 </td><td>16.3                 </td><td> 4.3                 </td><td>3.5                  </td><td> 7.8                 </td><td>0.174                </td><td> 0.0                 </td><td> 0.7                 </td><td> 0.7                 </td><td>1.4                  </td></tr>\n",
       "\t<tr><td>13                   </td><td>Khris Middleton      </td><td>37984276             </td><td>SF                   </td><td>31                   </td><td>MIL                  </td><td>33                   </td><td>19                   </td><td>24.3                 </td><td> 5.4                 </td><td>...                  </td><td>13.6                 </td><td>27.4                 </td><td> 1.0                 </td><td>1.0                  </td><td> 1.9                 </td><td>0.117                </td><td> 1.0                 </td><td>-0.3                 </td><td> 0.8                 </td><td>0.6                  </td></tr>\n",
       "\t<tr><td>14                   </td><td>Anthony Davis        </td><td>37980720             </td><td>C                    </td><td>29                   </td><td>LAL                  </td><td>56                   </td><td>54                   </td><td>34.0                 </td><td> 9.7                 </td><td>...                  </td><td> 9.5                 </td><td>28.4                 </td><td> 5.5                 </td><td>3.4                  </td><td> 9.0                 </td><td>0.226                </td><td> 4.6                 </td><td> 1.7                 </td><td> 6.3                 </td><td>4.0                  </td></tr>\n",
       "\t<tr><td>15                   </td><td>Jimmy Butler         </td><td>37653300             </td><td>PF                   </td><td>33                   </td><td>MIA                  </td><td>64                   </td><td>64                   </td><td>33.4                 </td><td> 7.5                 </td><td>...                  </td><td> 8.2                 </td><td>25.6                 </td><td> 9.4                 </td><td>2.9                  </td><td>12.3                 </td><td>0.277                </td><td> 6.7                 </td><td> 2.0                 </td><td> 8.7                 </td><td>5.8                  </td></tr>\n",
       "\t<tr><td>16                   </td><td>Tobias Harris        </td><td>37633050             </td><td>SF                   </td><td>30                   </td><td>PHI                  </td><td>74                   </td><td>74                   </td><td>32.9                 </td><td> 5.7                 </td><td>...                  </td><td> 9.0                 </td><td>18.2                 </td><td> 3.1                 </td><td>2.8                  </td><td> 5.9                 </td><td>0.116                </td><td> 0.6                 </td><td> 0.1                 </td><td> 0.7                 </td><td>1.7                  </td></tr>\n",
       "\t<tr><td>17                   </td><td>Kemba Walker         </td><td>37281261             </td><td>PG                   </td><td>32                   </td><td>DAL                  </td><td> 9                   </td><td> 1                   </td><td>16.0                 </td><td> 2.7                 </td><td>...                  </td><td> 5.7                 </td><td>22.1                 </td><td> 0.2                 </td><td>0.1                  </td><td> 0.3                 </td><td>0.098                </td><td> 0.3                 </td><td>-0.6                 </td><td>-0.3                 </td><td>0.1                  </td></tr>\n",
       "\t<tr><td>18                   </td><td>Trae Young           </td><td>37096500             </td><td>PG                   </td><td>24                   </td><td>ATL                  </td><td>73                   </td><td>73                   </td><td>34.8                 </td><td> 8.2                 </td><td>...                  </td><td>15.2                 </td><td>32.6                 </td><td> 5.3                 </td><td>1.4                  </td><td> 6.7                 </td><td>0.126                </td><td> 5.3                 </td><td>-2.0                 </td><td> 3.3                 </td><td>3.4                  </td></tr>\n",
       "\t<tr><td>19                   </td><td>Zach LaVine          </td><td>37096500             </td><td>SG                   </td><td>27                   </td><td>CHI                  </td><td>77                   </td><td>77                   </td><td>35.9                 </td><td> 8.7                 </td><td>...                  </td><td>11.0                 </td><td>28.3                 </td><td> 4.2                 </td><td>2.9                  </td><td> 7.1                 </td><td>0.123                </td><td> 2.7                 </td><td>-0.7                 </td><td> 1.9                 </td><td>2.7                  </td></tr>\n",
       "\t<tr><td>20                   </td><td>Ben Simmons          </td><td>35448672             </td><td>PG                   </td><td>26                   </td><td>BRK                  </td><td>42                   </td><td>33                   </td><td>26.3                 </td><td> 3.2                 </td><td>...                  </td><td>27.2                 </td><td>14.3                 </td><td> 0.5                 </td><td>1.7                  </td><td> 2.2                 </td><td>0.097                </td><td>-2.2                 </td><td> 2.6                 </td><td> 0.4                 </td><td>0.7                  </td></tr>\n",
       "\t<tr><td>21                   </td><td>Pascal Siakam        </td><td>35448672             </td><td>PF                   </td><td>28                   </td><td>TOR                  </td><td>71                   </td><td>71                   </td><td>37.4                 </td><td> 8.9                 </td><td>...                  </td><td>10.0                 </td><td>27.2                 </td><td> 5.2                 </td><td>2.6                  </td><td> 7.8                 </td><td>0.141                </td><td> 3.3                 </td><td>-0.1                 </td><td> 3.1                 </td><td>3.4                  </td></tr>\n",
       "\t<tr><td>22                   </td><td>Myles Turner         </td><td>35096500             </td><td>C                    </td><td>26                   </td><td>IND                  </td><td>62                   </td><td>62                   </td><td>29.4                 </td><td> 6.5                 </td><td>...                  </td><td>10.8                 </td><td>22.0                 </td><td> 3.4                 </td><td>2.0                  </td><td> 5.4                 </td><td>0.142                </td><td> 1.4                 </td><td> 0.7                 </td><td> 2.1                 </td><td>1.9                  </td></tr>\n",
       "\t<tr><td>23                   </td><td>Jrue Holiday         </td><td>34319520             </td><td>PG                   </td><td>32                   </td><td>MIL                  </td><td>67                   </td><td>65                   </td><td>32.6                 </td><td> 7.3                 </td><td>...                  </td><td>15.2                 </td><td>25.0                 </td><td> 3.9                 </td><td>2.8                  </td><td> 6.7                 </td><td>0.148                </td><td> 3.0                 </td><td> 0.1                 </td><td> 3.1                 </td><td>2.8                  </td></tr>\n",
       "\t<tr><td>24                   </td><td>Karl-Anthony Towns   </td><td>33833400             </td><td>PF                   </td><td>27                   </td><td>MIN                  </td><td>29                   </td><td>29                   </td><td>33.0                 </td><td> 7.3                 </td><td>...                  </td><td>15.0                 </td><td>25.6                 </td><td> 1.5                 </td><td>1.1                  </td><td> 2.7                 </td><td>0.133                </td><td> 2.1                 </td><td> 0.9                 </td><td> 3.0                 </td><td>1.2                  </td></tr>\n",
       "\t<tr><td>25                   </td><td>Devin Booker         </td><td>33833400             </td><td>SG                   </td><td>26                   </td><td>PHO                  </td><td>53                   </td><td>53                   </td><td>34.6                 </td><td> 9.9                 </td><td>...                  </td><td>10.6                 </td><td>31.8                 </td><td> 4.2                 </td><td>1.9                  </td><td> 6.0                 </td><td>0.157                </td><td> 4.5                 </td><td>-0.3                 </td><td> 4.2                 </td><td>2.9                  </td></tr>\n",
       "\t<tr><td>26                   </td><td>Andrew Wiggins       </td><td>33616770             </td><td>SF                   </td><td>27                   </td><td>GSW                  </td><td>37                   </td><td>37                   </td><td>32.2                 </td><td> 6.8                 </td><td>...                  </td><td> 7.9                 </td><td>21.5                 </td><td> 1.0                 </td><td>1.3                  </td><td> 2.3                 </td><td>0.091                </td><td>-0.1                 </td><td>-0.4                 </td><td>-0.5                 </td><td>0.5                  </td></tr>\n",
       "\t<tr><td>27                   </td><td>Joel Embiid          </td><td>33616770             </td><td>C                    </td><td>28                   </td><td>PHI                  </td><td>66                   </td><td>66                   </td><td>34.6                 </td><td>11.0                 </td><td>...                  </td><td>11.9                 </td><td>37.0                 </td><td> 8.4                 </td><td>3.9                  </td><td>12.3                 </td><td>0.259                </td><td> 6.8                 </td><td> 2.3                 </td><td> 9.2                 </td><td>6.4                  </td></tr>\n",
       "\t<tr><td>28                   </td><td>CJ McCollum          </td><td>33333333             </td><td>SG                   </td><td>31                   </td><td>NOP                  </td><td>75                   </td><td>75                   </td><td>35.3                 </td><td> 7.8                 </td><td>...                  </td><td>11.2                 </td><td>26.4                 </td><td> 1.5                 </td><td>2.8                  </td><td> 4.3                 </td><td>0.078                </td><td> 1.5                 </td><td>-0.7                 </td><td> 0.8                 </td><td>1.9                  </td></tr>\n",
       "\t<tr><td>29                   </td><td>James Harden         </td><td>33000000             </td><td>PG                   </td><td>33                   </td><td>PHI                  </td><td>58                   </td><td>58                   </td><td>36.8                 </td><td> 6.4                 </td><td>...                  </td><td>16.3                 </td><td>25.0                 </td><td> 5.8                 </td><td>2.6                  </td><td> 8.4                 </td><td>0.188                </td><td> 5.1                 </td><td> 0.3                 </td><td> 5.4                 </td><td>4.0                  </td></tr>\n",
       "\t<tr><td>...</td><td>...</td><td>...</td><td>...</td><td>...</td><td>...</td><td>...</td><td>...</td><td>...</td><td>...</td><td>   </td><td>...</td><td>...</td><td>...</td><td>...</td><td>...</td><td>...</td><td>...</td><td>...</td><td>...</td><td>...</td></tr>\n",
       "\t<tr><td>437               </td><td>Donovan Williams  </td><td>239822            </td><td>SG                </td><td>21                </td><td>ATL               </td><td> 2                </td><td>0                 </td><td> 2.0              </td><td>1.0               </td><td>...               </td><td> 0.0              </td><td>52.5              </td><td> 0.0              </td><td>0.0               </td><td> 0.0              </td><td>-0.225            </td><td> -9.1             </td><td> -6.1             </td><td>-15.2             </td><td> 0.0              </td></tr>\n",
       "\t<tr><td>438               </td><td>Quenton Jackson   </td><td>219630            </td><td>PG                </td><td>24                </td><td>WAS               </td><td> 9                </td><td>0                 </td><td>15.0              </td><td>2.1               </td><td>...               </td><td> 7.2              </td><td>17.9              </td><td> 0.1              </td><td>0.1               </td><td> 0.2              </td><td> 0.078            </td><td> -3.7             </td><td> -1.5             </td><td> -5.1             </td><td>-0.1              </td></tr>\n",
       "\t<tr><td>439               </td><td>Chris Silva       </td><td>211045            </td><td>PF                </td><td>26                </td><td>DAL               </td><td> 1                </td><td>0                 </td><td> 3.0              </td><td>1.0               </td><td>...               </td><td>50.0              </td><td>30.1              </td><td> 0.0              </td><td>0.0               </td><td> 0.0              </td><td>-0.260            </td><td>-22.5             </td><td> -0.1             </td><td>-22.6             </td><td> 0.0              </td></tr>\n",
       "\t<tr><td>440               </td><td>Tyler Dorsey      </td><td>201802            </td><td>SF                </td><td>26                </td><td>DAL               </td><td> 3                </td><td>0                 </td><td> 2.7              </td><td>1.3               </td><td>...               </td><td> 0.0              </td><td>28.3              </td><td> 0.1              </td><td>0.0               </td><td> 0.1              </td><td> 0.367            </td><td> 17.0             </td><td>  0.8             </td><td> 17.8             </td><td> 0.0              </td></tr>\n",
       "\t<tr><td>441               </td><td>Braxton Key       </td><td>201802            </td><td>SF                </td><td>25                </td><td>DET               </td><td> 3                </td><td>0                 </td><td> 3.0              </td><td>0.3               </td><td>...               </td><td> 0.0              </td><td> 8.9              </td><td> 0.0              </td><td>0.0               </td><td> 0.0              </td><td> 0.242            </td><td>  2.1             </td><td>  0.8             </td><td>  2.9             </td><td> 0.0              </td></tr>\n",
       "\t<tr><td>442               </td><td>Jordan Hall       </td><td>193027            </td><td>SF                </td><td>21                </td><td>SAS               </td><td> 9                </td><td>0                 </td><td> 9.2              </td><td>1.0               </td><td>...               </td><td>18.0              </td><td>19.4              </td><td>-0.1              </td><td>0.0               </td><td>-0.1              </td><td>-0.077            </td><td> -4.7             </td><td> -2.9             </td><td> -7.6             </td><td>-0.1              </td></tr>\n",
       "\t<tr><td>443               </td><td>Alize Johnson     </td><td>192293            </td><td>PF                </td><td>26                </td><td>SAS               </td><td> 4                </td><td>0                 </td><td> 7.5              </td><td>0.8               </td><td>...               </td><td>36.8              </td><td>15.0              </td><td>-0.1              </td><td>0.0               </td><td>-0.1              </td><td>-0.099            </td><td> -7.4             </td><td> -1.7             </td><td> -9.1             </td><td>-0.1              </td></tr>\n",
       "\t<tr><td>444               </td><td>Devon Dotson      </td><td>169630            </td><td>PG                </td><td>23                </td><td>WAS               </td><td> 6                </td><td>0                 </td><td> 8.8              </td><td>0.2               </td><td>...               </td><td>23.1              </td><td>10.7              </td><td>-0.1              </td><td>0.1               </td><td> 0.0              </td><td>-0.025            </td><td> -7.0             </td><td>  1.8             </td><td> -5.3             </td><td> 0.0              </td></tr>\n",
       "\t<tr><td>445               </td><td>Mac McClung       </td><td>160856            </td><td>SG                </td><td>24                </td><td>PHI               </td><td> 2                </td><td>0                 </td><td>20.5              </td><td>4.5               </td><td>...               </td><td>11.9              </td><td>27.5              </td><td> 0.1              </td><td>0.0               </td><td> 0.1              </td><td> 0.140            </td><td>  2.2             </td><td> -1.7             </td><td>  0.5             </td><td> 0.0              </td></tr>\n",
       "\t<tr><td>446               </td><td>Xavier Cooks      </td><td>140384            </td><td>PF                </td><td>27                </td><td>WAS               </td><td>10                </td><td>1                 </td><td>12.6              </td><td>1.7               </td><td>...               </td><td>19.8              </td><td>13.9              </td><td> 0.1              </td><td>0.2               </td><td> 0.2              </td><td> 0.094            </td><td> -3.2             </td><td> -0.4             </td><td> -3.6             </td><td>-0.1              </td></tr>\n",
       "\t<tr><td>447               </td><td>Shaquille Harrison</td><td>134862            </td><td>SG                </td><td>29                </td><td>POR               </td><td> 5                </td><td>0                 </td><td>24.0              </td><td>3.0               </td><td>...               </td><td>12.3              </td><td>17.6              </td><td> 0.2              </td><td>0.2               </td><td> 0.3              </td><td> 0.137            </td><td> -2.5             </td><td>  2.6             </td><td>  0.1             </td><td> 0.1              </td></tr>\n",
       "\t<tr><td>448               </td><td>Lester Quinones   </td><td>129405            </td><td>SG                </td><td>22                </td><td>GSW               </td><td> 4                </td><td>0                 </td><td> 4.5              </td><td>0.5               </td><td>...               </td><td>39.6              </td><td>29.4              </td><td>-0.1              </td><td>0.0               </td><td> 0.0              </td><td>-0.103            </td><td> -6.4             </td><td> -3.7             </td><td>-10.2             </td><td> 0.0              </td></tr>\n",
       "\t<tr><td>449               </td><td>Xavier Moon       </td><td>116986            </td><td>SG                </td><td>28                </td><td>LAC               </td><td> 4                </td><td>0                 </td><td> 5.0              </td><td>0.8               </td><td>...               </td><td>10.0              </td><td>21.8              </td><td> 0.0              </td><td>0.0               </td><td> 0.0              </td><td>-0.030            </td><td> -4.1             </td><td> -1.0             </td><td> -5.1             </td><td> 0.0              </td></tr>\n",
       "\t<tr><td>450               </td><td>Jamaree Bouyea    </td><td>116986            </td><td>PG                </td><td>23                </td><td>MIA/WAS           </td><td> 5                </td><td>0                 </td><td>14.2              </td><td>1.2               </td><td>...               </td><td>21.2              </td><td>11.8              </td><td>-0.1              </td><td>0.1               </td><td> 0.0              </td><td> 0.013            </td><td> -5.8             </td><td>  1.6             </td><td> -4.2             </td><td> 0.0              </td></tr>\n",
       "\t<tr><td>451               </td><td>Jay Huff          </td><td>116986            </td><td>C                 </td><td>24                </td><td>WAS               </td><td> 7                </td><td>0                 </td><td>13.6              </td><td>2.1               </td><td>...               </td><td>13.5              </td><td>16.9              </td><td> 0.4              </td><td>0.1               </td><td> 0.5              </td><td> 0.261            </td><td>  2.8             </td><td>  1.2             </td><td>  4.0             </td><td> 0.1              </td></tr>\n",
       "\t<tr><td>452               </td><td>Skylar Mays       </td><td>116574            </td><td>PG                </td><td>25                </td><td>POR               </td><td> 6                </td><td>6                 </td><td>31.5              </td><td>5.7               </td><td>...               </td><td>11.9              </td><td>19.3              </td><td> 0.6              </td><td>0.1               </td><td> 0.7              </td><td> 0.171            </td><td>  2.1             </td><td> -2.1             </td><td>  0.0             </td><td> 0.1              </td></tr>\n",
       "\t<tr><td>453               </td><td>Frank Jackson     </td><td>113114            </td><td>PG                </td><td>24                </td><td>UTA               </td><td> 1                </td><td>0                 </td><td> 5.0              </td><td>0.0               </td><td>...               </td><td> 0.0              </td><td>25.1              </td><td> 0.0              </td><td>0.0               </td><td> 0.0              </td><td>-0.378            </td><td>-12.5             </td><td> -9.8             </td><td>-22.2             </td><td> 0.0              </td></tr>\n",
       "\t<tr><td>454               </td><td>Deonte Burton     </td><td>105522            </td><td>PF                </td><td>29                </td><td>SAC               </td><td> 2                </td><td>0                 </td><td> 3.0              </td><td>0.0               </td><td>...               </td><td> 0.0              </td><td>14.3              </td><td> 0.0              </td><td>0.0               </td><td> 0.0              </td><td>-0.347            </td><td>-13.9             </td><td>-10.4             </td><td>-24.2             </td><td> 0.0              </td></tr>\n",
       "\t<tr><td>455               </td><td>Jarrell Brantley  </td><td>105522            </td><td>PF                </td><td>26                </td><td>UTA               </td><td> 4                </td><td>0                 </td><td> 9.8              </td><td>2.0               </td><td>...               </td><td>11.8              </td><td>18.1              </td><td> 0.1              </td><td>0.0               </td><td> 0.1              </td><td> 0.160            </td><td>  3.1             </td><td>  0.4             </td><td>  3.5             </td><td> 0.1              </td></tr>\n",
       "\t<tr><td>456               </td><td>Xavier Sneed      </td><td>102910            </td><td>SF                </td><td>25                </td><td>CHO               </td><td> 4                </td><td>0                 </td><td>12.0              </td><td>1.3               </td><td>...               </td><td>20.3              </td><td>12.9              </td><td> 0.1              </td><td>0.0               </td><td> 0.1              </td><td> 0.086            </td><td> -3.1             </td><td> -0.4             </td><td> -3.6             </td><td> 0.0              </td></tr>\n",
       "\t<tr><td>457               </td><td>Lindell Wigginton </td><td> 99438            </td><td>PG                </td><td>24                </td><td>MIL               </td><td> 7                </td><td>1                 </td><td>12.4              </td><td>2.6               </td><td>...               </td><td>22.7              </td><td>25.6              </td><td> 0.0              </td><td>0.1               </td><td> 0.1              </td><td> 0.028            </td><td> -3.1             </td><td> -3.6             </td><td> -6.7             </td><td>-0.1              </td></tr>\n",
       "\t<tr><td>458               </td><td>Jordan Schakel    </td><td> 96514            </td><td>SF                </td><td>24                </td><td>WAS               </td><td> 2                </td><td>0                 </td><td> 3.0              </td><td>0.5               </td><td>...               </td><td> 0.0              </td><td>14.5              </td><td> 0.0              </td><td>0.0               </td><td> 0.0              </td><td> 0.314            </td><td>  7.7             </td><td>  9.3             </td><td> 17.0             </td><td> 0.0              </td></tr>\n",
       "\t<tr><td>459               </td><td>Stanley Umude     </td><td> 58493            </td><td>SG                </td><td>23                </td><td>DET               </td><td> 1                </td><td>0                 </td><td> 2.0              </td><td>0.0               </td><td>...               </td><td> 0.0              </td><td>40.0              </td><td> 0.0              </td><td>0.0               </td><td> 0.0              </td><td> 0.626            </td><td> 15.9             </td><td> 32.7             </td><td> 48.6             </td><td> 0.0              </td></tr>\n",
       "\t<tr><td>460               </td><td>Jeenathan Williams</td><td> 52644            </td><td>SG                </td><td>23                </td><td>POR               </td><td> 5                </td><td>4                 </td><td>25.4              </td><td>4.8               </td><td>...               </td><td> 9.0              </td><td>15.2              </td><td> 0.3              </td><td>0.0               </td><td> 0.3              </td><td> 0.120            </td><td> -1.0             </td><td> -2.1             </td><td> -3.0             </td><td> 0.0              </td></tr>\n",
       "\t<tr><td>461               </td><td>Jay Scrubb        </td><td> 49719            </td><td>SG                </td><td>22                </td><td>ORL               </td><td> 2                </td><td>0                 </td><td>15.0              </td><td>2.5               </td><td>...               </td><td>27.6              </td><td>15.6              </td><td> 0.0              </td><td>0.0               </td><td> 0.1              </td><td> 0.083            </td><td> -2.9             </td><td>  1.0             </td><td> -1.9             </td><td> 0.0              </td></tr>\n",
       "\t<tr><td>462               </td><td>Justin Minaya     </td><td> 35096            </td><td>SF                </td><td>23                </td><td>POR               </td><td> 4                </td><td>0                 </td><td>22.3              </td><td>1.8               </td><td>...               </td><td>14.6              </td><td>13.4              </td><td>-0.2              </td><td>0.1               </td><td>-0.1              </td><td>-0.067            </td><td> -7.2             </td><td> -1.9             </td><td> -9.0             </td><td>-0.2              </td></tr>\n",
       "\t<tr><td>463               </td><td>Kobi Simmons      </td><td> 32795            </td><td>SG                </td><td>25                </td><td>CHO               </td><td> 5                </td><td>0                 </td><td> 5.6              </td><td>0.2               </td><td>...               </td><td>12.7              </td><td>11.8              </td><td> 0.0              </td><td>0.0               </td><td> 0.0              </td><td> 0.019            </td><td> -1.0             </td><td>  0.1             </td><td> -0.9             </td><td> 0.0              </td></tr>\n",
       "\t<tr><td>464               </td><td>Gabe York         </td><td> 32171            </td><td>SG                </td><td>29                </td><td>IND               </td><td> 3                </td><td>0                 </td><td>18.7              </td><td>2.7               </td><td>...               </td><td> 0.0              </td><td>16.4              </td><td> 0.1              </td><td>0.0               </td><td> 0.1              </td><td> 0.091            </td><td> -1.7             </td><td> -1.8             </td><td> -3.5             </td><td> 0.0              </td></tr>\n",
       "\t<tr><td>465               </td><td>RaiQuan Gray      </td><td>  5849            </td><td>PF                </td><td>23                </td><td>BRK               </td><td> 1                </td><td>0                 </td><td>35.0              </td><td>6.0               </td><td>...               </td><td>23.7              </td><td>21.4              </td><td> 0.0              </td><td>0.0               </td><td> 0.1              </td><td> 0.106            </td><td> -0.6             </td><td> -1.4             </td><td> -2.0             </td><td> 0.0              </td></tr>\n",
       "\t<tr><td>466               </td><td>Jacob Gilyard     </td><td>  5849            </td><td>PG                </td><td>24                </td><td>MEM               </td><td> 1                </td><td>0                 </td><td>41.0              </td><td>1.0               </td><td>...               </td><td>40.0              </td><td> 5.1              </td><td> 0.0              </td><td>0.1               </td><td> 0.1              </td><td> 0.079            </td><td> -7.8             </td><td>  1.7             </td><td> -6.1             </td><td> 0.0              </td></tr>\n",
       "</tbody>\n",
       "</table>\n"
      ],
      "text/latex": [
       "\\begin{tabular}{r|llllllllllllllllllllllllllllllllllllllllllllllllllll}\n",
       " X & Player.Name & Salary & Position & Age & Team & GP & GS & MP & FG & ... & TOV. & USG. & OWS & DWS & WS & WS.48 & OBPM & DBPM & BPM & VORP\\\\\n",
       "\\hline\n",
       "\t  0                    & Stephen Curry         & 48070014              & PG                    & 34                    & GSW                   & 56                    & 56                    & 34.7                  & 10.0                  & ...                   & 12.5                  & 31.0                  &  5.8                  & 2.0                   &  7.8                  & 0.192                 &  7.5                  &  0.1                  &  7.5                  & 4.7                  \\\\\n",
       "\t  1                    & John Wall             & 47345760              & PG                    & 32                    & LAC                   & 34                    &  3                    & 22.2                  &  4.1                  & ...                   & 17.1                  & 27.0                  & -0.4                  & 0.7                   &  0.3                  & 0.020                 & -0.8                  & -0.4                  & -1.2                  & 0.1                  \\\\\n",
       "\t  2                    & Russell Westbrook     & 47080179              & PG                    & 34                    & LAL/LAC               & 73                    & 24                    & 29.1                  &  5.9                  & ...                   & 18.4                  & 27.7                  & -0.6                  & 2.6                   &  1.9                  & 0.044                 &  0.3                  & -0.1                  &  0.2                  & 1.2                  \\\\\n",
       "\t  3                    & LeBron James          & 44474988              & PF                    & 38                    & LAL                   & 55                    & 54                    & 35.5                  & 11.1                  & ...                   & 11.6                  & 33.3                  &  3.2                  & 2.4                   &  5.6                  & 0.138                 &  5.5                  &  0.6                  &  6.1                  & 4.0                  \\\\\n",
       "\t  4                    & Kevin Durant          & 44119845              & PF                    & 34                    & BRK/PHO               & 47                    & 47                    & 35.6                  & 10.3                  & ...                   & 13.4                  & 30.7                  &  4.7                  & 2.1                   &  6.8                  & 0.194                 &  6.0                  &  1.2                  &  7.1                  & 3.9                  \\\\\n",
       "\t  5                    & Bradley Beal          & 43279250              & SG                    & 29                    & WAS                   & 50                    & 50                    & 33.5                  &  8.9                  & ...                   & 12.9                  & 29.2                  &  2.2                  & 1.2                   &  3.4                  & 0.099                 &  2.9                  & -1.2                  &  1.8                  & 1.6                  \\\\\n",
       "\t  6                    & Kawhi Leonard         & 42492492              & SF                    & 31                    & LAC                   & 52                    & 50                    & 33.6                  &  8.6                  & ...                   &  8.1                  & 27.0                  &  4.9                  & 2.2                   &  7.1                  & 0.194                 &  5.1                  &  0.9                  &  6.1                  & 3.5                  \\\\\n",
       "\t  7                    & Paul George           & 42492492              & SF                    & 32                    & LAC                   & 56                    & 56                    & 34.6                  &  8.2                  & ...                   & 13.4                  & 29.5                  &  2.3                  & 2.3                   &  4.6                  & 0.114                 &  2.4                  &  0.3                  &  2.8                  & 2.3                  \\\\\n",
       "\t  8                    & Giannis Antetokounmpo & 42492492              & PF                    & 28                    & MIL                   & 63                    & 63                    & 32.1                  & 11.2                  & ...                   & 13.2                  & 38.8                  &  4.9                  & 3.7                   &  8.6                  & 0.204                 &  5.8                  &  2.7                  &  8.5                  & 5.4                  \\\\\n",
       "\t  9                    & Damian Lillard        & 42492492              & PG                    & 32                    & POR                   & 58                    & 58                    & 36.3                  &  9.6                  & ...                   & 11.7                  & 33.8                  &  8.2                  & 0.8                   &  9.0                  & 0.205                 &  8.3                  & -1.2                  &  7.1                  & 4.9                  \\\\\n",
       "\t 10                    & Klay Thompson         & 40600080              & SF                    & 32                    & GSW                   & 69                    & 69                    & 33.0                  &  7.9                  & ...                   &  8.6                  & 26.4                  &  1.2                  & 1.9                   &  3.1                  & 0.066                 &  1.5                  & -1.7                  & -0.3                  & 1.0                  \\\\\n",
       "\t 11                    & Kyrie Irving          & 38917057              & PG-SG                 & 30                    & BRK/DAL               & 60                    & 60                    & 37.4                  &  9.9                  & ...                   &  8.8                  & 28.9                  &  5.4                  & 2.0                   &  7.4                  & 0.159                 &  4.8                  & -0.7                  &  4.1                  & 3.5                  \\\\\n",
       "\t 12                    & Rudy Gobert           & 38172414              & C                     & 30                    & MIN                   & 70                    & 70                    & 30.7                  &  5.1                  & ...                   & 14.9                  & 16.3                  &  4.3                  & 3.5                   &  7.8                  & 0.174                 &  0.0                  &  0.7                  &  0.7                  & 1.4                  \\\\\n",
       "\t 13                    & Khris Middleton       & 37984276              & SF                    & 31                    & MIL                   & 33                    & 19                    & 24.3                  &  5.4                  & ...                   & 13.6                  & 27.4                  &  1.0                  & 1.0                   &  1.9                  & 0.117                 &  1.0                  & -0.3                  &  0.8                  & 0.6                  \\\\\n",
       "\t 14                    & Anthony Davis         & 37980720              & C                     & 29                    & LAL                   & 56                    & 54                    & 34.0                  &  9.7                  & ...                   &  9.5                  & 28.4                  &  5.5                  & 3.4                   &  9.0                  & 0.226                 &  4.6                  &  1.7                  &  6.3                  & 4.0                  \\\\\n",
       "\t 15                    & Jimmy Butler          & 37653300              & PF                    & 33                    & MIA                   & 64                    & 64                    & 33.4                  &  7.5                  & ...                   &  8.2                  & 25.6                  &  9.4                  & 2.9                   & 12.3                  & 0.277                 &  6.7                  &  2.0                  &  8.7                  & 5.8                  \\\\\n",
       "\t 16                    & Tobias Harris         & 37633050              & SF                    & 30                    & PHI                   & 74                    & 74                    & 32.9                  &  5.7                  & ...                   &  9.0                  & 18.2                  &  3.1                  & 2.8                   &  5.9                  & 0.116                 &  0.6                  &  0.1                  &  0.7                  & 1.7                  \\\\\n",
       "\t 17                    & Kemba Walker          & 37281261              & PG                    & 32                    & DAL                   &  9                    &  1                    & 16.0                  &  2.7                  & ...                   &  5.7                  & 22.1                  &  0.2                  & 0.1                   &  0.3                  & 0.098                 &  0.3                  & -0.6                  & -0.3                  & 0.1                  \\\\\n",
       "\t 18                    & Trae Young            & 37096500              & PG                    & 24                    & ATL                   & 73                    & 73                    & 34.8                  &  8.2                  & ...                   & 15.2                  & 32.6                  &  5.3                  & 1.4                   &  6.7                  & 0.126                 &  5.3                  & -2.0                  &  3.3                  & 3.4                  \\\\\n",
       "\t 19                    & Zach LaVine           & 37096500              & SG                    & 27                    & CHI                   & 77                    & 77                    & 35.9                  &  8.7                  & ...                   & 11.0                  & 28.3                  &  4.2                  & 2.9                   &  7.1                  & 0.123                 &  2.7                  & -0.7                  &  1.9                  & 2.7                  \\\\\n",
       "\t 20                    & Ben Simmons           & 35448672              & PG                    & 26                    & BRK                   & 42                    & 33                    & 26.3                  &  3.2                  & ...                   & 27.2                  & 14.3                  &  0.5                  & 1.7                   &  2.2                  & 0.097                 & -2.2                  &  2.6                  &  0.4                  & 0.7                  \\\\\n",
       "\t 21                    & Pascal Siakam         & 35448672              & PF                    & 28                    & TOR                   & 71                    & 71                    & 37.4                  &  8.9                  & ...                   & 10.0                  & 27.2                  &  5.2                  & 2.6                   &  7.8                  & 0.141                 &  3.3                  & -0.1                  &  3.1                  & 3.4                  \\\\\n",
       "\t 22                    & Myles Turner          & 35096500              & C                     & 26                    & IND                   & 62                    & 62                    & 29.4                  &  6.5                  & ...                   & 10.8                  & 22.0                  &  3.4                  & 2.0                   &  5.4                  & 0.142                 &  1.4                  &  0.7                  &  2.1                  & 1.9                  \\\\\n",
       "\t 23                    & Jrue Holiday          & 34319520              & PG                    & 32                    & MIL                   & 67                    & 65                    & 32.6                  &  7.3                  & ...                   & 15.2                  & 25.0                  &  3.9                  & 2.8                   &  6.7                  & 0.148                 &  3.0                  &  0.1                  &  3.1                  & 2.8                  \\\\\n",
       "\t 24                    & Karl-Anthony Towns    & 33833400              & PF                    & 27                    & MIN                   & 29                    & 29                    & 33.0                  &  7.3                  & ...                   & 15.0                  & 25.6                  &  1.5                  & 1.1                   &  2.7                  & 0.133                 &  2.1                  &  0.9                  &  3.0                  & 1.2                  \\\\\n",
       "\t 25                    & Devin Booker          & 33833400              & SG                    & 26                    & PHO                   & 53                    & 53                    & 34.6                  &  9.9                  & ...                   & 10.6                  & 31.8                  &  4.2                  & 1.9                   &  6.0                  & 0.157                 &  4.5                  & -0.3                  &  4.2                  & 2.9                  \\\\\n",
       "\t 26                    & Andrew Wiggins        & 33616770              & SF                    & 27                    & GSW                   & 37                    & 37                    & 32.2                  &  6.8                  & ...                   &  7.9                  & 21.5                  &  1.0                  & 1.3                   &  2.3                  & 0.091                 & -0.1                  & -0.4                  & -0.5                  & 0.5                  \\\\\n",
       "\t 27                    & Joel Embiid           & 33616770              & C                     & 28                    & PHI                   & 66                    & 66                    & 34.6                  & 11.0                  & ...                   & 11.9                  & 37.0                  &  8.4                  & 3.9                   & 12.3                  & 0.259                 &  6.8                  &  2.3                  &  9.2                  & 6.4                  \\\\\n",
       "\t 28                    & CJ McCollum           & 33333333              & SG                    & 31                    & NOP                   & 75                    & 75                    & 35.3                  &  7.8                  & ...                   & 11.2                  & 26.4                  &  1.5                  & 2.8                   &  4.3                  & 0.078                 &  1.5                  & -0.7                  &  0.8                  & 1.9                  \\\\\n",
       "\t 29                    & James Harden          & 33000000              & PG                    & 33                    & PHI                   & 58                    & 58                    & 36.8                  &  6.4                  & ...                   & 16.3                  & 25.0                  &  5.8                  & 2.6                   &  8.4                  & 0.188                 &  5.1                  &  0.3                  &  5.4                  & 4.0                  \\\\\n",
       "\t ... & ... & ... & ... & ... & ... & ... & ... & ... & ... &     & ... & ... & ... & ... & ... & ... & ... & ... & ... & ...\\\\\n",
       "\t 437                & Donovan Williams   & 239822             & SG                 & 21                 & ATL                &  2                 & 0                  &  2.0               & 1.0                & ...                &  0.0               & 52.5               &  0.0               & 0.0                &  0.0               & -0.225             &  -9.1              &  -6.1              & -15.2              &  0.0              \\\\\n",
       "\t 438                & Quenton Jackson    & 219630             & PG                 & 24                 & WAS                &  9                 & 0                  & 15.0               & 2.1                & ...                &  7.2               & 17.9               &  0.1               & 0.1                &  0.2               &  0.078             &  -3.7              &  -1.5              &  -5.1              & -0.1              \\\\\n",
       "\t 439                & Chris Silva        & 211045             & PF                 & 26                 & DAL                &  1                 & 0                  &  3.0               & 1.0                & ...                & 50.0               & 30.1               &  0.0               & 0.0                &  0.0               & -0.260             & -22.5              &  -0.1              & -22.6              &  0.0              \\\\\n",
       "\t 440                & Tyler Dorsey       & 201802             & SF                 & 26                 & DAL                &  3                 & 0                  &  2.7               & 1.3                & ...                &  0.0               & 28.3               &  0.1               & 0.0                &  0.1               &  0.367             &  17.0              &   0.8              &  17.8              &  0.0              \\\\\n",
       "\t 441                & Braxton Key        & 201802             & SF                 & 25                 & DET                &  3                 & 0                  &  3.0               & 0.3                & ...                &  0.0               &  8.9               &  0.0               & 0.0                &  0.0               &  0.242             &   2.1              &   0.8              &   2.9              &  0.0              \\\\\n",
       "\t 442                & Jordan Hall        & 193027             & SF                 & 21                 & SAS                &  9                 & 0                  &  9.2               & 1.0                & ...                & 18.0               & 19.4               & -0.1               & 0.0                & -0.1               & -0.077             &  -4.7              &  -2.9              &  -7.6              & -0.1              \\\\\n",
       "\t 443                & Alize Johnson      & 192293             & PF                 & 26                 & SAS                &  4                 & 0                  &  7.5               & 0.8                & ...                & 36.8               & 15.0               & -0.1               & 0.0                & -0.1               & -0.099             &  -7.4              &  -1.7              &  -9.1              & -0.1              \\\\\n",
       "\t 444                & Devon Dotson       & 169630             & PG                 & 23                 & WAS                &  6                 & 0                  &  8.8               & 0.2                & ...                & 23.1               & 10.7               & -0.1               & 0.1                &  0.0               & -0.025             &  -7.0              &   1.8              &  -5.3              &  0.0              \\\\\n",
       "\t 445                & Mac McClung        & 160856             & SG                 & 24                 & PHI                &  2                 & 0                  & 20.5               & 4.5                & ...                & 11.9               & 27.5               &  0.1               & 0.0                &  0.1               &  0.140             &   2.2              &  -1.7              &   0.5              &  0.0              \\\\\n",
       "\t 446                & Xavier Cooks       & 140384             & PF                 & 27                 & WAS                & 10                 & 1                  & 12.6               & 1.7                & ...                & 19.8               & 13.9               &  0.1               & 0.2                &  0.2               &  0.094             &  -3.2              &  -0.4              &  -3.6              & -0.1              \\\\\n",
       "\t 447                & Shaquille Harrison & 134862             & SG                 & 29                 & POR                &  5                 & 0                  & 24.0               & 3.0                & ...                & 12.3               & 17.6               &  0.2               & 0.2                &  0.3               &  0.137             &  -2.5              &   2.6              &   0.1              &  0.1              \\\\\n",
       "\t 448                & Lester Quinones    & 129405             & SG                 & 22                 & GSW                &  4                 & 0                  &  4.5               & 0.5                & ...                & 39.6               & 29.4               & -0.1               & 0.0                &  0.0               & -0.103             &  -6.4              &  -3.7              & -10.2              &  0.0              \\\\\n",
       "\t 449                & Xavier Moon        & 116986             & SG                 & 28                 & LAC                &  4                 & 0                  &  5.0               & 0.8                & ...                & 10.0               & 21.8               &  0.0               & 0.0                &  0.0               & -0.030             &  -4.1              &  -1.0              &  -5.1              &  0.0              \\\\\n",
       "\t 450                & Jamaree Bouyea     & 116986             & PG                 & 23                 & MIA/WAS            &  5                 & 0                  & 14.2               & 1.2                & ...                & 21.2               & 11.8               & -0.1               & 0.1                &  0.0               &  0.013             &  -5.8              &   1.6              &  -4.2              &  0.0              \\\\\n",
       "\t 451                & Jay Huff           & 116986             & C                  & 24                 & WAS                &  7                 & 0                  & 13.6               & 2.1                & ...                & 13.5               & 16.9               &  0.4               & 0.1                &  0.5               &  0.261             &   2.8              &   1.2              &   4.0              &  0.1              \\\\\n",
       "\t 452                & Skylar Mays        & 116574             & PG                 & 25                 & POR                &  6                 & 6                  & 31.5               & 5.7                & ...                & 11.9               & 19.3               &  0.6               & 0.1                &  0.7               &  0.171             &   2.1              &  -2.1              &   0.0              &  0.1              \\\\\n",
       "\t 453                & Frank Jackson      & 113114             & PG                 & 24                 & UTA                &  1                 & 0                  &  5.0               & 0.0                & ...                &  0.0               & 25.1               &  0.0               & 0.0                &  0.0               & -0.378             & -12.5              &  -9.8              & -22.2              &  0.0              \\\\\n",
       "\t 454                & Deonte Burton      & 105522             & PF                 & 29                 & SAC                &  2                 & 0                  &  3.0               & 0.0                & ...                &  0.0               & 14.3               &  0.0               & 0.0                &  0.0               & -0.347             & -13.9              & -10.4              & -24.2              &  0.0              \\\\\n",
       "\t 455                & Jarrell Brantley   & 105522             & PF                 & 26                 & UTA                &  4                 & 0                  &  9.8               & 2.0                & ...                & 11.8               & 18.1               &  0.1               & 0.0                &  0.1               &  0.160             &   3.1              &   0.4              &   3.5              &  0.1              \\\\\n",
       "\t 456                & Xavier Sneed       & 102910             & SF                 & 25                 & CHO                &  4                 & 0                  & 12.0               & 1.3                & ...                & 20.3               & 12.9               &  0.1               & 0.0                &  0.1               &  0.086             &  -3.1              &  -0.4              &  -3.6              &  0.0              \\\\\n",
       "\t 457                & Lindell Wigginton  &  99438             & PG                 & 24                 & MIL                &  7                 & 1                  & 12.4               & 2.6                & ...                & 22.7               & 25.6               &  0.0               & 0.1                &  0.1               &  0.028             &  -3.1              &  -3.6              &  -6.7              & -0.1              \\\\\n",
       "\t 458                & Jordan Schakel     &  96514             & SF                 & 24                 & WAS                &  2                 & 0                  &  3.0               & 0.5                & ...                &  0.0               & 14.5               &  0.0               & 0.0                &  0.0               &  0.314             &   7.7              &   9.3              &  17.0              &  0.0              \\\\\n",
       "\t 459                & Stanley Umude      &  58493             & SG                 & 23                 & DET                &  1                 & 0                  &  2.0               & 0.0                & ...                &  0.0               & 40.0               &  0.0               & 0.0                &  0.0               &  0.626             &  15.9              &  32.7              &  48.6              &  0.0              \\\\\n",
       "\t 460                & Jeenathan Williams &  52644             & SG                 & 23                 & POR                &  5                 & 4                  & 25.4               & 4.8                & ...                &  9.0               & 15.2               &  0.3               & 0.0                &  0.3               &  0.120             &  -1.0              &  -2.1              &  -3.0              &  0.0              \\\\\n",
       "\t 461                & Jay Scrubb         &  49719             & SG                 & 22                 & ORL                &  2                 & 0                  & 15.0               & 2.5                & ...                & 27.6               & 15.6               &  0.0               & 0.0                &  0.1               &  0.083             &  -2.9              &   1.0              &  -1.9              &  0.0              \\\\\n",
       "\t 462                & Justin Minaya      &  35096             & SF                 & 23                 & POR                &  4                 & 0                  & 22.3               & 1.8                & ...                & 14.6               & 13.4               & -0.2               & 0.1                & -0.1               & -0.067             &  -7.2              &  -1.9              &  -9.0              & -0.2              \\\\\n",
       "\t 463                & Kobi Simmons       &  32795             & SG                 & 25                 & CHO                &  5                 & 0                  &  5.6               & 0.2                & ...                & 12.7               & 11.8               &  0.0               & 0.0                &  0.0               &  0.019             &  -1.0              &   0.1              &  -0.9              &  0.0              \\\\\n",
       "\t 464                & Gabe York          &  32171             & SG                 & 29                 & IND                &  3                 & 0                  & 18.7               & 2.7                & ...                &  0.0               & 16.4               &  0.1               & 0.0                &  0.1               &  0.091             &  -1.7              &  -1.8              &  -3.5              &  0.0              \\\\\n",
       "\t 465                & RaiQuan Gray       &   5849             & PF                 & 23                 & BRK                &  1                 & 0                  & 35.0               & 6.0                & ...                & 23.7               & 21.4               &  0.0               & 0.0                &  0.1               &  0.106             &  -0.6              &  -1.4              &  -2.0              &  0.0              \\\\\n",
       "\t 466                & Jacob Gilyard      &   5849             & PG                 & 24                 & MEM                &  1                 & 0                  & 41.0               & 1.0                & ...                & 40.0               &  5.1               &  0.0               & 0.1                &  0.1               &  0.079             &  -7.8              &   1.7              &  -6.1              &  0.0              \\\\\n",
       "\\end{tabular}\n"
      ],
      "text/markdown": [
       "\n",
       "| X | Player.Name | Salary | Position | Age | Team | GP | GS | MP | FG | ... | TOV. | USG. | OWS | DWS | WS | WS.48 | OBPM | DBPM | BPM | VORP |\n",
       "|---|---|---|---|---|---|---|---|---|---|---|---|---|---|---|---|---|---|---|---|---|\n",
       "|  0                    | Stephen Curry         | 48070014              | PG                    | 34                    | GSW                   | 56                    | 56                    | 34.7                  | 10.0                  | ...                   | 12.5                  | 31.0                  |  5.8                  | 2.0                   |  7.8                  | 0.192                 |  7.5                  |  0.1                  |  7.5                  | 4.7                   |\n",
       "|  1                    | John Wall             | 47345760              | PG                    | 32                    | LAC                   | 34                    |  3                    | 22.2                  |  4.1                  | ...                   | 17.1                  | 27.0                  | -0.4                  | 0.7                   |  0.3                  | 0.020                 | -0.8                  | -0.4                  | -1.2                  | 0.1                   |\n",
       "|  2                    | Russell Westbrook     | 47080179              | PG                    | 34                    | LAL/LAC               | 73                    | 24                    | 29.1                  |  5.9                  | ...                   | 18.4                  | 27.7                  | -0.6                  | 2.6                   |  1.9                  | 0.044                 |  0.3                  | -0.1                  |  0.2                  | 1.2                   |\n",
       "|  3                    | LeBron James          | 44474988              | PF                    | 38                    | LAL                   | 55                    | 54                    | 35.5                  | 11.1                  | ...                   | 11.6                  | 33.3                  |  3.2                  | 2.4                   |  5.6                  | 0.138                 |  5.5                  |  0.6                  |  6.1                  | 4.0                   |\n",
       "|  4                    | Kevin Durant          | 44119845              | PF                    | 34                    | BRK/PHO               | 47                    | 47                    | 35.6                  | 10.3                  | ...                   | 13.4                  | 30.7                  |  4.7                  | 2.1                   |  6.8                  | 0.194                 |  6.0                  |  1.2                  |  7.1                  | 3.9                   |\n",
       "|  5                    | Bradley Beal          | 43279250              | SG                    | 29                    | WAS                   | 50                    | 50                    | 33.5                  |  8.9                  | ...                   | 12.9                  | 29.2                  |  2.2                  | 1.2                   |  3.4                  | 0.099                 |  2.9                  | -1.2                  |  1.8                  | 1.6                   |\n",
       "|  6                    | Kawhi Leonard         | 42492492              | SF                    | 31                    | LAC                   | 52                    | 50                    | 33.6                  |  8.6                  | ...                   |  8.1                  | 27.0                  |  4.9                  | 2.2                   |  7.1                  | 0.194                 |  5.1                  |  0.9                  |  6.1                  | 3.5                   |\n",
       "|  7                    | Paul George           | 42492492              | SF                    | 32                    | LAC                   | 56                    | 56                    | 34.6                  |  8.2                  | ...                   | 13.4                  | 29.5                  |  2.3                  | 2.3                   |  4.6                  | 0.114                 |  2.4                  |  0.3                  |  2.8                  | 2.3                   |\n",
       "|  8                    | Giannis Antetokounmpo | 42492492              | PF                    | 28                    | MIL                   | 63                    | 63                    | 32.1                  | 11.2                  | ...                   | 13.2                  | 38.8                  |  4.9                  | 3.7                   |  8.6                  | 0.204                 |  5.8                  |  2.7                  |  8.5                  | 5.4                   |\n",
       "|  9                    | Damian Lillard        | 42492492              | PG                    | 32                    | POR                   | 58                    | 58                    | 36.3                  |  9.6                  | ...                   | 11.7                  | 33.8                  |  8.2                  | 0.8                   |  9.0                  | 0.205                 |  8.3                  | -1.2                  |  7.1                  | 4.9                   |\n",
       "| 10                    | Klay Thompson         | 40600080              | SF                    | 32                    | GSW                   | 69                    | 69                    | 33.0                  |  7.9                  | ...                   |  8.6                  | 26.4                  |  1.2                  | 1.9                   |  3.1                  | 0.066                 |  1.5                  | -1.7                  | -0.3                  | 1.0                   |\n",
       "| 11                    | Kyrie Irving          | 38917057              | PG-SG                 | 30                    | BRK/DAL               | 60                    | 60                    | 37.4                  |  9.9                  | ...                   |  8.8                  | 28.9                  |  5.4                  | 2.0                   |  7.4                  | 0.159                 |  4.8                  | -0.7                  |  4.1                  | 3.5                   |\n",
       "| 12                    | Rudy Gobert           | 38172414              | C                     | 30                    | MIN                   | 70                    | 70                    | 30.7                  |  5.1                  | ...                   | 14.9                  | 16.3                  |  4.3                  | 3.5                   |  7.8                  | 0.174                 |  0.0                  |  0.7                  |  0.7                  | 1.4                   |\n",
       "| 13                    | Khris Middleton       | 37984276              | SF                    | 31                    | MIL                   | 33                    | 19                    | 24.3                  |  5.4                  | ...                   | 13.6                  | 27.4                  |  1.0                  | 1.0                   |  1.9                  | 0.117                 |  1.0                  | -0.3                  |  0.8                  | 0.6                   |\n",
       "| 14                    | Anthony Davis         | 37980720              | C                     | 29                    | LAL                   | 56                    | 54                    | 34.0                  |  9.7                  | ...                   |  9.5                  | 28.4                  |  5.5                  | 3.4                   |  9.0                  | 0.226                 |  4.6                  |  1.7                  |  6.3                  | 4.0                   |\n",
       "| 15                    | Jimmy Butler          | 37653300              | PF                    | 33                    | MIA                   | 64                    | 64                    | 33.4                  |  7.5                  | ...                   |  8.2                  | 25.6                  |  9.4                  | 2.9                   | 12.3                  | 0.277                 |  6.7                  |  2.0                  |  8.7                  | 5.8                   |\n",
       "| 16                    | Tobias Harris         | 37633050              | SF                    | 30                    | PHI                   | 74                    | 74                    | 32.9                  |  5.7                  | ...                   |  9.0                  | 18.2                  |  3.1                  | 2.8                   |  5.9                  | 0.116                 |  0.6                  |  0.1                  |  0.7                  | 1.7                   |\n",
       "| 17                    | Kemba Walker          | 37281261              | PG                    | 32                    | DAL                   |  9                    |  1                    | 16.0                  |  2.7                  | ...                   |  5.7                  | 22.1                  |  0.2                  | 0.1                   |  0.3                  | 0.098                 |  0.3                  | -0.6                  | -0.3                  | 0.1                   |\n",
       "| 18                    | Trae Young            | 37096500              | PG                    | 24                    | ATL                   | 73                    | 73                    | 34.8                  |  8.2                  | ...                   | 15.2                  | 32.6                  |  5.3                  | 1.4                   |  6.7                  | 0.126                 |  5.3                  | -2.0                  |  3.3                  | 3.4                   |\n",
       "| 19                    | Zach LaVine           | 37096500              | SG                    | 27                    | CHI                   | 77                    | 77                    | 35.9                  |  8.7                  | ...                   | 11.0                  | 28.3                  |  4.2                  | 2.9                   |  7.1                  | 0.123                 |  2.7                  | -0.7                  |  1.9                  | 2.7                   |\n",
       "| 20                    | Ben Simmons           | 35448672              | PG                    | 26                    | BRK                   | 42                    | 33                    | 26.3                  |  3.2                  | ...                   | 27.2                  | 14.3                  |  0.5                  | 1.7                   |  2.2                  | 0.097                 | -2.2                  |  2.6                  |  0.4                  | 0.7                   |\n",
       "| 21                    | Pascal Siakam         | 35448672              | PF                    | 28                    | TOR                   | 71                    | 71                    | 37.4                  |  8.9                  | ...                   | 10.0                  | 27.2                  |  5.2                  | 2.6                   |  7.8                  | 0.141                 |  3.3                  | -0.1                  |  3.1                  | 3.4                   |\n",
       "| 22                    | Myles Turner          | 35096500              | C                     | 26                    | IND                   | 62                    | 62                    | 29.4                  |  6.5                  | ...                   | 10.8                  | 22.0                  |  3.4                  | 2.0                   |  5.4                  | 0.142                 |  1.4                  |  0.7                  |  2.1                  | 1.9                   |\n",
       "| 23                    | Jrue Holiday          | 34319520              | PG                    | 32                    | MIL                   | 67                    | 65                    | 32.6                  |  7.3                  | ...                   | 15.2                  | 25.0                  |  3.9                  | 2.8                   |  6.7                  | 0.148                 |  3.0                  |  0.1                  |  3.1                  | 2.8                   |\n",
       "| 24                    | Karl-Anthony Towns    | 33833400              | PF                    | 27                    | MIN                   | 29                    | 29                    | 33.0                  |  7.3                  | ...                   | 15.0                  | 25.6                  |  1.5                  | 1.1                   |  2.7                  | 0.133                 |  2.1                  |  0.9                  |  3.0                  | 1.2                   |\n",
       "| 25                    | Devin Booker          | 33833400              | SG                    | 26                    | PHO                   | 53                    | 53                    | 34.6                  |  9.9                  | ...                   | 10.6                  | 31.8                  |  4.2                  | 1.9                   |  6.0                  | 0.157                 |  4.5                  | -0.3                  |  4.2                  | 2.9                   |\n",
       "| 26                    | Andrew Wiggins        | 33616770              | SF                    | 27                    | GSW                   | 37                    | 37                    | 32.2                  |  6.8                  | ...                   |  7.9                  | 21.5                  |  1.0                  | 1.3                   |  2.3                  | 0.091                 | -0.1                  | -0.4                  | -0.5                  | 0.5                   |\n",
       "| 27                    | Joel Embiid           | 33616770              | C                     | 28                    | PHI                   | 66                    | 66                    | 34.6                  | 11.0                  | ...                   | 11.9                  | 37.0                  |  8.4                  | 3.9                   | 12.3                  | 0.259                 |  6.8                  |  2.3                  |  9.2                  | 6.4                   |\n",
       "| 28                    | CJ McCollum           | 33333333              | SG                    | 31                    | NOP                   | 75                    | 75                    | 35.3                  |  7.8                  | ...                   | 11.2                  | 26.4                  |  1.5                  | 2.8                   |  4.3                  | 0.078                 |  1.5                  | -0.7                  |  0.8                  | 1.9                   |\n",
       "| 29                    | James Harden          | 33000000              | PG                    | 33                    | PHI                   | 58                    | 58                    | 36.8                  |  6.4                  | ...                   | 16.3                  | 25.0                  |  5.8                  | 2.6                   |  8.4                  | 0.188                 |  5.1                  |  0.3                  |  5.4                  | 4.0                   |\n",
       "| ... | ... | ... | ... | ... | ... | ... | ... | ... | ... |     | ... | ... | ... | ... | ... | ... | ... | ... | ... | ... |\n",
       "| 437                | Donovan Williams   | 239822             | SG                 | 21                 | ATL                |  2                 | 0                  |  2.0               | 1.0                | ...                |  0.0               | 52.5               |  0.0               | 0.0                |  0.0               | -0.225             |  -9.1              |  -6.1              | -15.2              |  0.0               |\n",
       "| 438                | Quenton Jackson    | 219630             | PG                 | 24                 | WAS                |  9                 | 0                  | 15.0               | 2.1                | ...                |  7.2               | 17.9               |  0.1               | 0.1                |  0.2               |  0.078             |  -3.7              |  -1.5              |  -5.1              | -0.1               |\n",
       "| 439                | Chris Silva        | 211045             | PF                 | 26                 | DAL                |  1                 | 0                  |  3.0               | 1.0                | ...                | 50.0               | 30.1               |  0.0               | 0.0                |  0.0               | -0.260             | -22.5              |  -0.1              | -22.6              |  0.0               |\n",
       "| 440                | Tyler Dorsey       | 201802             | SF                 | 26                 | DAL                |  3                 | 0                  |  2.7               | 1.3                | ...                |  0.0               | 28.3               |  0.1               | 0.0                |  0.1               |  0.367             |  17.0              |   0.8              |  17.8              |  0.0               |\n",
       "| 441                | Braxton Key        | 201802             | SF                 | 25                 | DET                |  3                 | 0                  |  3.0               | 0.3                | ...                |  0.0               |  8.9               |  0.0               | 0.0                |  0.0               |  0.242             |   2.1              |   0.8              |   2.9              |  0.0               |\n",
       "| 442                | Jordan Hall        | 193027             | SF                 | 21                 | SAS                |  9                 | 0                  |  9.2               | 1.0                | ...                | 18.0               | 19.4               | -0.1               | 0.0                | -0.1               | -0.077             |  -4.7              |  -2.9              |  -7.6              | -0.1               |\n",
       "| 443                | Alize Johnson      | 192293             | PF                 | 26                 | SAS                |  4                 | 0                  |  7.5               | 0.8                | ...                | 36.8               | 15.0               | -0.1               | 0.0                | -0.1               | -0.099             |  -7.4              |  -1.7              |  -9.1              | -0.1               |\n",
       "| 444                | Devon Dotson       | 169630             | PG                 | 23                 | WAS                |  6                 | 0                  |  8.8               | 0.2                | ...                | 23.1               | 10.7               | -0.1               | 0.1                |  0.0               | -0.025             |  -7.0              |   1.8              |  -5.3              |  0.0               |\n",
       "| 445                | Mac McClung        | 160856             | SG                 | 24                 | PHI                |  2                 | 0                  | 20.5               | 4.5                | ...                | 11.9               | 27.5               |  0.1               | 0.0                |  0.1               |  0.140             |   2.2              |  -1.7              |   0.5              |  0.0               |\n",
       "| 446                | Xavier Cooks       | 140384             | PF                 | 27                 | WAS                | 10                 | 1                  | 12.6               | 1.7                | ...                | 19.8               | 13.9               |  0.1               | 0.2                |  0.2               |  0.094             |  -3.2              |  -0.4              |  -3.6              | -0.1               |\n",
       "| 447                | Shaquille Harrison | 134862             | SG                 | 29                 | POR                |  5                 | 0                  | 24.0               | 3.0                | ...                | 12.3               | 17.6               |  0.2               | 0.2                |  0.3               |  0.137             |  -2.5              |   2.6              |   0.1              |  0.1               |\n",
       "| 448                | Lester Quinones    | 129405             | SG                 | 22                 | GSW                |  4                 | 0                  |  4.5               | 0.5                | ...                | 39.6               | 29.4               | -0.1               | 0.0                |  0.0               | -0.103             |  -6.4              |  -3.7              | -10.2              |  0.0               |\n",
       "| 449                | Xavier Moon        | 116986             | SG                 | 28                 | LAC                |  4                 | 0                  |  5.0               | 0.8                | ...                | 10.0               | 21.8               |  0.0               | 0.0                |  0.0               | -0.030             |  -4.1              |  -1.0              |  -5.1              |  0.0               |\n",
       "| 450                | Jamaree Bouyea     | 116986             | PG                 | 23                 | MIA/WAS            |  5                 | 0                  | 14.2               | 1.2                | ...                | 21.2               | 11.8               | -0.1               | 0.1                |  0.0               |  0.013             |  -5.8              |   1.6              |  -4.2              |  0.0               |\n",
       "| 451                | Jay Huff           | 116986             | C                  | 24                 | WAS                |  7                 | 0                  | 13.6               | 2.1                | ...                | 13.5               | 16.9               |  0.4               | 0.1                |  0.5               |  0.261             |   2.8              |   1.2              |   4.0              |  0.1               |\n",
       "| 452                | Skylar Mays        | 116574             | PG                 | 25                 | POR                |  6                 | 6                  | 31.5               | 5.7                | ...                | 11.9               | 19.3               |  0.6               | 0.1                |  0.7               |  0.171             |   2.1              |  -2.1              |   0.0              |  0.1               |\n",
       "| 453                | Frank Jackson      | 113114             | PG                 | 24                 | UTA                |  1                 | 0                  |  5.0               | 0.0                | ...                |  0.0               | 25.1               |  0.0               | 0.0                |  0.0               | -0.378             | -12.5              |  -9.8              | -22.2              |  0.0               |\n",
       "| 454                | Deonte Burton      | 105522             | PF                 | 29                 | SAC                |  2                 | 0                  |  3.0               | 0.0                | ...                |  0.0               | 14.3               |  0.0               | 0.0                |  0.0               | -0.347             | -13.9              | -10.4              | -24.2              |  0.0               |\n",
       "| 455                | Jarrell Brantley   | 105522             | PF                 | 26                 | UTA                |  4                 | 0                  |  9.8               | 2.0                | ...                | 11.8               | 18.1               |  0.1               | 0.0                |  0.1               |  0.160             |   3.1              |   0.4              |   3.5              |  0.1               |\n",
       "| 456                | Xavier Sneed       | 102910             | SF                 | 25                 | CHO                |  4                 | 0                  | 12.0               | 1.3                | ...                | 20.3               | 12.9               |  0.1               | 0.0                |  0.1               |  0.086             |  -3.1              |  -0.4              |  -3.6              |  0.0               |\n",
       "| 457                | Lindell Wigginton  |  99438             | PG                 | 24                 | MIL                |  7                 | 1                  | 12.4               | 2.6                | ...                | 22.7               | 25.6               |  0.0               | 0.1                |  0.1               |  0.028             |  -3.1              |  -3.6              |  -6.7              | -0.1               |\n",
       "| 458                | Jordan Schakel     |  96514             | SF                 | 24                 | WAS                |  2                 | 0                  |  3.0               | 0.5                | ...                |  0.0               | 14.5               |  0.0               | 0.0                |  0.0               |  0.314             |   7.7              |   9.3              |  17.0              |  0.0               |\n",
       "| 459                | Stanley Umude      |  58493             | SG                 | 23                 | DET                |  1                 | 0                  |  2.0               | 0.0                | ...                |  0.0               | 40.0               |  0.0               | 0.0                |  0.0               |  0.626             |  15.9              |  32.7              |  48.6              |  0.0               |\n",
       "| 460                | Jeenathan Williams |  52644             | SG                 | 23                 | POR                |  5                 | 4                  | 25.4               | 4.8                | ...                |  9.0               | 15.2               |  0.3               | 0.0                |  0.3               |  0.120             |  -1.0              |  -2.1              |  -3.0              |  0.0               |\n",
       "| 461                | Jay Scrubb         |  49719             | SG                 | 22                 | ORL                |  2                 | 0                  | 15.0               | 2.5                | ...                | 27.6               | 15.6               |  0.0               | 0.0                |  0.1               |  0.083             |  -2.9              |   1.0              |  -1.9              |  0.0               |\n",
       "| 462                | Justin Minaya      |  35096             | SF                 | 23                 | POR                |  4                 | 0                  | 22.3               | 1.8                | ...                | 14.6               | 13.4               | -0.2               | 0.1                | -0.1               | -0.067             |  -7.2              |  -1.9              |  -9.0              | -0.2               |\n",
       "| 463                | Kobi Simmons       |  32795             | SG                 | 25                 | CHO                |  5                 | 0                  |  5.6               | 0.2                | ...                | 12.7               | 11.8               |  0.0               | 0.0                |  0.0               |  0.019             |  -1.0              |   0.1              |  -0.9              |  0.0               |\n",
       "| 464                | Gabe York          |  32171             | SG                 | 29                 | IND                |  3                 | 0                  | 18.7               | 2.7                | ...                |  0.0               | 16.4               |  0.1               | 0.0                |  0.1               |  0.091             |  -1.7              |  -1.8              |  -3.5              |  0.0               |\n",
       "| 465                | RaiQuan Gray       |   5849             | PF                 | 23                 | BRK                |  1                 | 0                  | 35.0               | 6.0                | ...                | 23.7               | 21.4               |  0.0               | 0.0                |  0.1               |  0.106             |  -0.6              |  -1.4              |  -2.0              |  0.0               |\n",
       "| 466                | Jacob Gilyard      |   5849             | PG                 | 24                 | MEM                |  1                 | 0                  | 41.0               | 1.0                | ...                | 40.0               |  5.1               |  0.0               | 0.1                |  0.1               |  0.079             |  -7.8              |   1.7              |  -6.1              |  0.0               |\n",
       "\n"
      ],
      "text/plain": [
       "    X   Player.Name           Salary   Position Age Team    GP  GS  MP   FG  \n",
       "1    0  Stephen Curry         48070014 PG       34  GSW     56  56  34.7 10.0\n",
       "2    1  John Wall             47345760 PG       32  LAC     34   3  22.2  4.1\n",
       "3    2  Russell Westbrook     47080179 PG       34  LAL/LAC 73  24  29.1  5.9\n",
       "4    3  LeBron James          44474988 PF       38  LAL     55  54  35.5 11.1\n",
       "5    4  Kevin Durant          44119845 PF       34  BRK/PHO 47  47  35.6 10.3\n",
       "6    5  Bradley Beal          43279250 SG       29  WAS     50  50  33.5  8.9\n",
       "7    6  Kawhi Leonard         42492492 SF       31  LAC     52  50  33.6  8.6\n",
       "8    7  Paul George           42492492 SF       32  LAC     56  56  34.6  8.2\n",
       "9    8  Giannis Antetokounmpo 42492492 PF       28  MIL     63  63  32.1 11.2\n",
       "10   9  Damian Lillard        42492492 PG       32  POR     58  58  36.3  9.6\n",
       "11  10  Klay Thompson         40600080 SF       32  GSW     69  69  33.0  7.9\n",
       "12  11  Kyrie Irving          38917057 PG-SG    30  BRK/DAL 60  60  37.4  9.9\n",
       "13  12  Rudy Gobert           38172414 C        30  MIN     70  70  30.7  5.1\n",
       "14  13  Khris Middleton       37984276 SF       31  MIL     33  19  24.3  5.4\n",
       "15  14  Anthony Davis         37980720 C        29  LAL     56  54  34.0  9.7\n",
       "16  15  Jimmy Butler          37653300 PF       33  MIA     64  64  33.4  7.5\n",
       "17  16  Tobias Harris         37633050 SF       30  PHI     74  74  32.9  5.7\n",
       "18  17  Kemba Walker          37281261 PG       32  DAL      9   1  16.0  2.7\n",
       "19  18  Trae Young            37096500 PG       24  ATL     73  73  34.8  8.2\n",
       "20  19  Zach LaVine           37096500 SG       27  CHI     77  77  35.9  8.7\n",
       "21  20  Ben Simmons           35448672 PG       26  BRK     42  33  26.3  3.2\n",
       "22  21  Pascal Siakam         35448672 PF       28  TOR     71  71  37.4  8.9\n",
       "23  22  Myles Turner          35096500 C        26  IND     62  62  29.4  6.5\n",
       "24  23  Jrue Holiday          34319520 PG       32  MIL     67  65  32.6  7.3\n",
       "25  24  Karl-Anthony Towns    33833400 PF       27  MIN     29  29  33.0  7.3\n",
       "26  25  Devin Booker          33833400 SG       26  PHO     53  53  34.6  9.9\n",
       "27  26  Andrew Wiggins        33616770 SF       27  GSW     37  37  32.2  6.8\n",
       "28  27  Joel Embiid           33616770 C        28  PHI     66  66  34.6 11.0\n",
       "29  28  CJ McCollum           33333333 SG       31  NOP     75  75  35.3  7.8\n",
       "30  29  James Harden          33000000 PG       33  PHI     58  58  36.8  6.4\n",
       "... ... ...                   ...      ...      ... ...     ... ... ...  ... \n",
       "438 437 Donovan Williams      239822   SG       21  ATL      2  0    2.0 1.0 \n",
       "439 438 Quenton Jackson       219630   PG       24  WAS      9  0   15.0 2.1 \n",
       "440 439 Chris Silva           211045   PF       26  DAL      1  0    3.0 1.0 \n",
       "441 440 Tyler Dorsey          201802   SF       26  DAL      3  0    2.7 1.3 \n",
       "442 441 Braxton Key           201802   SF       25  DET      3  0    3.0 0.3 \n",
       "443 442 Jordan Hall           193027   SF       21  SAS      9  0    9.2 1.0 \n",
       "444 443 Alize Johnson         192293   PF       26  SAS      4  0    7.5 0.8 \n",
       "445 444 Devon Dotson          169630   PG       23  WAS      6  0    8.8 0.2 \n",
       "446 445 Mac McClung           160856   SG       24  PHI      2  0   20.5 4.5 \n",
       "447 446 Xavier Cooks          140384   PF       27  WAS     10  1   12.6 1.7 \n",
       "448 447 Shaquille Harrison    134862   SG       29  POR      5  0   24.0 3.0 \n",
       "449 448 Lester Quinones       129405   SG       22  GSW      4  0    4.5 0.5 \n",
       "450 449 Xavier Moon           116986   SG       28  LAC      4  0    5.0 0.8 \n",
       "451 450 Jamaree Bouyea        116986   PG       23  MIA/WAS  5  0   14.2 1.2 \n",
       "452 451 Jay Huff              116986   C        24  WAS      7  0   13.6 2.1 \n",
       "453 452 Skylar Mays           116574   PG       25  POR      6  6   31.5 5.7 \n",
       "454 453 Frank Jackson         113114   PG       24  UTA      1  0    5.0 0.0 \n",
       "455 454 Deonte Burton         105522   PF       29  SAC      2  0    3.0 0.0 \n",
       "456 455 Jarrell Brantley      105522   PF       26  UTA      4  0    9.8 2.0 \n",
       "457 456 Xavier Sneed          102910   SF       25  CHO      4  0   12.0 1.3 \n",
       "458 457 Lindell Wigginton      99438   PG       24  MIL      7  1   12.4 2.6 \n",
       "459 458 Jordan Schakel         96514   SF       24  WAS      2  0    3.0 0.5 \n",
       "460 459 Stanley Umude          58493   SG       23  DET      1  0    2.0 0.0 \n",
       "461 460 Jeenathan Williams     52644   SG       23  POR      5  4   25.4 4.8 \n",
       "462 461 Jay Scrubb             49719   SG       22  ORL      2  0   15.0 2.5 \n",
       "463 462 Justin Minaya          35096   SF       23  POR      4  0   22.3 1.8 \n",
       "464 463 Kobi Simmons           32795   SG       25  CHO      5  0    5.6 0.2 \n",
       "465 464 Gabe York              32171   SG       29  IND      3  0   18.7 2.7 \n",
       "466 465 RaiQuan Gray            5849   PF       23  BRK      1  0   35.0 6.0 \n",
       "467 466 Jacob Gilyard           5849   PG       24  MEM      1  0   41.0 1.0 \n",
       "    ... TOV. USG. OWS  DWS WS   WS.48  OBPM  DBPM  BPM   VORP\n",
       "1   ... 12.5 31.0  5.8 2.0  7.8 0.192   7.5   0.1   7.5  4.7 \n",
       "2   ... 17.1 27.0 -0.4 0.7  0.3 0.020  -0.8  -0.4  -1.2  0.1 \n",
       "3   ... 18.4 27.7 -0.6 2.6  1.9 0.044   0.3  -0.1   0.2  1.2 \n",
       "4   ... 11.6 33.3  3.2 2.4  5.6 0.138   5.5   0.6   6.1  4.0 \n",
       "5   ... 13.4 30.7  4.7 2.1  6.8 0.194   6.0   1.2   7.1  3.9 \n",
       "6   ... 12.9 29.2  2.2 1.2  3.4 0.099   2.9  -1.2   1.8  1.6 \n",
       "7   ...  8.1 27.0  4.9 2.2  7.1 0.194   5.1   0.9   6.1  3.5 \n",
       "8   ... 13.4 29.5  2.3 2.3  4.6 0.114   2.4   0.3   2.8  2.3 \n",
       "9   ... 13.2 38.8  4.9 3.7  8.6 0.204   5.8   2.7   8.5  5.4 \n",
       "10  ... 11.7 33.8  8.2 0.8  9.0 0.205   8.3  -1.2   7.1  4.9 \n",
       "11  ...  8.6 26.4  1.2 1.9  3.1 0.066   1.5  -1.7  -0.3  1.0 \n",
       "12  ...  8.8 28.9  5.4 2.0  7.4 0.159   4.8  -0.7   4.1  3.5 \n",
       "13  ... 14.9 16.3  4.3 3.5  7.8 0.174   0.0   0.7   0.7  1.4 \n",
       "14  ... 13.6 27.4  1.0 1.0  1.9 0.117   1.0  -0.3   0.8  0.6 \n",
       "15  ...  9.5 28.4  5.5 3.4  9.0 0.226   4.6   1.7   6.3  4.0 \n",
       "16  ...  8.2 25.6  9.4 2.9 12.3 0.277   6.7   2.0   8.7  5.8 \n",
       "17  ...  9.0 18.2  3.1 2.8  5.9 0.116   0.6   0.1   0.7  1.7 \n",
       "18  ...  5.7 22.1  0.2 0.1  0.3 0.098   0.3  -0.6  -0.3  0.1 \n",
       "19  ... 15.2 32.6  5.3 1.4  6.7 0.126   5.3  -2.0   3.3  3.4 \n",
       "20  ... 11.0 28.3  4.2 2.9  7.1 0.123   2.7  -0.7   1.9  2.7 \n",
       "21  ... 27.2 14.3  0.5 1.7  2.2 0.097  -2.2   2.6   0.4  0.7 \n",
       "22  ... 10.0 27.2  5.2 2.6  7.8 0.141   3.3  -0.1   3.1  3.4 \n",
       "23  ... 10.8 22.0  3.4 2.0  5.4 0.142   1.4   0.7   2.1  1.9 \n",
       "24  ... 15.2 25.0  3.9 2.8  6.7 0.148   3.0   0.1   3.1  2.8 \n",
       "25  ... 15.0 25.6  1.5 1.1  2.7 0.133   2.1   0.9   3.0  1.2 \n",
       "26  ... 10.6 31.8  4.2 1.9  6.0 0.157   4.5  -0.3   4.2  2.9 \n",
       "27  ...  7.9 21.5  1.0 1.3  2.3 0.091  -0.1  -0.4  -0.5  0.5 \n",
       "28  ... 11.9 37.0  8.4 3.9 12.3 0.259   6.8   2.3   9.2  6.4 \n",
       "29  ... 11.2 26.4  1.5 2.8  4.3 0.078   1.5  -0.7   0.8  1.9 \n",
       "30  ... 16.3 25.0  5.8 2.6  8.4 0.188   5.1   0.3   5.4  4.0 \n",
       "...     ...  ...  ...  ... ...  ...    ...   ...   ...   ... \n",
       "438 ...  0.0 52.5  0.0 0.0  0.0 -0.225  -9.1  -6.1 -15.2  0.0\n",
       "439 ...  7.2 17.9  0.1 0.1  0.2  0.078  -3.7  -1.5  -5.1 -0.1\n",
       "440 ... 50.0 30.1  0.0 0.0  0.0 -0.260 -22.5  -0.1 -22.6  0.0\n",
       "441 ...  0.0 28.3  0.1 0.0  0.1  0.367  17.0   0.8  17.8  0.0\n",
       "442 ...  0.0  8.9  0.0 0.0  0.0  0.242   2.1   0.8   2.9  0.0\n",
       "443 ... 18.0 19.4 -0.1 0.0 -0.1 -0.077  -4.7  -2.9  -7.6 -0.1\n",
       "444 ... 36.8 15.0 -0.1 0.0 -0.1 -0.099  -7.4  -1.7  -9.1 -0.1\n",
       "445 ... 23.1 10.7 -0.1 0.1  0.0 -0.025  -7.0   1.8  -5.3  0.0\n",
       "446 ... 11.9 27.5  0.1 0.0  0.1  0.140   2.2  -1.7   0.5  0.0\n",
       "447 ... 19.8 13.9  0.1 0.2  0.2  0.094  -3.2  -0.4  -3.6 -0.1\n",
       "448 ... 12.3 17.6  0.2 0.2  0.3  0.137  -2.5   2.6   0.1  0.1\n",
       "449 ... 39.6 29.4 -0.1 0.0  0.0 -0.103  -6.4  -3.7 -10.2  0.0\n",
       "450 ... 10.0 21.8  0.0 0.0  0.0 -0.030  -4.1  -1.0  -5.1  0.0\n",
       "451 ... 21.2 11.8 -0.1 0.1  0.0  0.013  -5.8   1.6  -4.2  0.0\n",
       "452 ... 13.5 16.9  0.4 0.1  0.5  0.261   2.8   1.2   4.0  0.1\n",
       "453 ... 11.9 19.3  0.6 0.1  0.7  0.171   2.1  -2.1   0.0  0.1\n",
       "454 ...  0.0 25.1  0.0 0.0  0.0 -0.378 -12.5  -9.8 -22.2  0.0\n",
       "455 ...  0.0 14.3  0.0 0.0  0.0 -0.347 -13.9 -10.4 -24.2  0.0\n",
       "456 ... 11.8 18.1  0.1 0.0  0.1  0.160   3.1   0.4   3.5  0.1\n",
       "457 ... 20.3 12.9  0.1 0.0  0.1  0.086  -3.1  -0.4  -3.6  0.0\n",
       "458 ... 22.7 25.6  0.0 0.1  0.1  0.028  -3.1  -3.6  -6.7 -0.1\n",
       "459 ...  0.0 14.5  0.0 0.0  0.0  0.314   7.7   9.3  17.0  0.0\n",
       "460 ...  0.0 40.0  0.0 0.0  0.0  0.626  15.9  32.7  48.6  0.0\n",
       "461 ...  9.0 15.2  0.3 0.0  0.3  0.120  -1.0  -2.1  -3.0  0.0\n",
       "462 ... 27.6 15.6  0.0 0.0  0.1  0.083  -2.9   1.0  -1.9  0.0\n",
       "463 ... 14.6 13.4 -0.2 0.1 -0.1 -0.067  -7.2  -1.9  -9.0 -0.2\n",
       "464 ... 12.7 11.8  0.0 0.0  0.0  0.019  -1.0   0.1  -0.9  0.0\n",
       "465 ...  0.0 16.4  0.1 0.0  0.1  0.091  -1.7  -1.8  -3.5  0.0\n",
       "466 ... 23.7 21.4  0.0 0.0  0.1  0.106  -0.6  -1.4  -2.0  0.0\n",
       "467 ... 40.0  5.1  0.0 0.1  0.1  0.079  -7.8   1.7  -6.1  0.0"
      ]
     },
     "metadata": {},
     "output_type": "display_data"
    }
   ],
   "source": [
    "set.seed(1234)\n",
    "\n",
    "NBA_salary_data <- read.csv(\"nba_players_stats_with_salary.csv\")\n",
    "NBA_salary_data"
   ]
  },
  {
   "cell_type": "markdown",
   "id": "ffbb4c0f-e732-426f-bb35-d141d26baf47",
   "metadata": {},
   "source": [
    "Right away, we notice a couple strange housekeeping issues. For example, in our original data file, all the column names were written our nicely. Yet when we loaded it into a data set, some column names have been changed. Because we are dealing with up to 52 columns, it is crucial that we are all on the same page with what these columns are named. Furthermore, some column names in the original file are not very R-friendly (such as \"3P%\"), let's change these to be descriptive and syntactically friendly. Let's see what they have been changed to and fix them accordingly"
   ]
  },
  {
   "cell_type": "code",
   "execution_count": 19,
   "id": "9e07ae64-2b97-4d30-94bf-e4af815613a8",
   "metadata": {},
   "outputs": [
    {
     "name": "stdout",
     "output_type": "stream",
     "text": [
      " [1] \"X\"             \"Player.Name\"   \"Salary\"        \"Position\"     \n",
      " [5] \"Age\"           \"Team\"          \"GP\"            \"GS\"           \n",
      " [9] \"MP\"            \"FG\"            \"FGA\"           \"FG.\"          \n",
      "[13] \"X3P\"           \"X3PA\"          \"X3P.\"          \"X2P\"          \n",
      "[17] \"X2PA\"          \"X2P.\"          \"eFG.\"          \"FT\"           \n",
      "[21] \"FTA\"           \"FT.\"           \"ORB\"           \"DRB\"          \n",
      "[25] \"TRB\"           \"AST\"           \"STL\"           \"BLK\"          \n",
      "[29] \"TOV\"           \"PF\"            \"PTS\"           \"Total.Minutes\"\n",
      "[33] \"PER\"           \"TS.\"           \"X3PAr\"         \"FTr\"          \n",
      "[37] \"ORB.\"          \"DRB.\"          \"TRB.\"          \"AST.\"         \n",
      "[41] \"STL.\"          \"BLK.\"          \"TOV.\"          \"USG.\"         \n",
      "[45] \"OWS\"           \"DWS\"           \"WS\"            \"WS.48\"        \n",
      "[49] \"OBPM\"          \"DBPM\"          \"BPM\"           \"VORP\"         \n"
     ]
    }
   ],
   "source": [
    "print(colnames(NBA_salary_data))"
   ]
  },
  {
   "cell_type": "code",
   "execution_count": 39,
   "id": "04bfb65a-2d98-4e05-949e-6da967905044",
   "metadata": {},
   "outputs": [],
   "source": [
    "names(NBA_salary_data)[names(NBA_salary_data) == \"Player Name\"] <- \"Player_Name\"\n",
    "\n",
    "names(NBA_salary_data)[names(NBA_salary_data) == \"X\"] <- \"Index\"\n",
    "\n",
    "names(NBA_salary_data)[names(NBA_salary_data) == \"X3P\"] <- \"Three_Pts_Made\"\n",
    "\n",
    "names(NBA_salary_data)[names(NBA_salary_data) == \"X3PA\"] <- \"Three_Pt_Atmps\"\n",
    "\n",
    "names(NBA_salary_data)[names(NBA_salary_data) == \"X3P.\"] <- \"Three_Pt_Pct\"\n",
    "\n",
    "names(NBA_salary_data)[names(NBA_salary_data) == \"X2PA\"] <- \"Two_Pt_Atmps\"\n",
    "\n",
    "names(NBA_salary_data)[names(NBA_salary_data) == \"X2P\"] <- \"Two_Pt_Made\"\n",
    "\n",
    "names(NBA_salary_data)[names(NBA_salary_data) == \"Two_Point_Pct\"] <- \"Two_Pt_Pct\"\n",
    "\n",
    "names(NBA_salary_data)[names(NBA_salary_data) == \"eFG.\"] <- \"eFG_Pct\"\n",
    "\n",
    "names(NBA_salary_data)[names(NBA_salary_data) == \"FT.\"] <- \"FT_Pct\"\n",
    "\n",
    "names(NBA_salary_data)[names(NBA_salary_data) == \"Total.Minutes\"] <- \"Total_Minutes\"\n",
    "\n",
    "names(NBA_salary_data)[names(NBA_salary_data) == \"TS.\"] <- \"TS_Pct\"\n",
    "\n",
    "names(NBA_salary_data)[names(NBA_salary_data) == \"X3PAr\"] <- \"Three_Pt_AR\"\n",
    "\n",
    "names(NBA_salary_data)[names(NBA_salary_data) == \"ORB.\"] <- \"ORB_Pct\"\n",
    "\n",
    "names(NBA_salary_data)[names(NBA_salary_data) == \"DRB.\"] <- \"DRB_Pct\"\n",
    "\n",
    "names(NBA_salary_data)[names(NBA_salary_data) == \"TRB.\"] <- \"TRB_Pct\"\n",
    "\n",
    "names(NBA_salary_data)[names(NBA_salary_data) == \"AST.\"] <- \"AST_Pct\"\n",
    "\n",
    "names(NBA_salary_data)[names(NBA_salary_data) == \"STL.\"] <- \"STL_Pct\"\n",
    "\n",
    "names(NBA_salary_data)[names(NBA_salary_data) == \"BLK.\"] <- \"BLK_Pct\"\n",
    "\n",
    "names(NBA_salary_data)[names(NBA_salary_data) == \"TOV.\"] <- \"TOV_Pct\"\n",
    "\n",
    "names(NBA_salary_data)[names(NBA_salary_data) == \"USG.\"] <- \"USG_Pct\"\n",
    "\n",
    "names(NBA_salary_data)[names(NBA_salary_data) == \"WS_48\"] <- \"WS_48M\""
   ]
  },
  {
   "cell_type": "code",
   "execution_count": 40,
   "id": "c401fb3a-5c99-48bc-8cc8-7675ef0c337c",
   "metadata": {},
   "outputs": [
    {
     "name": "stdout",
     "output_type": "stream",
     "text": [
      " [1] \"Index\"          \"Player_Name\"    \"Salary\"         \"Position\"      \n",
      " [5] \"Age\"            \"Team\"           \"GP\"             \"GS\"            \n",
      " [9] \"MP\"             \"FG\"             \"FGA\"            \"FG.\"           \n",
      "[13] \"Three_Pts_Made\" \"Three_Pt_Atmps\" \"Three_Pt_Pct\"   \"Two_Pt_Made\"   \n",
      "[17] \"Two_Pt_Atmps\"   \"Two_Pt_Pct\"     \"eFG_Pct\"        \"FT\"            \n",
      "[21] \"FTA\"            \"FT_Pct\"         \"ORB\"            \"DRB\"           \n",
      "[25] \"TRB\"            \"AST\"            \"STL\"            \"BLK\"           \n",
      "[29] \"TOV\"            \"PF\"             \"PTS\"            \"Total_Minutes\" \n",
      "[33] \"PER\"            \"TS_Pct\"         \"Three_Pt_AR\"    \"FTr\"           \n",
      "[37] \"ORB_Pct\"        \"DRB_Pct\"        \"TRB_Pct\"        \"AST_Pct\"       \n",
      "[41] \"STL_Pct\"        \"BLK_Pct\"        \"TOV_Pct\"        \"USG_Pct\"       \n",
      "[45] \"OWS\"            \"DWS\"            \"WS\"             \"WS.48\"         \n",
      "[49] \"OBPM\"           \"DBPM\"           \"BPM\"            \"VORP\"          \n"
     ]
    }
   ],
   "source": [
    "print(colnames(NBA_salary_data))"
   ]
  },
  {
   "cell_type": "markdown",
   "id": "84e2d81a-b866-4587-9df4-f13112eab557",
   "metadata": {},
   "source": [
    "MUCH better. It was a bit tedious, but it will make our work later on a lot easier and less prone to errors. Let's continue"
   ]
  },
  {
   "cell_type": "markdown",
   "id": "6ba5882d-2d30-41bc-add4-ef10260d8a87",
   "metadata": {},
   "source": [
    "Now, if we manually scroll through our data file, we see there are some empty cells (very few, only 4). These should be handled accordingly. These four cells are empty due to two reasons:\n",
    "- The player did not attempt any free throws during the season, resulting in a blank cell for their \"Free Throw Percentage\"\n",
    "- The player did not attempt any 2-Pt shots during the season, resulting in a blank cell for their \"2-Pt Shot Percentage\""
   ]
  },
  {
   "cell_type": "code",
   "execution_count": 38,
   "id": "b9a8eb4d-e172-4407-a903-eac25643364c",
   "metadata": {},
   "outputs": [
    {
     "data": {
      "text/html": [
       "<table>\n",
       "<thead><tr><th scope=col>Player_Name</th><th scope=col>Two_Pt_Atmps</th><th scope=col>Two_Pt_Pct</th><th scope=col>FTA</th><th scope=col>FT_Pct</th></tr></thead>\n",
       "<tbody>\n",
       "\t<tr><td>Frank Jackson </td><td>2.0           </td><td> 0            </td><td>0             </td><td>NA            </td></tr>\n",
       "\t<tr><td>Deonte Burton </td><td>0.5           </td><td> 0            </td><td>0             </td><td>NA            </td></tr>\n",
       "\t<tr><td>Jordan Schakel</td><td>0.5           </td><td> 0            </td><td>0             </td><td>NA            </td></tr>\n",
       "\t<tr><td>Jacob Gilyard </td><td>0.0           </td><td>NA            </td><td>0             </td><td>NA            </td></tr>\n",
       "</tbody>\n",
       "</table>\n"
      ],
      "text/latex": [
       "\\begin{tabular}{r|lllll}\n",
       " Player\\_Name & Two\\_Pt\\_Atmps & Two\\_Pt\\_Pct & FTA & FT\\_Pct\\\\\n",
       "\\hline\n",
       "\t Frank Jackson  & 2.0            &  0             & 0              & NA            \\\\\n",
       "\t Deonte Burton  & 0.5            &  0             & 0              & NA            \\\\\n",
       "\t Jordan Schakel & 0.5            &  0             & 0              & NA            \\\\\n",
       "\t Jacob Gilyard  & 0.0            & NA             & 0              & NA            \\\\\n",
       "\\end{tabular}\n"
      ],
      "text/markdown": [
       "\n",
       "| Player_Name | Two_Pt_Atmps | Two_Pt_Pct | FTA | FT_Pct |\n",
       "|---|---|---|---|---|\n",
       "| Frank Jackson  | 2.0            |  0             | 0              | NA             |\n",
       "| Deonte Burton  | 0.5            |  0             | 0              | NA             |\n",
       "| Jordan Schakel | 0.5            |  0             | 0              | NA             |\n",
       "| Jacob Gilyard  | 0.0            | NA             | 0              | NA             |\n",
       "\n"
      ],
      "text/plain": [
       "  Player_Name    Two_Pt_Atmps Two_Pt_Pct FTA FT_Pct\n",
       "1 Frank Jackson  2.0           0         0   NA    \n",
       "2 Deonte Burton  0.5           0         0   NA    \n",
       "3 Jordan Schakel 0.5           0         0   NA    \n",
       "4 Jacob Gilyard  0.0          NA         0   NA    "
      ]
     },
     "metadata": {},
     "output_type": "display_data"
    }
   ],
   "source": [
    "selected_players <- NBA_salary_data %>%\n",
    "filter(Player_Name %in% c('Frank Jackson', 'Deonte Burton', 'Jordan Schakel', 'Jacob Gilyard')) %>%\n",
    "select(Player_Name, 'Two_Pt_Atmps', 'Two_Pt_Pct', 'FTA', 'FT_Pct')\n",
    "\n",
    "selected_players"
   ]
  },
  {
   "cell_type": "markdown",
   "id": "1f60768e-757b-4c95-8257-ce471d79648b",
   "metadata": {},
   "source": [
    "As we can see, the first three players did not attempt any free throws, and the last player did not attempt any 2-Pt shots or free throws. Conveniently, R already replaces these values with \"NA\" which is statistically appropriate, since a 0% would imply failure when there were in fact, no attempts."
   ]
  },
  {
   "cell_type": "markdown",
   "id": "c8868b35-343b-484c-b25c-703495d6600a",
   "metadata": {},
   "source": [
    "### 2. Exploratory Data Analysis (EDA):\n",
    "- Examine the distribution of key variables like salary, age, and performance metrics\n",
    "- Look for any outliers or anomalies"
   ]
  },
  {
   "cell_type": "markdown",
   "id": "dd9f1ca6-f66a-46eb-ad30-86cf72d0098b",
   "metadata": {},
   "source": [
    "EDIT THIS:\n",
    "Honestly, everything looks good. The percentages are all chill. We could look at the distribution of salary, age, and performance stats though... HMMMMM"
   ]
  },
  {
   "cell_type": "markdown",
   "id": "36a6b624-de2f-4172-afc7-a11ad7503e05",
   "metadata": {},
   "source": [
    "### 3. Correlation Analysis:\n",
    "- Investigate the correlation between different performance metrics and salaries (correlation matrix)\n",
    "- Identify top prospects for good salary predictors"
   ]
  },
  {
   "cell_type": "markdown",
   "id": "133c93da-dcf4-4026-a1e3-db16df84f0a1",
   "metadata": {},
   "source": [
    "Now that we have successfully loaded our dataset and tidied it up, we can now work on figuring out which statistics will most likely be good predictors for salary, and explore those further.\n",
    "\n",
    "For example, we can generally assume that stats such as minutes played or steals per game will not be as influential on salary as points per game or win shares, but how would we be certain about which statistics are best predictors?\n",
    "\n",
    "A common way of figuring out which two variables have a strong relationship between each other, especially in a setting such as ours where we are not quite sure what the nature of the relationship might be, is to use a correlation matrix (REF= https://towardsdatascience.com/correlation-matrix-demystified-3ae3405c86c1). This will tell us which variables have a strong correlation with each other, which is a good basis for further exploration. If we find some performance metrics have very low correlation with salary, we can effectively rule those out. "
   ]
  },
  {
   "cell_type": "code",
   "execution_count": 63,
   "id": "48266f23-8597-4cdc-9eff-da856d363e8b",
   "metadata": {},
   "outputs": [],
   "source": [
    "target_performance_stats <- subset(NBA_salary_data, select = -c(Index, Position, Player_Name, Position, Team))\n",
    "\n",
    "cor_matrix <- cor(target_performance_stats, use = \"complete.obs\")"
   ]
  },
  {
   "cell_type": "markdown",
   "id": "8b232af3-9275-42bf-a0ca-c959e8544bd2",
   "metadata": {},
   "source": [
    "Now, we have created the correlation matrix, let's try visualizing it with a heatmap. "
   ]
  },
  {
   "cell_type": "code",
   "execution_count": 64,
   "id": "9a9e1b54-4ade-4f77-a3bb-a59e32da96f2",
   "metadata": {},
   "outputs": [
    {
     "data": {
      "image/png": "[encoded data removed]",
      "text/plain": [
       "plot without title"
      ]
     },
     "metadata": {},
     "output_type": "display_data"
    }
   ],
   "source": [
    "cor_long <- cor_matrix %>%\n",
    "melt(cols = everything(), names_to = \"Var2\", values_to = \"Correlation\")\n",
    "\n",
    "ggplot(cor_long, aes(x=Var1, y=Var2, fill=value)) +\n",
    "geom_tile() +\n",
    "scale_fill_gradient2(low = \"blue\", high = \"red\", mid = \"white\", midpoint = 0, limit = c(-1,1)) +\n",
    "theme_minimal() +\n",
    "theme(axis.text.x = element_text(angle = 45, hjust = 1)) +\n",
    "geom_vline(xintercept = which(names(cor_matrix) == \"Salary\"), color = \"green\", size = 1.5) +\n",
    "  geom_hline(yintercept = which(names(cor_matrix) == \"Salary\"), color = \"green\", size = 1.5) +\n",
    "  labs(fill = \"Correlation\", title = \"Heatmap of Correlations with Highlight on Salary\")"
   ]
  },
  {
   "cell_type": "markdown",
   "id": "8fc49e49-185d-4df7-ad49-e54fa0399e0e",
   "metadata": {},
   "source": [
    "This is a great start. It looks very cool and colourful, but it is a bit hard to read. Since we are only interested in the correlations between performance stats and salary, we can isolate for these correlations, and rank them in descending order. "
   ]
  },
  {
   "cell_type": "code",
   "execution_count": 65,
   "id": "35bdb18b-4642-4bdb-9556-bd775641748f",
   "metadata": {},
   "outputs": [
    {
     "data": {
      "text/html": [
       "<dl class=dl-horizontal>\n",
       "\t<dt>Salary</dt>\n",
       "\t\t<dd>1</dd>\n",
       "\t<dt>PTS</dt>\n",
       "\t\t<dd>0.719117333615104</dd>\n",
       "\t<dt>FG</dt>\n",
       "\t\t<dd>0.711850927952402</dd>\n",
       "\t<dt>FGA</dt>\n",
       "\t\t<dd>0.696682364652981</dd>\n",
       "\t<dt>VORP</dt>\n",
       "\t\t<dd>0.676849263670964</dd>\n",
       "\t<dt>Two_Pt_Atmps</dt>\n",
       "\t\t<dd>0.671582023402601</dd>\n",
       "\t<dt>Two_Pt_Made</dt>\n",
       "\t\t<dd>0.667555069263793</dd>\n",
       "\t<dt>FT</dt>\n",
       "\t\t<dd>0.664551038987561</dd>\n",
       "\t<dt>FTA</dt>\n",
       "\t\t<dd>0.659589598809739</dd>\n",
       "\t<dt>TOV</dt>\n",
       "\t\t<dd>0.643108124148347</dd>\n",
       "\t<dt>MP</dt>\n",
       "\t\t<dd>0.641738531198789</dd>\n",
       "\t<dt>WS</dt>\n",
       "\t\t<dd>0.616237274081382</dd>\n",
       "\t<dt>OBPM</dt>\n",
       "\t\t<dd>0.600029686687197</dd>\n",
       "\t<dt>AST</dt>\n",
       "\t\t<dd>0.589103592621796</dd>\n",
       "\t<dt>GS</dt>\n",
       "\t\t<dd>0.588925761322256</dd>\n",
       "\t<dt>OWS</dt>\n",
       "\t\t<dd>0.576552683257037</dd>\n",
       "\t<dt>DRB</dt>\n",
       "\t\t<dd>0.567757639808088</dd>\n",
       "\t<dt>BPM</dt>\n",
       "\t\t<dd>0.557745636231027</dd>\n",
       "\t<dt>USG_Pct</dt>\n",
       "\t\t<dd>0.556511368877362</dd>\n",
       "\t<dt>DWS</dt>\n",
       "\t\t<dd>0.54986903560955</dd>\n",
       "\t<dt>Total_Minutes</dt>\n",
       "\t\t<dd>0.546376574600698</dd>\n",
       "\t<dt>PER</dt>\n",
       "\t\t<dd>0.537313492338413</dd>\n",
       "\t<dt>TRB</dt>\n",
       "\t\t<dd>0.49252547862479</dd>\n",
       "\t<dt>Three_Pt_Atmps</dt>\n",
       "\t\t<dd>0.473962854615802</dd>\n",
       "\t<dt>Three_Pts_Made</dt>\n",
       "\t\t<dd>0.462165503320743</dd>\n",
       "\t<dt>STL</dt>\n",
       "\t\t<dd>0.461630484966273</dd>\n",
       "\t<dt>AST_Pct</dt>\n",
       "\t\t<dd>0.454732106106759</dd>\n",
       "\t<dt>Age</dt>\n",
       "\t\t<dd>0.413798411932009</dd>\n",
       "\t<dt>PF</dt>\n",
       "\t\t<dd>0.386116203200182</dd>\n",
       "\t<dt>WS.48</dt>\n",
       "\t\t<dd>0.344892591290458</dd>\n",
       "\t<dt>GP</dt>\n",
       "\t\t<dd>0.300933603090579</dd>\n",
       "\t<dt>BLK</dt>\n",
       "\t\t<dd>0.290886228345792</dd>\n",
       "\t<dt>ORB</dt>\n",
       "\t\t<dd>0.200239801787085</dd>\n",
       "\t<dt>TS_Pct</dt>\n",
       "\t\t<dd>0.192096517697566</dd>\n",
       "\t<dt>FTr</dt>\n",
       "\t\t<dd>0.175045774315853</dd>\n",
       "\t<dt>FT_Pct</dt>\n",
       "\t\t<dd>0.156512246136795</dd>\n",
       "\t<dt>FG.</dt>\n",
       "\t\t<dd>0.129498721073009</dd>\n",
       "\t<dt>eFG_Pct</dt>\n",
       "\t\t<dd>0.120427851190921</dd>\n",
       "\t<dt>DRB_Pct</dt>\n",
       "\t\t<dd>0.114723798879461</dd>\n",
       "\t<dt>DBPM</dt>\n",
       "\t\t<dd>0.112137653953824</dd>\n",
       "\t<dt>Three_Pt_Pct</dt>\n",
       "\t\t<dd>0.0667153966059242</dd>\n",
       "\t<dt>Two_Pt_Pct</dt>\n",
       "\t\t<dd>0.0439189197683203</dd>\n",
       "\t<dt>TRB_Pct</dt>\n",
       "\t\t<dd>0.0207517589999822</dd>\n",
       "\t<dt>STL_Pct</dt>\n",
       "\t\t<dd>-0.000338574667090805</dd>\n",
       "\t<dt>BLK_Pct</dt>\n",
       "\t\t<dd>-0.0465065931881517</dd>\n",
       "\t<dt>TOV_Pct</dt>\n",
       "\t\t<dd>-0.0551807178210624</dd>\n",
       "\t<dt>Three_Pt_AR</dt>\n",
       "\t\t<dd>-0.117338687388143</dd>\n",
       "\t<dt>ORB_Pct</dt>\n",
       "\t\t<dd>-0.136844167113752</dd>\n",
       "</dl>\n"
      ],
      "text/latex": [
       "\\begin{description*}\n",
       "\\item[Salary] 1\n",
       "\\item[PTS] 0.719117333615104\n",
       "\\item[FG] 0.711850927952402\n",
       "\\item[FGA] 0.696682364652981\n",
       "\\item[VORP] 0.676849263670964\n",
       "\\item[Two\\textbackslash{}\\_Pt\\textbackslash{}\\_Atmps] 0.671582023402601\n",
       "\\item[Two\\textbackslash{}\\_Pt\\textbackslash{}\\_Made] 0.667555069263793\n",
       "\\item[FT] 0.664551038987561\n",
       "\\item[FTA] 0.659589598809739\n",
       "\\item[TOV] 0.643108124148347\n",
       "\\item[MP] 0.641738531198789\n",
       "\\item[WS] 0.616237274081382\n",
       "\\item[OBPM] 0.600029686687197\n",
       "\\item[AST] 0.589103592621796\n",
       "\\item[GS] 0.588925761322256\n",
       "\\item[OWS] 0.576552683257037\n",
       "\\item[DRB] 0.567757639808088\n",
       "\\item[BPM] 0.557745636231027\n",
       "\\item[USG\\textbackslash{}\\_Pct] 0.556511368877362\n",
       "\\item[DWS] 0.54986903560955\n",
       "\\item[Total\\textbackslash{}\\_Minutes] 0.546376574600698\n",
       "\\item[PER] 0.537313492338413\n",
       "\\item[TRB] 0.49252547862479\n",
       "\\item[Three\\textbackslash{}\\_Pt\\textbackslash{}\\_Atmps] 0.473962854615802\n",
       "\\item[Three\\textbackslash{}\\_Pts\\textbackslash{}\\_Made] 0.462165503320743\n",
       "\\item[STL] 0.461630484966273\n",
       "\\item[AST\\textbackslash{}\\_Pct] 0.454732106106759\n",
       "\\item[Age] 0.413798411932009\n",
       "\\item[PF] 0.386116203200182\n",
       "\\item[WS.48] 0.344892591290458\n",
       "\\item[GP] 0.300933603090579\n",
       "\\item[BLK] 0.290886228345792\n",
       "\\item[ORB] 0.200239801787085\n",
       "\\item[TS\\textbackslash{}\\_Pct] 0.192096517697566\n",
       "\\item[FTr] 0.175045774315853\n",
       "\\item[FT\\textbackslash{}\\_Pct] 0.156512246136795\n",
       "\\item[FG.] 0.129498721073009\n",
       "\\item[eFG\\textbackslash{}\\_Pct] 0.120427851190921\n",
       "\\item[DRB\\textbackslash{}\\_Pct] 0.114723798879461\n",
       "\\item[DBPM] 0.112137653953824\n",
       "\\item[Three\\textbackslash{}\\_Pt\\textbackslash{}\\_Pct] 0.0667153966059242\n",
       "\\item[Two\\textbackslash{}\\_Pt\\textbackslash{}\\_Pct] 0.0439189197683203\n",
       "\\item[TRB\\textbackslash{}\\_Pct] 0.0207517589999822\n",
       "\\item[STL\\textbackslash{}\\_Pct] -0.000338574667090805\n",
       "\\item[BLK\\textbackslash{}\\_Pct] -0.0465065931881517\n",
       "\\item[TOV\\textbackslash{}\\_Pct] -0.0551807178210624\n",
       "\\item[Three\\textbackslash{}\\_Pt\\textbackslash{}\\_AR] -0.117338687388143\n",
       "\\item[ORB\\textbackslash{}\\_Pct] -0.136844167113752\n",
       "\\end{description*}\n"
      ],
      "text/markdown": [
       "Salary\n",
       ":   1PTS\n",
       ":   0.719117333615104FG\n",
       ":   0.711850927952402FGA\n",
       ":   0.696682364652981VORP\n",
       ":   0.676849263670964Two_Pt_Atmps\n",
       ":   0.671582023402601Two_Pt_Made\n",
       ":   0.667555069263793FT\n",
       ":   0.664551038987561FTA\n",
       ":   0.659589598809739TOV\n",
       ":   0.643108124148347MP\n",
       ":   0.641738531198789WS\n",
       ":   0.616237274081382OBPM\n",
       ":   0.600029686687197AST\n",
       ":   0.589103592621796GS\n",
       ":   0.588925761322256OWS\n",
       ":   0.576552683257037DRB\n",
       ":   0.567757639808088BPM\n",
       ":   0.557745636231027USG_Pct\n",
       ":   0.556511368877362DWS\n",
       ":   0.54986903560955Total_Minutes\n",
       ":   0.546376574600698PER\n",
       ":   0.537313492338413TRB\n",
       ":   0.49252547862479Three_Pt_Atmps\n",
       ":   0.473962854615802Three_Pts_Made\n",
       ":   0.462165503320743STL\n",
       ":   0.461630484966273AST_Pct\n",
       ":   0.454732106106759Age\n",
       ":   0.413798411932009PF\n",
       ":   0.386116203200182WS.48\n",
       ":   0.344892591290458GP\n",
       ":   0.300933603090579BLK\n",
       ":   0.290886228345792ORB\n",
       ":   0.200239801787085TS_Pct\n",
       ":   0.192096517697566FTr\n",
       ":   0.175045774315853FT_Pct\n",
       ":   0.156512246136795FG.\n",
       ":   0.129498721073009eFG_Pct\n",
       ":   0.120427851190921DRB_Pct\n",
       ":   0.114723798879461DBPM\n",
       ":   0.112137653953824Three_Pt_Pct\n",
       ":   0.0667153966059242Two_Pt_Pct\n",
       ":   0.0439189197683203TRB_Pct\n",
       ":   0.0207517589999822STL_Pct\n",
       ":   -0.000338574667090805BLK_Pct\n",
       ":   -0.0465065931881517TOV_Pct\n",
       ":   -0.0551807178210624Three_Pt_AR\n",
       ":   -0.117338687388143ORB_Pct\n",
       ":   -0.136844167113752\n",
       "\n"
      ],
      "text/plain": [
       "        Salary            PTS             FG            FGA           VORP \n",
       "  1.0000000000   0.7191173336   0.7118509280   0.6966823647   0.6768492637 \n",
       "  Two_Pt_Atmps    Two_Pt_Made             FT            FTA            TOV \n",
       "  0.6715820234   0.6675550693   0.6645510390   0.6595895988   0.6431081241 \n",
       "            MP             WS           OBPM            AST             GS \n",
       "  0.6417385312   0.6162372741   0.6000296867   0.5891035926   0.5889257613 \n",
       "           OWS            DRB            BPM        USG_Pct            DWS \n",
       "  0.5765526833   0.5677576398   0.5577456362   0.5565113689   0.5498690356 \n",
       " Total_Minutes            PER            TRB Three_Pt_Atmps Three_Pts_Made \n",
       "  0.5463765746   0.5373134923   0.4925254786   0.4739628546   0.4621655033 \n",
       "           STL        AST_Pct            Age             PF          WS.48 \n",
       "  0.4616304850   0.4547321061   0.4137984119   0.3861162032   0.3448925913 \n",
       "            GP            BLK            ORB         TS_Pct            FTr \n",
       "  0.3009336031   0.2908862283   0.2002398018   0.1920965177   0.1750457743 \n",
       "        FT_Pct            FG.        eFG_Pct        DRB_Pct           DBPM \n",
       "  0.1565122461   0.1294987211   0.1204278512   0.1147237989   0.1121376540 \n",
       "  Three_Pt_Pct     Two_Pt_Pct        TRB_Pct        STL_Pct        BLK_Pct \n",
       "  0.0667153966   0.0439189198   0.0207517590  -0.0003385747  -0.0465065932 \n",
       "       TOV_Pct    Three_Pt_AR        ORB_Pct \n",
       " -0.0551807178  -0.1173386874  -0.1368441671 "
      ]
     },
     "metadata": {},
     "output_type": "display_data"
    }
   ],
   "source": [
    "\n",
    "#heatmap(cor_matrix)\n",
    "\n",
    "salary_correlations <- cor_matrix[\"Salary\", ]\n",
    "\n",
    "sorted_salary_correlations <- sort(salary_correlations, decreasing = TRUE)\n",
    "\n",
    "sorted_salary_correlations"
   ]
  },
  {
   "cell_type": "markdown",
   "id": "d27d1679-5d04-4166-b547-05b23aaddfee",
   "metadata": {},
   "source": [
    "Beautiful. Now we can see the top performance metrics that have the strongest correlation to salary. The number one statistic being PTS (Average points scored per game). \n",
    "\n",
    "Now, we have a few good stats to use when building our predictive model. "
   ]
  },
  {
   "cell_type": "markdown",
   "id": "12410aa1-4b83-429a-b16a-30fea2a024cc",
   "metadata": {},
   "source": [
    "### 4. Feature Selection:\n",
    "- Based on the EDA and correlation analysis, select relevant features for modeling.\n",
    "- Consider excluding columns that may not contribute to the prediction of salary"
   ]
  },
  {
   "cell_type": "markdown",
   "id": "3f49636f-cf11-4782-8759-f975f73a5c37",
   "metadata": {},
   "source": [
    "Let's begin by exploring an obvious relationship, the correlation between Points Per Game and Salary."
   ]
  },
  {
   "cell_type": "code",
   "execution_count": 15,
   "id": "10bfd583-65c2-47c5-8dfc-d08c404e84a4",
   "metadata": {},
   "outputs": [
    {
     "data": {
      "image/png": "[encoded data removed]",
      "text/plain": [
       "plot without title"
      ]
     },
     "metadata": {},
     "output_type": "display_data"
    }
   ],
   "source": [
    "ppg_correlation <- ggplot(NBA_salary_data, aes(x = PTS, y = Salary)) +\n",
    "geom_point(alpha = 0.4) +\n",
    "xlab(\"Points per game\") +\n",
    "ylab(\"Yearly Salary (USD)\") +\n",
    "theme(text = element_text(size = 12))\n",
    "\n",
    "ppg_correlation"
   ]
  },
  {
   "cell_type": "markdown",
   "id": "76000355-7dc3-46b0-abea-8d8926bb6d93",
   "metadata": {},
   "source": [
    "We can see from the plot that there is a somewhat linear relationship between points per game and yearly salary of NBA players. Since the team with more points ultimately wins games, this makes sense. However, in order to see which statistic has the highest correlation, we need to create a correlation matrix. \n",
    "\n",
    "However, we don't want to run it with ALL the variables, as some will very likely not have any correlation at all (such as steal percentage). We must first select the top 6 best guesses and then create a correlation matrix. "
   ]
  },
  {
   "cell_type": "markdown",
   "id": "fda3f67c-1a3e-4d38-922c-fd71e9adf73f",
   "metadata": {},
   "source": [
    "### Analysis and"
   ]
  },
  {
   "cell_type": "code",
   "execution_count": null,
   "id": "3ee78408-887b-4e9b-b7a9-1e1944037562",
   "metadata": {},
   "outputs": [],
   "source": [
    "##Test commit"
   ]
  },
  {
   "cell_type": "markdown",
   "id": "b891447b-a8e8-4400-9a43-e144a8e6d888",
   "metadata": {},
   "source": [
    "### Discussion"
   ]
  },
  {
   "cell_type": "markdown",
   "id": "37e5dbc5-e66d-426d-b72f-27ecff1e6d6f",
   "metadata": {},
   "source": [
    "### References"
   ]
  },
  {
   "cell_type": "code",
   "execution_count": null,
   "id": "c2fde351-57cf-4e15-a7e1-d9d6c817e174",
   "metadata": {},
   "outputs": [],
   "source": []
  }
 ],
 "metadata": {
  "kernelspec": {
   "display_name": "R",
   "language": "R",
   "name": "ir"
  },
  "language_info": {
   "codemirror_mode": "r",
   "file_extension": ".r",
   "mimetype": "text/x-r-source",
   "name": "R",
   "pygments_lexer": "r",
   "version": "3.6.1"
  }
 },
 "nbformat": 4,
 "nbformat_minor": 5
}
